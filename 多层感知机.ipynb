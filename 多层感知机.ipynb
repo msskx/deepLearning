{
  "nbformat": 4,
  "nbformat_minor": 0,
  "metadata": {
    "colab": {
      "provenance": [],
      "mount_file_id": "1bYMceckUj5g_XrarbMve5W9iy7vkRBxc",
      "authorship_tag": "ABX9TyPdRbV7ik+pnyHMnN9Gawon",
      "include_colab_link": true
    },
    "kernelspec": {
      "name": "python3",
      "display_name": "Python 3"
    },
    "language_info": {
      "name": "python"
    }
  },
  "cells": [
    {
      "cell_type": "markdown",
      "metadata": {
        "id": "view-in-github",
        "colab_type": "text"
      },
      "source": [
        "<a href=\"https://colab.research.google.com/github/msskx/deepLearning/blob/main/%E5%A4%9A%E5%B1%82%E6%84%9F%E7%9F%A5%E6%9C%BA.ipynb\" target=\"_parent\"><img src=\"https://colab.research.google.com/assets/colab-badge.svg\" alt=\"Open In Colab\"/></a>"
      ]
    },
    {
      "cell_type": "code",
      "execution_count": 3,
      "metadata": {
        "id": "kE8Th3rl8yWE"
      },
      "outputs": [],
      "source": [
        "import torch \n",
        "import pandas as pd \n",
        "import numpy as np\n",
        "from matplotlib import pyplot as plt\n",
        "%matplotlib inline"
      ]
    },
    {
      "cell_type": "code",
      "source": [
        "from google.colab import drive\n",
        "drive.mount('/content/drive')"
      ],
      "metadata": {
        "id": "McSV0tP-XS5j",
        "outputId": "93212686-9ef5-4ad6-ccb1-f8892ca87e39",
        "colab": {
          "base_uri": "https://localhost:8080/"
        }
      },
      "execution_count": 2,
      "outputs": [
        {
          "output_type": "stream",
          "name": "stdout",
          "text": [
            "Mounted at /content/drive\n"
          ]
        }
      ]
    },
    {
      "cell_type": "code",
      "source": [
        "data=pd.read_csv(\"/content/drive/MyDrive/torch学习笔记/HR.csv\")"
      ],
      "metadata": {
        "id": "rrKSw3iOCQMH"
      },
      "execution_count": 4,
      "outputs": []
    },
    {
      "cell_type": "code",
      "source": [
        "data.head()"
      ],
      "metadata": {
        "colab": {
          "base_uri": "https://localhost:8080/",
          "height": 250
        },
        "id": "-RSJQcaPCW0g",
        "outputId": "89d587ed-9825-40db-fe7e-eaa8e8a7103c"
      },
      "execution_count": 5,
      "outputs": [
        {
          "output_type": "execute_result",
          "data": {
            "text/plain": [
              "   satisfaction_level  last_evaluation  number_project  average_montly_hours  \\\n",
              "0                0.38             0.53               2                   157   \n",
              "1                0.80             0.86               5                   262   \n",
              "2                0.11             0.88               7                   272   \n",
              "3                0.72             0.87               5                   223   \n",
              "4                0.37             0.52               2                   159   \n",
              "\n",
              "   time_spend_company  Work_accident  left  promotion_last_5years   part  \\\n",
              "0                   3              0     1                      0  sales   \n",
              "1                   6              0     1                      0  sales   \n",
              "2                   4              0     1                      0  sales   \n",
              "3                   5              0     1                      0  sales   \n",
              "4                   3              0     1                      0  sales   \n",
              "\n",
              "   salary  \n",
              "0     low  \n",
              "1  medium  \n",
              "2  medium  \n",
              "3     low  \n",
              "4     low  "
            ],
            "text/html": [
              "\n",
              "  <div id=\"df-365bf86b-3319-49bd-9687-7506c09129ff\">\n",
              "    <div class=\"colab-df-container\">\n",
              "      <div>\n",
              "<style scoped>\n",
              "    .dataframe tbody tr th:only-of-type {\n",
              "        vertical-align: middle;\n",
              "    }\n",
              "\n",
              "    .dataframe tbody tr th {\n",
              "        vertical-align: top;\n",
              "    }\n",
              "\n",
              "    .dataframe thead th {\n",
              "        text-align: right;\n",
              "    }\n",
              "</style>\n",
              "<table border=\"1\" class=\"dataframe\">\n",
              "  <thead>\n",
              "    <tr style=\"text-align: right;\">\n",
              "      <th></th>\n",
              "      <th>satisfaction_level</th>\n",
              "      <th>last_evaluation</th>\n",
              "      <th>number_project</th>\n",
              "      <th>average_montly_hours</th>\n",
              "      <th>time_spend_company</th>\n",
              "      <th>Work_accident</th>\n",
              "      <th>left</th>\n",
              "      <th>promotion_last_5years</th>\n",
              "      <th>part</th>\n",
              "      <th>salary</th>\n",
              "    </tr>\n",
              "  </thead>\n",
              "  <tbody>\n",
              "    <tr>\n",
              "      <th>0</th>\n",
              "      <td>0.38</td>\n",
              "      <td>0.53</td>\n",
              "      <td>2</td>\n",
              "      <td>157</td>\n",
              "      <td>3</td>\n",
              "      <td>0</td>\n",
              "      <td>1</td>\n",
              "      <td>0</td>\n",
              "      <td>sales</td>\n",
              "      <td>low</td>\n",
              "    </tr>\n",
              "    <tr>\n",
              "      <th>1</th>\n",
              "      <td>0.80</td>\n",
              "      <td>0.86</td>\n",
              "      <td>5</td>\n",
              "      <td>262</td>\n",
              "      <td>6</td>\n",
              "      <td>0</td>\n",
              "      <td>1</td>\n",
              "      <td>0</td>\n",
              "      <td>sales</td>\n",
              "      <td>medium</td>\n",
              "    </tr>\n",
              "    <tr>\n",
              "      <th>2</th>\n",
              "      <td>0.11</td>\n",
              "      <td>0.88</td>\n",
              "      <td>7</td>\n",
              "      <td>272</td>\n",
              "      <td>4</td>\n",
              "      <td>0</td>\n",
              "      <td>1</td>\n",
              "      <td>0</td>\n",
              "      <td>sales</td>\n",
              "      <td>medium</td>\n",
              "    </tr>\n",
              "    <tr>\n",
              "      <th>3</th>\n",
              "      <td>0.72</td>\n",
              "      <td>0.87</td>\n",
              "      <td>5</td>\n",
              "      <td>223</td>\n",
              "      <td>5</td>\n",
              "      <td>0</td>\n",
              "      <td>1</td>\n",
              "      <td>0</td>\n",
              "      <td>sales</td>\n",
              "      <td>low</td>\n",
              "    </tr>\n",
              "    <tr>\n",
              "      <th>4</th>\n",
              "      <td>0.37</td>\n",
              "      <td>0.52</td>\n",
              "      <td>2</td>\n",
              "      <td>159</td>\n",
              "      <td>3</td>\n",
              "      <td>0</td>\n",
              "      <td>1</td>\n",
              "      <td>0</td>\n",
              "      <td>sales</td>\n",
              "      <td>low</td>\n",
              "    </tr>\n",
              "  </tbody>\n",
              "</table>\n",
              "</div>\n",
              "      <button class=\"colab-df-convert\" onclick=\"convertToInteractive('df-365bf86b-3319-49bd-9687-7506c09129ff')\"\n",
              "              title=\"Convert this dataframe to an interactive table.\"\n",
              "              style=\"display:none;\">\n",
              "        \n",
              "  <svg xmlns=\"http://www.w3.org/2000/svg\" height=\"24px\"viewBox=\"0 0 24 24\"\n",
              "       width=\"24px\">\n",
              "    <path d=\"M0 0h24v24H0V0z\" fill=\"none\"/>\n",
              "    <path d=\"M18.56 5.44l.94 2.06.94-2.06 2.06-.94-2.06-.94-.94-2.06-.94 2.06-2.06.94zm-11 1L8.5 8.5l.94-2.06 2.06-.94-2.06-.94L8.5 2.5l-.94 2.06-2.06.94zm10 10l.94 2.06.94-2.06 2.06-.94-2.06-.94-.94-2.06-.94 2.06-2.06.94z\"/><path d=\"M17.41 7.96l-1.37-1.37c-.4-.4-.92-.59-1.43-.59-.52 0-1.04.2-1.43.59L10.3 9.45l-7.72 7.72c-.78.78-.78 2.05 0 2.83L4 21.41c.39.39.9.59 1.41.59.51 0 1.02-.2 1.41-.59l7.78-7.78 2.81-2.81c.8-.78.8-2.07 0-2.86zM5.41 20L4 18.59l7.72-7.72 1.47 1.35L5.41 20z\"/>\n",
              "  </svg>\n",
              "      </button>\n",
              "      \n",
              "  <style>\n",
              "    .colab-df-container {\n",
              "      display:flex;\n",
              "      flex-wrap:wrap;\n",
              "      gap: 12px;\n",
              "    }\n",
              "\n",
              "    .colab-df-convert {\n",
              "      background-color: #E8F0FE;\n",
              "      border: none;\n",
              "      border-radius: 50%;\n",
              "      cursor: pointer;\n",
              "      display: none;\n",
              "      fill: #1967D2;\n",
              "      height: 32px;\n",
              "      padding: 0 0 0 0;\n",
              "      width: 32px;\n",
              "    }\n",
              "\n",
              "    .colab-df-convert:hover {\n",
              "      background-color: #E2EBFA;\n",
              "      box-shadow: 0px 1px 2px rgba(60, 64, 67, 0.3), 0px 1px 3px 1px rgba(60, 64, 67, 0.15);\n",
              "      fill: #174EA6;\n",
              "    }\n",
              "\n",
              "    [theme=dark] .colab-df-convert {\n",
              "      background-color: #3B4455;\n",
              "      fill: #D2E3FC;\n",
              "    }\n",
              "\n",
              "    [theme=dark] .colab-df-convert:hover {\n",
              "      background-color: #434B5C;\n",
              "      box-shadow: 0px 1px 3px 1px rgba(0, 0, 0, 0.15);\n",
              "      filter: drop-shadow(0px 1px 2px rgba(0, 0, 0, 0.3));\n",
              "      fill: #FFFFFF;\n",
              "    }\n",
              "  </style>\n",
              "\n",
              "      <script>\n",
              "        const buttonEl =\n",
              "          document.querySelector('#df-365bf86b-3319-49bd-9687-7506c09129ff button.colab-df-convert');\n",
              "        buttonEl.style.display =\n",
              "          google.colab.kernel.accessAllowed ? 'block' : 'none';\n",
              "\n",
              "        async function convertToInteractive(key) {\n",
              "          const element = document.querySelector('#df-365bf86b-3319-49bd-9687-7506c09129ff');\n",
              "          const dataTable =\n",
              "            await google.colab.kernel.invokeFunction('convertToInteractive',\n",
              "                                                     [key], {});\n",
              "          if (!dataTable) return;\n",
              "\n",
              "          const docLinkHtml = 'Like what you see? Visit the ' +\n",
              "            '<a target=\"_blank\" href=https://colab.research.google.com/notebooks/data_table.ipynb>data table notebook</a>'\n",
              "            + ' to learn more about interactive tables.';\n",
              "          element.innerHTML = '';\n",
              "          dataTable['output_type'] = 'display_data';\n",
              "          await google.colab.output.renderOutput(dataTable, element);\n",
              "          const docLink = document.createElement('div');\n",
              "          docLink.innerHTML = docLinkHtml;\n",
              "          element.appendChild(docLink);\n",
              "        }\n",
              "      </script>\n",
              "    </div>\n",
              "  </div>\n",
              "  "
            ]
          },
          "metadata": {},
          "execution_count": 5
        }
      ]
    },
    {
      "cell_type": "code",
      "source": [
        "data.info()"
      ],
      "metadata": {
        "colab": {
          "base_uri": "https://localhost:8080/"
        },
        "id": "94AstC8TCZUj",
        "outputId": "d33bb088-66a1-4361-f590-e3d9a8392d5d"
      },
      "execution_count": 6,
      "outputs": [
        {
          "output_type": "stream",
          "name": "stdout",
          "text": [
            "<class 'pandas.core.frame.DataFrame'>\n",
            "RangeIndex: 14999 entries, 0 to 14998\n",
            "Data columns (total 10 columns):\n",
            " #   Column                 Non-Null Count  Dtype  \n",
            "---  ------                 --------------  -----  \n",
            " 0   satisfaction_level     14999 non-null  float64\n",
            " 1   last_evaluation        14999 non-null  float64\n",
            " 2   number_project         14999 non-null  int64  \n",
            " 3   average_montly_hours   14999 non-null  int64  \n",
            " 4   time_spend_company     14999 non-null  int64  \n",
            " 5   Work_accident          14999 non-null  int64  \n",
            " 6   left                   14999 non-null  int64  \n",
            " 7   promotion_last_5years  14999 non-null  int64  \n",
            " 8   part                   14999 non-null  object \n",
            " 9   salary                 14999 non-null  object \n",
            "dtypes: float64(2), int64(6), object(2)\n",
            "memory usage: 1.1+ MB\n"
          ]
        }
      ]
    },
    {
      "cell_type": "code",
      "source": [
        "data=data.join(pd.get_dummies(data.part))\n",
        "data=data.join(pd.get_dummies(data.salary))"
      ],
      "metadata": {
        "id": "fniehY9vCfh9"
      },
      "execution_count": 7,
      "outputs": []
    },
    {
      "cell_type": "code",
      "source": [
        "del data['part']\n",
        "del data['salary']"
      ],
      "metadata": {
        "id": "hxc6zpucC8YN"
      },
      "execution_count": 8,
      "outputs": []
    },
    {
      "cell_type": "code",
      "source": [
        "data"
      ],
      "metadata": {
        "colab": {
          "base_uri": "https://localhost:8080/",
          "height": 488
        },
        "id": "qdYIh-xPDIlc",
        "outputId": "2e7289ee-2521-437a-c7b0-253ee664f04e"
      },
      "execution_count": 9,
      "outputs": [
        {
          "output_type": "execute_result",
          "data": {
            "text/plain": [
              "       satisfaction_level  last_evaluation  number_project  \\\n",
              "0                    0.38             0.53               2   \n",
              "1                    0.80             0.86               5   \n",
              "2                    0.11             0.88               7   \n",
              "3                    0.72             0.87               5   \n",
              "4                    0.37             0.52               2   \n",
              "...                   ...              ...             ...   \n",
              "14994                0.40             0.57               2   \n",
              "14995                0.37             0.48               2   \n",
              "14996                0.37             0.53               2   \n",
              "14997                0.11             0.96               6   \n",
              "14998                0.37             0.52               2   \n",
              "\n",
              "       average_montly_hours  time_spend_company  Work_accident  left  \\\n",
              "0                       157                   3              0     1   \n",
              "1                       262                   6              0     1   \n",
              "2                       272                   4              0     1   \n",
              "3                       223                   5              0     1   \n",
              "4                       159                   3              0     1   \n",
              "...                     ...                 ...            ...   ...   \n",
              "14994                   151                   3              0     1   \n",
              "14995                   160                   3              0     1   \n",
              "14996                   143                   3              0     1   \n",
              "14997                   280                   4              0     1   \n",
              "14998                   158                   3              0     1   \n",
              "\n",
              "       promotion_last_5years  IT  RandD  ...  hr  management  marketing  \\\n",
              "0                          0   0      0  ...   0           0          0   \n",
              "1                          0   0      0  ...   0           0          0   \n",
              "2                          0   0      0  ...   0           0          0   \n",
              "3                          0   0      0  ...   0           0          0   \n",
              "4                          0   0      0  ...   0           0          0   \n",
              "...                      ...  ..    ...  ...  ..         ...        ...   \n",
              "14994                      0   0      0  ...   0           0          0   \n",
              "14995                      0   0      0  ...   0           0          0   \n",
              "14996                      0   0      0  ...   0           0          0   \n",
              "14997                      0   0      0  ...   0           0          0   \n",
              "14998                      0   0      0  ...   0           0          0   \n",
              "\n",
              "       product_mng  sales  support  technical  high  low  medium  \n",
              "0                0      1        0          0     0    1       0  \n",
              "1                0      1        0          0     0    0       1  \n",
              "2                0      1        0          0     0    0       1  \n",
              "3                0      1        0          0     0    1       0  \n",
              "4                0      1        0          0     0    1       0  \n",
              "...            ...    ...      ...        ...   ...  ...     ...  \n",
              "14994            0      0        1          0     0    1       0  \n",
              "14995            0      0        1          0     0    1       0  \n",
              "14996            0      0        1          0     0    1       0  \n",
              "14997            0      0        1          0     0    1       0  \n",
              "14998            0      0        1          0     0    1       0  \n",
              "\n",
              "[14999 rows x 21 columns]"
            ],
            "text/html": [
              "\n",
              "  <div id=\"df-de940ce0-e448-436a-8bd2-c994304e3930\">\n",
              "    <div class=\"colab-df-container\">\n",
              "      <div>\n",
              "<style scoped>\n",
              "    .dataframe tbody tr th:only-of-type {\n",
              "        vertical-align: middle;\n",
              "    }\n",
              "\n",
              "    .dataframe tbody tr th {\n",
              "        vertical-align: top;\n",
              "    }\n",
              "\n",
              "    .dataframe thead th {\n",
              "        text-align: right;\n",
              "    }\n",
              "</style>\n",
              "<table border=\"1\" class=\"dataframe\">\n",
              "  <thead>\n",
              "    <tr style=\"text-align: right;\">\n",
              "      <th></th>\n",
              "      <th>satisfaction_level</th>\n",
              "      <th>last_evaluation</th>\n",
              "      <th>number_project</th>\n",
              "      <th>average_montly_hours</th>\n",
              "      <th>time_spend_company</th>\n",
              "      <th>Work_accident</th>\n",
              "      <th>left</th>\n",
              "      <th>promotion_last_5years</th>\n",
              "      <th>IT</th>\n",
              "      <th>RandD</th>\n",
              "      <th>...</th>\n",
              "      <th>hr</th>\n",
              "      <th>management</th>\n",
              "      <th>marketing</th>\n",
              "      <th>product_mng</th>\n",
              "      <th>sales</th>\n",
              "      <th>support</th>\n",
              "      <th>technical</th>\n",
              "      <th>high</th>\n",
              "      <th>low</th>\n",
              "      <th>medium</th>\n",
              "    </tr>\n",
              "  </thead>\n",
              "  <tbody>\n",
              "    <tr>\n",
              "      <th>0</th>\n",
              "      <td>0.38</td>\n",
              "      <td>0.53</td>\n",
              "      <td>2</td>\n",
              "      <td>157</td>\n",
              "      <td>3</td>\n",
              "      <td>0</td>\n",
              "      <td>1</td>\n",
              "      <td>0</td>\n",
              "      <td>0</td>\n",
              "      <td>0</td>\n",
              "      <td>...</td>\n",
              "      <td>0</td>\n",
              "      <td>0</td>\n",
              "      <td>0</td>\n",
              "      <td>0</td>\n",
              "      <td>1</td>\n",
              "      <td>0</td>\n",
              "      <td>0</td>\n",
              "      <td>0</td>\n",
              "      <td>1</td>\n",
              "      <td>0</td>\n",
              "    </tr>\n",
              "    <tr>\n",
              "      <th>1</th>\n",
              "      <td>0.80</td>\n",
              "      <td>0.86</td>\n",
              "      <td>5</td>\n",
              "      <td>262</td>\n",
              "      <td>6</td>\n",
              "      <td>0</td>\n",
              "      <td>1</td>\n",
              "      <td>0</td>\n",
              "      <td>0</td>\n",
              "      <td>0</td>\n",
              "      <td>...</td>\n",
              "      <td>0</td>\n",
              "      <td>0</td>\n",
              "      <td>0</td>\n",
              "      <td>0</td>\n",
              "      <td>1</td>\n",
              "      <td>0</td>\n",
              "      <td>0</td>\n",
              "      <td>0</td>\n",
              "      <td>0</td>\n",
              "      <td>1</td>\n",
              "    </tr>\n",
              "    <tr>\n",
              "      <th>2</th>\n",
              "      <td>0.11</td>\n",
              "      <td>0.88</td>\n",
              "      <td>7</td>\n",
              "      <td>272</td>\n",
              "      <td>4</td>\n",
              "      <td>0</td>\n",
              "      <td>1</td>\n",
              "      <td>0</td>\n",
              "      <td>0</td>\n",
              "      <td>0</td>\n",
              "      <td>...</td>\n",
              "      <td>0</td>\n",
              "      <td>0</td>\n",
              "      <td>0</td>\n",
              "      <td>0</td>\n",
              "      <td>1</td>\n",
              "      <td>0</td>\n",
              "      <td>0</td>\n",
              "      <td>0</td>\n",
              "      <td>0</td>\n",
              "      <td>1</td>\n",
              "    </tr>\n",
              "    <tr>\n",
              "      <th>3</th>\n",
              "      <td>0.72</td>\n",
              "      <td>0.87</td>\n",
              "      <td>5</td>\n",
              "      <td>223</td>\n",
              "      <td>5</td>\n",
              "      <td>0</td>\n",
              "      <td>1</td>\n",
              "      <td>0</td>\n",
              "      <td>0</td>\n",
              "      <td>0</td>\n",
              "      <td>...</td>\n",
              "      <td>0</td>\n",
              "      <td>0</td>\n",
              "      <td>0</td>\n",
              "      <td>0</td>\n",
              "      <td>1</td>\n",
              "      <td>0</td>\n",
              "      <td>0</td>\n",
              "      <td>0</td>\n",
              "      <td>1</td>\n",
              "      <td>0</td>\n",
              "    </tr>\n",
              "    <tr>\n",
              "      <th>4</th>\n",
              "      <td>0.37</td>\n",
              "      <td>0.52</td>\n",
              "      <td>2</td>\n",
              "      <td>159</td>\n",
              "      <td>3</td>\n",
              "      <td>0</td>\n",
              "      <td>1</td>\n",
              "      <td>0</td>\n",
              "      <td>0</td>\n",
              "      <td>0</td>\n",
              "      <td>...</td>\n",
              "      <td>0</td>\n",
              "      <td>0</td>\n",
              "      <td>0</td>\n",
              "      <td>0</td>\n",
              "      <td>1</td>\n",
              "      <td>0</td>\n",
              "      <td>0</td>\n",
              "      <td>0</td>\n",
              "      <td>1</td>\n",
              "      <td>0</td>\n",
              "    </tr>\n",
              "    <tr>\n",
              "      <th>...</th>\n",
              "      <td>...</td>\n",
              "      <td>...</td>\n",
              "      <td>...</td>\n",
              "      <td>...</td>\n",
              "      <td>...</td>\n",
              "      <td>...</td>\n",
              "      <td>...</td>\n",
              "      <td>...</td>\n",
              "      <td>...</td>\n",
              "      <td>...</td>\n",
              "      <td>...</td>\n",
              "      <td>...</td>\n",
              "      <td>...</td>\n",
              "      <td>...</td>\n",
              "      <td>...</td>\n",
              "      <td>...</td>\n",
              "      <td>...</td>\n",
              "      <td>...</td>\n",
              "      <td>...</td>\n",
              "      <td>...</td>\n",
              "      <td>...</td>\n",
              "    </tr>\n",
              "    <tr>\n",
              "      <th>14994</th>\n",
              "      <td>0.40</td>\n",
              "      <td>0.57</td>\n",
              "      <td>2</td>\n",
              "      <td>151</td>\n",
              "      <td>3</td>\n",
              "      <td>0</td>\n",
              "      <td>1</td>\n",
              "      <td>0</td>\n",
              "      <td>0</td>\n",
              "      <td>0</td>\n",
              "      <td>...</td>\n",
              "      <td>0</td>\n",
              "      <td>0</td>\n",
              "      <td>0</td>\n",
              "      <td>0</td>\n",
              "      <td>0</td>\n",
              "      <td>1</td>\n",
              "      <td>0</td>\n",
              "      <td>0</td>\n",
              "      <td>1</td>\n",
              "      <td>0</td>\n",
              "    </tr>\n",
              "    <tr>\n",
              "      <th>14995</th>\n",
              "      <td>0.37</td>\n",
              "      <td>0.48</td>\n",
              "      <td>2</td>\n",
              "      <td>160</td>\n",
              "      <td>3</td>\n",
              "      <td>0</td>\n",
              "      <td>1</td>\n",
              "      <td>0</td>\n",
              "      <td>0</td>\n",
              "      <td>0</td>\n",
              "      <td>...</td>\n",
              "      <td>0</td>\n",
              "      <td>0</td>\n",
              "      <td>0</td>\n",
              "      <td>0</td>\n",
              "      <td>0</td>\n",
              "      <td>1</td>\n",
              "      <td>0</td>\n",
              "      <td>0</td>\n",
              "      <td>1</td>\n",
              "      <td>0</td>\n",
              "    </tr>\n",
              "    <tr>\n",
              "      <th>14996</th>\n",
              "      <td>0.37</td>\n",
              "      <td>0.53</td>\n",
              "      <td>2</td>\n",
              "      <td>143</td>\n",
              "      <td>3</td>\n",
              "      <td>0</td>\n",
              "      <td>1</td>\n",
              "      <td>0</td>\n",
              "      <td>0</td>\n",
              "      <td>0</td>\n",
              "      <td>...</td>\n",
              "      <td>0</td>\n",
              "      <td>0</td>\n",
              "      <td>0</td>\n",
              "      <td>0</td>\n",
              "      <td>0</td>\n",
              "      <td>1</td>\n",
              "      <td>0</td>\n",
              "      <td>0</td>\n",
              "      <td>1</td>\n",
              "      <td>0</td>\n",
              "    </tr>\n",
              "    <tr>\n",
              "      <th>14997</th>\n",
              "      <td>0.11</td>\n",
              "      <td>0.96</td>\n",
              "      <td>6</td>\n",
              "      <td>280</td>\n",
              "      <td>4</td>\n",
              "      <td>0</td>\n",
              "      <td>1</td>\n",
              "      <td>0</td>\n",
              "      <td>0</td>\n",
              "      <td>0</td>\n",
              "      <td>...</td>\n",
              "      <td>0</td>\n",
              "      <td>0</td>\n",
              "      <td>0</td>\n",
              "      <td>0</td>\n",
              "      <td>0</td>\n",
              "      <td>1</td>\n",
              "      <td>0</td>\n",
              "      <td>0</td>\n",
              "      <td>1</td>\n",
              "      <td>0</td>\n",
              "    </tr>\n",
              "    <tr>\n",
              "      <th>14998</th>\n",
              "      <td>0.37</td>\n",
              "      <td>0.52</td>\n",
              "      <td>2</td>\n",
              "      <td>158</td>\n",
              "      <td>3</td>\n",
              "      <td>0</td>\n",
              "      <td>1</td>\n",
              "      <td>0</td>\n",
              "      <td>0</td>\n",
              "      <td>0</td>\n",
              "      <td>...</td>\n",
              "      <td>0</td>\n",
              "      <td>0</td>\n",
              "      <td>0</td>\n",
              "      <td>0</td>\n",
              "      <td>0</td>\n",
              "      <td>1</td>\n",
              "      <td>0</td>\n",
              "      <td>0</td>\n",
              "      <td>1</td>\n",
              "      <td>0</td>\n",
              "    </tr>\n",
              "  </tbody>\n",
              "</table>\n",
              "<p>14999 rows × 21 columns</p>\n",
              "</div>\n",
              "      <button class=\"colab-df-convert\" onclick=\"convertToInteractive('df-de940ce0-e448-436a-8bd2-c994304e3930')\"\n",
              "              title=\"Convert this dataframe to an interactive table.\"\n",
              "              style=\"display:none;\">\n",
              "        \n",
              "  <svg xmlns=\"http://www.w3.org/2000/svg\" height=\"24px\"viewBox=\"0 0 24 24\"\n",
              "       width=\"24px\">\n",
              "    <path d=\"M0 0h24v24H0V0z\" fill=\"none\"/>\n",
              "    <path d=\"M18.56 5.44l.94 2.06.94-2.06 2.06-.94-2.06-.94-.94-2.06-.94 2.06-2.06.94zm-11 1L8.5 8.5l.94-2.06 2.06-.94-2.06-.94L8.5 2.5l-.94 2.06-2.06.94zm10 10l.94 2.06.94-2.06 2.06-.94-2.06-.94-.94-2.06-.94 2.06-2.06.94z\"/><path d=\"M17.41 7.96l-1.37-1.37c-.4-.4-.92-.59-1.43-.59-.52 0-1.04.2-1.43.59L10.3 9.45l-7.72 7.72c-.78.78-.78 2.05 0 2.83L4 21.41c.39.39.9.59 1.41.59.51 0 1.02-.2 1.41-.59l7.78-7.78 2.81-2.81c.8-.78.8-2.07 0-2.86zM5.41 20L4 18.59l7.72-7.72 1.47 1.35L5.41 20z\"/>\n",
              "  </svg>\n",
              "      </button>\n",
              "      \n",
              "  <style>\n",
              "    .colab-df-container {\n",
              "      display:flex;\n",
              "      flex-wrap:wrap;\n",
              "      gap: 12px;\n",
              "    }\n",
              "\n",
              "    .colab-df-convert {\n",
              "      background-color: #E8F0FE;\n",
              "      border: none;\n",
              "      border-radius: 50%;\n",
              "      cursor: pointer;\n",
              "      display: none;\n",
              "      fill: #1967D2;\n",
              "      height: 32px;\n",
              "      padding: 0 0 0 0;\n",
              "      width: 32px;\n",
              "    }\n",
              "\n",
              "    .colab-df-convert:hover {\n",
              "      background-color: #E2EBFA;\n",
              "      box-shadow: 0px 1px 2px rgba(60, 64, 67, 0.3), 0px 1px 3px 1px rgba(60, 64, 67, 0.15);\n",
              "      fill: #174EA6;\n",
              "    }\n",
              "\n",
              "    [theme=dark] .colab-df-convert {\n",
              "      background-color: #3B4455;\n",
              "      fill: #D2E3FC;\n",
              "    }\n",
              "\n",
              "    [theme=dark] .colab-df-convert:hover {\n",
              "      background-color: #434B5C;\n",
              "      box-shadow: 0px 1px 3px 1px rgba(0, 0, 0, 0.15);\n",
              "      filter: drop-shadow(0px 1px 2px rgba(0, 0, 0, 0.3));\n",
              "      fill: #FFFFFF;\n",
              "    }\n",
              "  </style>\n",
              "\n",
              "      <script>\n",
              "        const buttonEl =\n",
              "          document.querySelector('#df-de940ce0-e448-436a-8bd2-c994304e3930 button.colab-df-convert');\n",
              "        buttonEl.style.display =\n",
              "          google.colab.kernel.accessAllowed ? 'block' : 'none';\n",
              "\n",
              "        async function convertToInteractive(key) {\n",
              "          const element = document.querySelector('#df-de940ce0-e448-436a-8bd2-c994304e3930');\n",
              "          const dataTable =\n",
              "            await google.colab.kernel.invokeFunction('convertToInteractive',\n",
              "                                                     [key], {});\n",
              "          if (!dataTable) return;\n",
              "\n",
              "          const docLinkHtml = 'Like what you see? Visit the ' +\n",
              "            '<a target=\"_blank\" href=https://colab.research.google.com/notebooks/data_table.ipynb>data table notebook</a>'\n",
              "            + ' to learn more about interactive tables.';\n",
              "          element.innerHTML = '';\n",
              "          dataTable['output_type'] = 'display_data';\n",
              "          await google.colab.output.renderOutput(dataTable, element);\n",
              "          const docLink = document.createElement('div');\n",
              "          docLink.innerHTML = docLinkHtml;\n",
              "          element.appendChild(docLink);\n",
              "        }\n",
              "      </script>\n",
              "    </div>\n",
              "  </div>\n",
              "  "
            ]
          },
          "metadata": {},
          "execution_count": 9
        }
      ]
    },
    {
      "cell_type": "code",
      "source": [
        "columns=[c for c in data.columns if c!='left']"
      ],
      "metadata": {
        "id": "XKXaUoa_DJ3w"
      },
      "execution_count": 10,
      "outputs": []
    },
    {
      "cell_type": "code",
      "source": [
        "x_data=torch.from_numpy(data[columns].values).type(torch.float32)"
      ],
      "metadata": {
        "id": "v0Xmjg9oDeJa"
      },
      "execution_count": 11,
      "outputs": []
    },
    {
      "cell_type": "code",
      "source": [
        "y_data=torch.from_numpy(data['left'].values.reshape(-1,1)).type(torch.float32)"
      ],
      "metadata": {
        "id": "WCRGN1x_D87D"
      },
      "execution_count": 12,
      "outputs": []
    },
    {
      "cell_type": "code",
      "source": [
        "x_data.size(),y_data.size()\n"
      ],
      "metadata": {
        "colab": {
          "base_uri": "https://localhost:8080/"
        },
        "id": "HFAZYkeKEZOW",
        "outputId": "03788ed9-edfa-4393-f041-ad452a0f6f0e"
      },
      "execution_count": 13,
      "outputs": [
        {
          "output_type": "execute_result",
          "data": {
            "text/plain": [
              "(torch.Size([14999, 20]), torch.Size([14999, 1]))"
            ]
          },
          "metadata": {},
          "execution_count": 13
        }
      ]
    },
    {
      "cell_type": "markdown",
      "source": [
        "## 自定义模型"
      ],
      "metadata": {
        "id": "X0rMKii5Gm5F"
      }
    },
    {
      "cell_type": "code",
      "source": [
        "from torch import nn"
      ],
      "metadata": {
        "id": "q9O9p9GEGtDi"
      },
      "execution_count": 14,
      "outputs": []
    },
    {
      "cell_type": "code",
      "source": [
        "from torch.nn.modules.linear import Linear\n",
        "class Model(nn.Module):\n",
        "  def __init__(self):\n",
        "    super().__init__()\n",
        "    self.liner_1=nn.Linear(20,64)\n",
        "    self.liner_2=nn.Linear(64,64)\n",
        "    self.liner_3=nn.Linear(64,1)\n",
        "    self.relu=nn.ReLU()\n",
        "    self.sigmoid=nn.Sigmoid()\n",
        "  def forward(self,input):\n",
        "    x=self.liner_1(input)\n",
        "    x=self.relu(x)\n",
        "    x=self.liner_2(x)\n",
        "    x=self.relu(x)\n",
        "    x=self.liner_3(x)\n",
        "    x=self.sigmoid(x)\n",
        "    return x"
      ],
      "metadata": {
        "id": "mG0e4jIREiBP"
      },
      "execution_count": 15,
      "outputs": []
    },
    {
      "cell_type": "code",
      "source": [
        "model=Model()"
      ],
      "metadata": {
        "id": "sCdCUaIPRmog"
      },
      "execution_count": 16,
      "outputs": []
    },
    {
      "cell_type": "markdown",
      "source": [
        "## 改写模型\n"
      ],
      "metadata": {
        "id": "3hSRWd6wU0eU"
      }
    },
    {
      "cell_type": "code",
      "source": [
        "import torch.nn.functional as F"
      ],
      "metadata": {
        "id": "xOH8JfJMRrME"
      },
      "execution_count": 17,
      "outputs": []
    },
    {
      "cell_type": "code",
      "source": [
        "class Model2(nn.Module):\n",
        "  def __init__(self):\n",
        "    super().__init__()\n",
        "    self.liner_1=nn.Linear(20,64)\n",
        "    self.liner_2=nn.Linear(64,64)\n",
        "    self.liner_3=nn.Linear(64,1)\n",
        "  def forward(self,input):\n",
        "    x=torch.relu(self.liner_1(input))\n",
        "    x=torch.relu(self.liner_2(x))\n",
        "    x=torch.sigmoid(self.liner_3(x))\n",
        "    return x"
      ],
      "metadata": {
        "id": "jqtZ-PqPU7MD"
      },
      "execution_count": 18,
      "outputs": []
    },
    {
      "cell_type": "code",
      "source": [
        "print(Model2())"
      ],
      "metadata": {
        "colab": {
          "base_uri": "https://localhost:8080/"
        },
        "id": "TJWOAweDVIAV",
        "outputId": "e07a61d3-f9f0-471b-b0a7-681fa62398b0"
      },
      "execution_count": 19,
      "outputs": [
        {
          "output_type": "stream",
          "name": "stdout",
          "text": [
            "Model2(\n",
            "  (liner_1): Linear(in_features=20, out_features=64, bias=True)\n",
            "  (liner_2): Linear(in_features=64, out_features=64, bias=True)\n",
            "  (liner_3): Linear(in_features=64, out_features=1, bias=True)\n",
            ")\n"
          ]
        }
      ]
    },
    {
      "cell_type": "code",
      "source": [
        "lr=0.0001\n",
        "\n",
        "def get_model():\n",
        "  model=Model2()\n",
        "  opt=torch.optim.Adam(model.parameters(),lr=lr)\n",
        "  return model,opt"
      ],
      "metadata": {
        "id": "KW3B3UOAVKLy"
      },
      "execution_count": 20,
      "outputs": []
    },
    {
      "cell_type": "code",
      "source": [
        "model,opt=get_model()"
      ],
      "metadata": {
        "id": "D1Kgq78_Wq7N"
      },
      "execution_count": 21,
      "outputs": []
    },
    {
      "cell_type": "code",
      "source": [
        "loss_fn=nn.BCELoss()"
      ],
      "metadata": {
        "id": "NDKOQQkCWuX5"
      },
      "execution_count": 22,
      "outputs": []
    },
    {
      "cell_type": "code",
      "source": [
        "batch=64\n",
        "no_of_batch=len(data)//batch\n",
        "epochs=100\n"
      ],
      "metadata": {
        "id": "JLByWxQmaJzx"
      },
      "execution_count": 23,
      "outputs": []
    },
    {
      "cell_type": "code",
      "source": [
        "for epoch in range(epochs):\n",
        "  for i in range(no_of_batch):\n",
        "    start=i*batch\n",
        "    end=start+batch\n",
        "    x=x_data[start:end]\n",
        "    y=y_data[start:end]\n",
        "    y_pred=model(x)\n",
        "    loss=loss_fn(y_pred,y)\n",
        "    opt.zero_grad()\n",
        "    loss.backward()\n",
        "    opt.step()\n",
        "  # with torch.no_grad():\n",
        "  #   print(\"epoch:{},loss:{}\".format(epoch,loss_fn(model(x_data),y_data)))"
      ],
      "metadata": {
        "id": "3Zrdec1CaXJv"
      },
      "execution_count": 25,
      "outputs": []
    },
    {
      "cell_type": "markdown",
      "source": [
        "## 使用Dataset重构数据"
      ],
      "metadata": {
        "id": "og6DaKcNYLGm"
      }
    },
    {
      "cell_type": "code",
      "source": [
        "model,opt=get_model()"
      ],
      "metadata": {
        "id": "O6n1oPmmdnk5"
      },
      "execution_count": 26,
      "outputs": []
    },
    {
      "cell_type": "code",
      "source": [
        "from torch.utils.data import TensorDataset"
      ],
      "metadata": {
        "id": "DtxGYu8sYTMa"
      },
      "execution_count": 27,
      "outputs": []
    },
    {
      "cell_type": "code",
      "source": [
        "HRdataset=TensorDataset(x_data,y_data)"
      ],
      "metadata": {
        "id": "bxxHGZhHYTPv"
      },
      "execution_count": 28,
      "outputs": []
    },
    {
      "cell_type": "code",
      "source": [
        "for epoch in range(epochs):\n",
        "  for i in range(no_of_batch):\n",
        "    x,y=HRdataset[i*batch:i*batch+batch]\n",
        "    y_pred=model(x)\n",
        "    loss=loss_fn(y_pred,y)\n",
        "    opt.zero_grad()\n",
        "    loss.backward()\n",
        "    opt.step()\n",
        "  with torch.no_grad():\n",
        "    print(\"epoch:{},loss:{}\".format(epoch,loss_fn(model(x_data),y_data)))"
      ],
      "metadata": {
        "id": "Ioywz8MfYTVy"
      },
      "execution_count": null,
      "outputs": []
    },
    {
      "cell_type": "code",
      "source": [],
      "metadata": {
        "id": "5klB6VhyY7aY"
      },
      "execution_count": null,
      "outputs": []
    },
    {
      "cell_type": "markdown",
      "source": [
        "## 使用Dataloader"
      ],
      "metadata": {
        "id": "35kuL7Q6ZE-y"
      }
    },
    {
      "cell_type": "code",
      "source": [
        "model,opt=get_model()"
      ],
      "metadata": {
        "id": "9P9ajLFQZIUw"
      },
      "execution_count": 30,
      "outputs": []
    },
    {
      "cell_type": "code",
      "source": [
        "from torch.utils.data import DataLoader"
      ],
      "metadata": {
        "id": "XBuhizZ0bLvJ"
      },
      "execution_count": 32,
      "outputs": []
    },
    {
      "cell_type": "code",
      "source": [
        "HR_ds=TensorDataset(x_data,y_data)\n",
        "HR_dl=DataLoader(HR_ds,batch_size=64,shuffle=True)"
      ],
      "metadata": {
        "id": "XUPECXhMbRNp"
      },
      "execution_count": 33,
      "outputs": []
    },
    {
      "cell_type": "code",
      "source": [
        "for epoch in range(epochs):\n",
        "  for x,y in HR_dl:\n",
        "    y_pred=model(x)\n",
        "    loss=loss_fn(y_pred,y)\n",
        "    opt.zero_grad()\n",
        "    loss.backward()\n",
        "    opt.step()\n",
        "  with torch.no_grad():\n",
        "    print(\"epoch:{},loss:{}\".format(epoch,loss_fn(model(x_data),y_data)))"
      ],
      "metadata": {
        "id": "b6WcH1Cdbk26"
      },
      "execution_count": null,
      "outputs": []
    },
    {
      "cell_type": "code",
      "source": [],
      "metadata": {
        "id": "28nk-SfbcOr3"
      },
      "execution_count": null,
      "outputs": []
    },
    {
      "cell_type": "markdown",
      "source": [
        "## 划分数据集"
      ],
      "metadata": {
        "id": "VaD94e0pgNFQ"
      }
    },
    {
      "cell_type": "code",
      "source": [
        "from sklearn.model_selection import train_test_split"
      ],
      "metadata": {
        "id": "9PSdcdXRgP3I"
      },
      "execution_count": 38,
      "outputs": []
    },
    {
      "cell_type": "code",
      "source": [
        "train_x,test_x,train_y,test_y=train_test_split(x_data,y_data)"
      ],
      "metadata": {
        "id": "cK1XeRHYhDNq"
      },
      "execution_count": 39,
      "outputs": []
    },
    {
      "cell_type": "code",
      "source": [
        "# train_x=torch.from_numpy(train_x).type(torch.float32)\n",
        "# test_x=torch.from_numpy(test_x).type(torch.float32)\n",
        "# train_y=torch.from_numpy(train_y).type(torch.float32)\n",
        "# test_y=torch.from_numpy(test_y).type(torch.float32)"
      ],
      "metadata": {
        "id": "oEl9k4j5gkLA"
      },
      "execution_count": 42,
      "outputs": []
    },
    {
      "cell_type": "code",
      "source": [
        "train_ds=TensorDataset(train_x,train_y)\n",
        "train_dl=DataLoader(train_ds,batch_size=64,shuffle=True)"
      ],
      "metadata": {
        "id": "boVEGoCfheCN"
      },
      "execution_count": 43,
      "outputs": []
    },
    {
      "cell_type": "code",
      "source": [
        "test_ds=TensorDataset(test_x,test_y)\n",
        "test_dl=DataLoader(test_ds,batch_size=64,shuffle=True)"
      ],
      "metadata": {
        "id": "zyLAmyBOh-QN"
      },
      "execution_count": 44,
      "outputs": []
    },
    {
      "cell_type": "markdown",
      "source": [
        "## 打印测试准确率"
      ],
      "metadata": {
        "id": "A9roAIMomtFE"
      }
    },
    {
      "cell_type": "code",
      "source": [
        "def accuracy(y_pred,y_true):\n",
        "  y_pred=(y_pred>0.5).type(torch.int32)\n",
        "  acc=(y_pred==y_true).float().mean()\n",
        "  return acc"
      ],
      "metadata": {
        "id": "j_bqdOkliEL1"
      },
      "execution_count": 45,
      "outputs": []
    },
    {
      "cell_type": "code",
      "source": [
        "model,opt=get_model()"
      ],
      "metadata": {
        "id": "y1q5mu4mnHKD"
      },
      "execution_count": 46,
      "outputs": []
    },
    {
      "cell_type": "code",
      "source": [
        "for epoch in range(epochs):\n",
        "  for x,y in HR_dl:\n",
        "    y_pred=model(x)\n",
        "    loss=loss_fn(y_pred,y)\n",
        "    opt.zero_grad()\n",
        "    loss.backward()\n",
        "    opt.step()\n",
        "  with torch.no_grad():\n",
        "    print(f'epoch:{epoch+1},train_loss:{round(loss_fn(model(train_x),train_y).item(),3)},train_acc:{round(accuracy(model(train_x),train_y).item(),3)}',end=\"+++\")\n",
        "    print(f'test_loss:{round(loss_fn(model(test_x),test_y).item(),3)},test_acc:{round(accuracy(model(test_x),test_y).item(),3)}')"
      ],
      "metadata": {
        "id": "mEyqkm4jnKDb",
        "outputId": "aa7006ea-c2b0-4db0-cf56-a3fb7f8e2aff",
        "colab": {
          "base_uri": "https://localhost:8080/"
        }
      },
      "execution_count": 53,
      "outputs": [
        {
          "output_type": "stream",
          "name": "stdout",
          "text": [
            "epoch:1,train_loss:0.326,train_acc:0.841+++test_loss:0.326,test_acc:0.839\n",
            "epoch:2,train_loss:0.325,train_acc:0.849+++test_loss:0.324,test_acc:0.846\n",
            "epoch:3,train_loss:0.334,train_acc:0.813+++test_loss:0.334,test_acc:0.806\n",
            "epoch:4,train_loss:0.321,train_acc:0.838+++test_loss:0.32,test_acc:0.835\n",
            "epoch:5,train_loss:0.319,train_acc:0.858+++test_loss:0.318,test_acc:0.861\n",
            "epoch:6,train_loss:0.313,train_acc:0.852+++test_loss:0.311,test_acc:0.846\n",
            "epoch:7,train_loss:0.316,train_acc:0.864+++test_loss:0.315,test_acc:0.868\n",
            "epoch:8,train_loss:0.31,train_acc:0.853+++test_loss:0.309,test_acc:0.845\n",
            "epoch:9,train_loss:0.308,train_acc:0.851+++test_loss:0.306,test_acc:0.846\n",
            "epoch:10,train_loss:0.309,train_acc:0.871+++test_loss:0.306,test_acc:0.874\n",
            "epoch:11,train_loss:0.316,train_acc:0.867+++test_loss:0.314,test_acc:0.87\n",
            "epoch:12,train_loss:0.301,train_acc:0.867+++test_loss:0.299,test_acc:0.869\n",
            "epoch:13,train_loss:0.299,train_acc:0.869+++test_loss:0.296,test_acc:0.869\n",
            "epoch:14,train_loss:0.297,train_acc:0.868+++test_loss:0.294,test_acc:0.868\n",
            "epoch:15,train_loss:0.294,train_acc:0.868+++test_loss:0.289,test_acc:0.865\n",
            "epoch:16,train_loss:0.294,train_acc:0.87+++test_loss:0.289,test_acc:0.869\n",
            "epoch:17,train_loss:0.309,train_acc:0.841+++test_loss:0.303,test_acc:0.835\n",
            "epoch:18,train_loss:0.288,train_acc:0.876+++test_loss:0.283,test_acc:0.877\n",
            "epoch:19,train_loss:0.293,train_acc:0.881+++test_loss:0.288,test_acc:0.889\n",
            "epoch:20,train_loss:0.287,train_acc:0.881+++test_loss:0.283,test_acc:0.886\n",
            "epoch:21,train_loss:0.284,train_acc:0.881+++test_loss:0.279,test_acc:0.884\n",
            "epoch:22,train_loss:0.284,train_acc:0.886+++test_loss:0.278,test_acc:0.892\n",
            "epoch:23,train_loss:0.282,train_acc:0.883+++test_loss:0.277,test_acc:0.887\n",
            "epoch:24,train_loss:0.28,train_acc:0.877+++test_loss:0.275,test_acc:0.872\n",
            "epoch:25,train_loss:0.278,train_acc:0.89+++test_loss:0.27,test_acc:0.898\n",
            "epoch:26,train_loss:0.276,train_acc:0.89+++test_loss:0.268,test_acc:0.896\n",
            "epoch:27,train_loss:0.275,train_acc:0.885+++test_loss:0.268,test_acc:0.887\n",
            "epoch:28,train_loss:0.273,train_acc:0.891+++test_loss:0.265,test_acc:0.897\n",
            "epoch:29,train_loss:0.275,train_acc:0.897+++test_loss:0.267,test_acc:0.902\n",
            "epoch:30,train_loss:0.276,train_acc:0.88+++test_loss:0.269,test_acc:0.877\n",
            "epoch:31,train_loss:0.27,train_acc:0.894+++test_loss:0.262,test_acc:0.896\n",
            "epoch:32,train_loss:0.287,train_acc:0.89+++test_loss:0.28,test_acc:0.895\n",
            "epoch:33,train_loss:0.27,train_acc:0.891+++test_loss:0.261,test_acc:0.891\n",
            "epoch:34,train_loss:0.269,train_acc:0.899+++test_loss:0.261,test_acc:0.906\n",
            "epoch:35,train_loss:0.272,train_acc:0.897+++test_loss:0.263,test_acc:0.904\n",
            "epoch:36,train_loss:0.266,train_acc:0.901+++test_loss:0.258,test_acc:0.906\n",
            "epoch:37,train_loss:0.266,train_acc:0.901+++test_loss:0.258,test_acc:0.903\n",
            "epoch:38,train_loss:0.262,train_acc:0.904+++test_loss:0.253,test_acc:0.906\n",
            "epoch:39,train_loss:0.269,train_acc:0.898+++test_loss:0.259,test_acc:0.906\n",
            "epoch:40,train_loss:0.263,train_acc:0.903+++test_loss:0.252,test_acc:0.91\n",
            "epoch:41,train_loss:0.26,train_acc:0.903+++test_loss:0.25,test_acc:0.907\n",
            "epoch:42,train_loss:0.261,train_acc:0.902+++test_loss:0.25,test_acc:0.904\n",
            "epoch:43,train_loss:0.261,train_acc:0.904+++test_loss:0.25,test_acc:0.909\n",
            "epoch:44,train_loss:0.259,train_acc:0.908+++test_loss:0.249,test_acc:0.914\n",
            "epoch:45,train_loss:0.26,train_acc:0.903+++test_loss:0.247,test_acc:0.911\n",
            "epoch:46,train_loss:0.264,train_acc:0.9+++test_loss:0.253,test_acc:0.907\n",
            "epoch:47,train_loss:0.263,train_acc:0.9+++test_loss:0.252,test_acc:0.907\n",
            "epoch:48,train_loss:0.255,train_acc:0.909+++test_loss:0.243,test_acc:0.913\n",
            "epoch:49,train_loss:0.254,train_acc:0.91+++test_loss:0.242,test_acc:0.917\n",
            "epoch:50,train_loss:0.256,train_acc:0.906+++test_loss:0.243,test_acc:0.907\n",
            "epoch:51,train_loss:0.252,train_acc:0.908+++test_loss:0.24,test_acc:0.915\n",
            "epoch:52,train_loss:0.263,train_acc:0.898+++test_loss:0.252,test_acc:0.907\n",
            "epoch:53,train_loss:0.255,train_acc:0.906+++test_loss:0.245,test_acc:0.913\n",
            "epoch:54,train_loss:0.252,train_acc:0.908+++test_loss:0.239,test_acc:0.912\n",
            "epoch:55,train_loss:0.264,train_acc:0.9+++test_loss:0.25,test_acc:0.9\n",
            "epoch:56,train_loss:0.265,train_acc:0.9+++test_loss:0.25,test_acc:0.898\n",
            "epoch:57,train_loss:0.253,train_acc:0.911+++test_loss:0.242,test_acc:0.914\n",
            "epoch:58,train_loss:0.258,train_acc:0.901+++test_loss:0.246,test_acc:0.906\n",
            "epoch:59,train_loss:0.257,train_acc:0.906+++test_loss:0.246,test_acc:0.901\n",
            "epoch:60,train_loss:0.248,train_acc:0.911+++test_loss:0.235,test_acc:0.915\n",
            "epoch:61,train_loss:0.261,train_acc:0.899+++test_loss:0.25,test_acc:0.905\n",
            "epoch:62,train_loss:0.247,train_acc:0.913+++test_loss:0.233,test_acc:0.919\n",
            "epoch:63,train_loss:0.25,train_acc:0.909+++test_loss:0.238,test_acc:0.915\n",
            "epoch:64,train_loss:0.246,train_acc:0.913+++test_loss:0.234,test_acc:0.916\n",
            "epoch:65,train_loss:0.247,train_acc:0.912+++test_loss:0.235,test_acc:0.916\n",
            "epoch:66,train_loss:0.258,train_acc:0.9+++test_loss:0.245,test_acc:0.908\n",
            "epoch:67,train_loss:0.243,train_acc:0.914+++test_loss:0.23,test_acc:0.919\n",
            "epoch:68,train_loss:0.251,train_acc:0.904+++test_loss:0.239,test_acc:0.914\n",
            "epoch:69,train_loss:0.248,train_acc:0.914+++test_loss:0.238,test_acc:0.912\n",
            "epoch:70,train_loss:0.246,train_acc:0.912+++test_loss:0.234,test_acc:0.915\n",
            "epoch:71,train_loss:0.242,train_acc:0.915+++test_loss:0.232,test_acc:0.914\n",
            "epoch:72,train_loss:0.241,train_acc:0.915+++test_loss:0.228,test_acc:0.919\n",
            "epoch:73,train_loss:0.242,train_acc:0.916+++test_loss:0.229,test_acc:0.919\n",
            "epoch:74,train_loss:0.243,train_acc:0.916+++test_loss:0.227,test_acc:0.922\n",
            "epoch:75,train_loss:0.245,train_acc:0.911+++test_loss:0.229,test_acc:0.917\n",
            "epoch:76,train_loss:0.242,train_acc:0.914+++test_loss:0.227,test_acc:0.92\n",
            "epoch:77,train_loss:0.243,train_acc:0.912+++test_loss:0.229,test_acc:0.919\n",
            "epoch:78,train_loss:0.245,train_acc:0.909+++test_loss:0.232,test_acc:0.917\n",
            "epoch:79,train_loss:0.241,train_acc:0.914+++test_loss:0.229,test_acc:0.917\n",
            "epoch:80,train_loss:0.243,train_acc:0.912+++test_loss:0.23,test_acc:0.915\n",
            "epoch:81,train_loss:0.239,train_acc:0.914+++test_loss:0.226,test_acc:0.92\n",
            "epoch:82,train_loss:0.24,train_acc:0.912+++test_loss:0.227,test_acc:0.92\n",
            "epoch:83,train_loss:0.236,train_acc:0.919+++test_loss:0.221,test_acc:0.925\n",
            "epoch:84,train_loss:0.243,train_acc:0.916+++test_loss:0.226,test_acc:0.919\n",
            "epoch:85,train_loss:0.252,train_acc:0.906+++test_loss:0.231,test_acc:0.917\n",
            "epoch:86,train_loss:0.24,train_acc:0.912+++test_loss:0.224,test_acc:0.921\n",
            "epoch:87,train_loss:0.24,train_acc:0.917+++test_loss:0.227,test_acc:0.921\n",
            "epoch:88,train_loss:0.243,train_acc:0.909+++test_loss:0.227,test_acc:0.918\n",
            "epoch:89,train_loss:0.236,train_acc:0.915+++test_loss:0.22,test_acc:0.923\n",
            "epoch:90,train_loss:0.234,train_acc:0.919+++test_loss:0.22,test_acc:0.923\n",
            "epoch:91,train_loss:0.247,train_acc:0.91+++test_loss:0.227,test_acc:0.917\n",
            "epoch:92,train_loss:0.241,train_acc:0.91+++test_loss:0.229,test_acc:0.915\n",
            "epoch:93,train_loss:0.235,train_acc:0.916+++test_loss:0.219,test_acc:0.924\n",
            "epoch:94,train_loss:0.24,train_acc:0.912+++test_loss:0.227,test_acc:0.918\n",
            "epoch:95,train_loss:0.235,train_acc:0.92+++test_loss:0.217,test_acc:0.927\n",
            "epoch:96,train_loss:0.241,train_acc:0.915+++test_loss:0.223,test_acc:0.918\n",
            "epoch:97,train_loss:0.233,train_acc:0.916+++test_loss:0.221,test_acc:0.92\n",
            "epoch:98,train_loss:0.234,train_acc:0.92+++test_loss:0.219,test_acc:0.924\n",
            "epoch:99,train_loss:0.234,train_acc:0.919+++test_loss:0.218,test_acc:0.922\n",
            "epoch:100,train_loss:0.245,train_acc:0.914+++test_loss:0.231,test_acc:0.916\n"
          ]
        }
      ]
    },
    {
      "cell_type": "code",
      "source": [],
      "metadata": {
        "id": "6mcCXkANn-bk"
      },
      "execution_count": null,
      "outputs": []
    }
  ]
}