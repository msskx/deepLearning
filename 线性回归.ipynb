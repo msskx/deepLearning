{
  "cells": [
    {
      "cell_type": "markdown",
      "metadata": {
        "id": "view-in-github",
        "colab_type": "text"
      },
      "source": [
        "<a href=\"https://colab.research.google.com/github/msskx/deepLearning/blob/main/%E7%BA%BF%E6%80%A7%E5%9B%9E%E5%BD%92.ipynb\" target=\"_parent\"><img src=\"https://colab.research.google.com/assets/colab-badge.svg\" alt=\"Open In Colab\"/></a>"
      ]
    },
    {
      "cell_type": "code",
      "execution_count": 2,
      "id": "307d1e9d",
      "metadata": {
        "id": "307d1e9d"
      },
      "outputs": [],
      "source": [
        "import torch"
      ]
    },
    {
      "cell_type": "code",
      "source": [
        "!ls"
      ],
      "metadata": {
        "colab": {
          "base_uri": "https://localhost:8080/"
        },
        "id": "qq4BLIjmDdM-",
        "outputId": "9608bb2e-61a3-41b4-9bd5-248907f4258b"
      },
      "id": "qq4BLIjmDdM-",
      "execution_count": 3,
      "outputs": [
        {
          "output_type": "stream",
          "name": "stdout",
          "text": [
            "Income1.csv  sample_data\n"
          ]
        }
      ]
    },
    {
      "cell_type": "code",
      "execution_count": 4,
      "id": "6f645110",
      "metadata": {
        "id": "6f645110"
      },
      "outputs": [],
      "source": [
        "import numpy as np\n",
        "import matplotlib.pyplot as plt\n",
        "import pandas as pd"
      ]
    },
    {
      "cell_type": "code",
      "source": [
        "from google.colab import drive\n",
        "drive.mount('/content/drive')"
      ],
      "metadata": {
        "colab": {
          "base_uri": "https://localhost:8080/"
        },
        "id": "h3JTMXcHEfFH",
        "outputId": "5c1599b8-84a0-4c33-d67d-c18708718f59"
      },
      "id": "h3JTMXcHEfFH",
      "execution_count": 20,
      "outputs": [
        {
          "output_type": "stream",
          "name": "stdout",
          "text": [
            "Drive already mounted at /content/drive; to attempt to forcibly remount, call drive.mount(\"/content/drive\", force_remount=True).\n"
          ]
        }
      ]
    },
    {
      "cell_type": "code",
      "execution_count": 22,
      "id": "f8f20582",
      "metadata": {
        "id": "f8f20582"
      },
      "outputs": [],
      "source": [
        "data=pd.read_csv(\"./drive/MyDrive/torch学习笔记/Income1.csv\")"
      ]
    },
    {
      "cell_type": "code",
      "execution_count": 23,
      "id": "ba159d13",
      "metadata": {
        "colab": {
          "base_uri": "https://localhost:8080/",
          "height": 282
        },
        "id": "ba159d13",
        "outputId": "55b81514-1c3c-47e2-8ee0-ad564d622ca3"
      },
      "outputs": [
        {
          "output_type": "execute_result",
          "data": {
            "text/plain": [
              "<matplotlib.collections.PathCollection at 0x7fb68129f210>"
            ]
          },
          "metadata": {},
          "execution_count": 23
        },
        {
          "output_type": "display_data",
          "data": {
            "text/plain": [
              "<Figure size 432x288 with 1 Axes>"
            ],
            "image/png": "[encoded data removed]"
          },
          "metadata": {
            "needs_background": "light"
          }
        }
      ],
      "source": [
        "plt.scatter(data.Education,data.Income)"
      ]
    },
    {
      "cell_type": "code",
      "execution_count": 7,
      "id": "1c0b8fd6",
      "metadata": {
        "id": "1c0b8fd6"
      },
      "outputs": [],
      "source": [
        "import torch.nn as nn\n"
      ]
    },
    {
      "cell_type": "code",
      "execution_count": 8,
      "id": "de3b6ceb",
      "metadata": {
        "id": "de3b6ceb"
      },
      "outputs": [],
      "source": [
        "X=torch.from_numpy(data.Education.values.reshape(-1,1).astype(np.float32))"
      ]
    },
    {
      "cell_type": "code",
      "execution_count": 9,
      "id": "3110efb8",
      "metadata": {
        "id": "3110efb8"
      },
      "outputs": [],
      "source": [
        "Y=torch.from_numpy(data.Income.values.reshape(-1,1).astype(np.float32))"
      ]
    },
    {
      "cell_type": "code",
      "execution_count": 10,
      "id": "63e9145c",
      "metadata": {
        "id": "63e9145c"
      },
      "outputs": [],
      "source": [
        "model=nn.Linear(1,1)"
      ]
    },
    {
      "cell_type": "code",
      "execution_count": 11,
      "id": "7ceab3f5",
      "metadata": {
        "id": "7ceab3f5"
      },
      "outputs": [],
      "source": [
        "loss_func=nn.MSELoss()"
      ]
    },
    {
      "cell_type": "code",
      "execution_count": 12,
      "id": "e47caf44",
      "metadata": {
        "id": "e47caf44"
      },
      "outputs": [],
      "source": [
        "opt=torch.optim.SGD(model.parameters(),lr=0.0001)"
      ]
    },
    {
      "cell_type": "code",
      "execution_count": 24,
      "id": "9640918e",
      "metadata": {
        "id": "9640918e"
      },
      "outputs": [],
      "source": [
        "for epoch in range(5000):\n",
        "    for x,y in zip(X,Y):\n",
        "        y_pred=model(x)\n",
        "        loss=loss_func(y,y_pred)\n",
        "        opt.zero_grad()\n",
        "        loss.backward()\n",
        "        opt.step()\n",
        "\n",
        "        "
      ]
    },
    {
      "cell_type": "code",
      "execution_count": 17,
      "id": "ae809cf5",
      "metadata": {
        "colab": {
          "base_uri": "https://localhost:8080/"
        },
        "id": "ae809cf5",
        "outputId": "b5c1b865-bbb5-46b7-a759-3ead1a3817d0"
      },
      "outputs": [
        {
          "output_type": "execute_result",
          "data": {
            "text/plain": [
              "(Parameter containing:\n",
              " tensor([[5.0467]], requires_grad=True), Parameter containing:\n",
              " tensor([-29.7010], requires_grad=True))"
            ]
          },
          "metadata": {},
          "execution_count": 17
        }
      ],
      "source": [
        "model.weight,model.bias"
      ]
    },
    {
      "cell_type": "code",
      "execution_count": 18,
      "id": "cc0209a6",
      "metadata": {
        "colab": {
          "base_uri": "https://localhost:8080/",
          "height": 282
        },
        "id": "cc0209a6",
        "outputId": "96f564a9-9bdb-4b4e-d200-baf745555fd6"
      },
      "outputs": [
        {
          "output_type": "execute_result",
          "data": {
            "text/plain": [
              "[<matplotlib.lines.Line2D at 0x7fb681c068d0>]"
            ]
          },
          "metadata": {},
          "execution_count": 18
        },
        {
          "output_type": "display_data",
          "data": {
            "text/plain": [
              "<Figure size 432x288 with 1 Axes>"
            ],
            "image/png": "[encoded data removed]"
          },
          "metadata": {
            "needs_background": "light"
          }
        }
      ],
      "source": [
        "plt.scatter(data.Education,data.Income)\n",
        "plt.plot(X.numpy(),model(X).data.numpy())"
      ]
    },
    {
      "cell_type": "code",
      "execution_count": null,
      "id": "2b98fb1b",
      "metadata": {
        "id": "2b98fb1b"
      },
      "outputs": [],
      "source": []
    },
    {
      "cell_type": "code",
      "source": [],
      "metadata": {
        "colab": {
          "base_uri": "https://localhost:8080/"
        },
        "id": "o7Uby0YNEQ8X",
        "outputId": "69045dd2-e4dc-4607-f86b-ac383cb57878"
      },
      "id": "o7Uby0YNEQ8X",
      "execution_count": 19,
      "outputs": [
        {
          "output_type": "stream",
          "name": "stdout",
          "text": [
            "Mounted at /content/drive\n"
          ]
        }
      ]
    }
  ],
  "metadata": {
    "kernelspec": {
      "display_name": "Python 3 (ipykernel)",
      "language": "python",
      "name": "python3"
    },
    "language_info": {
      "codemirror_mode": {
        "name": "ipython",
        "version": 3
      },
      "file_extension": ".py",
      "mimetype": "text/x-python",
      "name": "python",
      "nbconvert_exporter": "python",
      "pygments_lexer": "ipython3",
      "version": "3.9.12"
    },
    "colab": {
      "provenance": [],
      "include_colab_link": true
    }
  },
  "nbformat": 4,
  "nbformat_minor": 5
}