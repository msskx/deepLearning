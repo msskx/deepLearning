{
  "nbformat": 4,
  "nbformat_minor": 0,
  "metadata": {
    "colab": {
      "name": "线性回归.ipynb",
      "provenance": [],
      "authorship_tag": "ABX9TyPrdLonaoaQwY69TZlhIKgQ",
      "include_colab_link": true
    },
    "kernelspec": {
      "name": "python3",
      "display_name": "Python 3"
    },
    "language_info": {
      "name": "python"
    },
    "accelerator": "TPU",
    "gpuClass": "standard"
  },
  "cells": [
    {
      "cell_type": "markdown",
      "metadata": {
        "id": "view-in-github",
        "colab_type": "text"
      },
      "source": [
        "<a href=\"https://colab.research.google.com/github/msskx/deep_study/blob/main/%E7%BA%BF%E6%80%A7%E5%9B%9E%E5%BD%92.ipynb\" target=\"_parent\"><img src=\"https://colab.research.google.com/assets/colab-badge.svg\" alt=\"Open In Colab\"/></a>"
      ]
    },
    {
      "cell_type": "code",
      "source": [
        "%matplotlib inline\n",
        "import random\n",
        "import torch\n",
        "from d2l import torch as d2l\n",
        "import numpy as np\n",
        "from matplotlib import pyplot as plt"
      ],
      "metadata": {
        "id": "VV5LqKIqju1U"
      },
      "execution_count": 22,
      "outputs": []
    },
    {
      "cell_type": "markdown",
      "source": [
        "$$\\mathbf{y}= \\mathbf{X} \\mathbf{w} + b + \\mathbf\\epsilon.$$"
      ],
      "metadata": {
        "id": "iUr2paOJAC-2"
      }
    },
    {
      "cell_type": "code",
      "source": [
        "def sythetic_data(w,b,num_examples):\n",
        "  X=torch.normal(0,1,(num_examples,len(w)))#生成X,均值为0标准差为1\n",
        "  y=torch.matmul(X,w)+b#生成y\n",
        "  y+=torch.normal(0,0.01,y.shape)#增加噪声\n",
        "  return X,y.reshape((-1,1))"
      ],
      "metadata": {
        "id": "iooTgE__kKMd"
      },
      "execution_count": 6,
      "outputs": []
    },
    {
      "cell_type": "code",
      "source": [
        "true_w=torch.tensor([2,-3.4])\n",
        "true_b=4.2\n",
        "features,labels=sythetic_data(true_w,true_b,1000)"
      ],
      "metadata": {
        "id": "FXfkQgbY-nKh"
      },
      "execution_count": 8,
      "outputs": []
    },
    {
      "cell_type": "code",
      "source": [
        ""
      ],
      "metadata": {
        "id": "zevSlHhvGxer"
      },
      "execution_count": null,
      "outputs": []
    },
    {
      "cell_type": "code",
      "source": [
        "print('features:',features[0],'\\nlabel:',labels[0])"
      ],
      "metadata": {
        "colab": {
          "base_uri": "https://localhost:8080/"
        },
        "id": "FCv9K0vY-nPq",
        "outputId": "65eb4f71-3d56-4334-865b-60d45cc5219a"
      },
      "execution_count": 33,
      "outputs": [
        {
          "output_type": "stream",
          "name": "stdout",
          "text": [
            "features: tensor([-0.5991, -0.8147]) \n",
            "label: tensor([5.7883])\n"
          ]
        }
      ]
    },
    {
      "cell_type": "code",
      "source": [
        "def data_iter(batch_size, features, labels):\n",
        "    num_examples = len(features)\n",
        "    indices = list(range(num_examples))\n",
        "    # 这些样本是随机读取的，没有特定的顺序\n",
        "    random.shuffle(indices)\n",
        "    for i in range(0, num_examples, batch_size):\n",
        "        batch_indices = torch.tensor(indices[i: min(i + batch_size, num_examples)])\n",
        "        yield features[batch_indices], labels[batch_indices]"
      ],
      "metadata": {
        "id": "-YBwXEqCHv8D"
      },
      "execution_count": 45,
      "outputs": []
    },
    {
      "cell_type": "code",
      "source": [
        "batch_size=10\n",
        "for X,y in data_iter(batch_size,features,labels):\n",
        "  print(X,'\\n',y)\n",
        "  break"
      ],
      "metadata": {
        "colab": {
          "base_uri": "https://localhost:8080/"
        },
        "id": "4RH8lIR0-naT",
        "outputId": "38a80a80-343b-444e-de24-49deb1139c46"
      },
      "execution_count": 49,
      "outputs": [
        {
          "output_type": "stream",
          "name": "stdout",
          "text": [
            "tensor([[ 0.7134,  0.6269],\n",
            "        [ 0.3206, -0.5041],\n",
            "        [-2.1078, -2.0562],\n",
            "        [ 0.6627, -0.4688],\n",
            "        [ 0.5774,  0.7444],\n",
            "        [-1.7222, -0.8365],\n",
            "        [ 0.4272, -0.3123],\n",
            "        [-0.7582, -0.7503],\n",
            "        [-1.3662,  0.9108],\n",
            "        [-0.7250,  0.4664]]) \n",
            " tensor([[ 3.5158],\n",
            "        [ 6.5557],\n",
            "        [ 6.9742],\n",
            "        [ 7.1182],\n",
            "        [ 2.8216],\n",
            "        [ 3.5937],\n",
            "        [ 6.1151],\n",
            "        [ 5.2290],\n",
            "        [-1.6211],\n",
            "        [ 1.1592]])\n"
          ]
        }
      ]
    },
    {
      "cell_type": "markdown",
      "source": [
        "## 初始化参数模型"
      ],
      "metadata": {
        "id": "9WywkntIIny0"
      }
    },
    {
      "cell_type": "code",
      "source": [
        "w=torch.normal(0,0.01,size=(2,1),requires_grad=True)\n",
        "b=torch.zeros(1,requires_grad=True)"
      ],
      "metadata": {
        "id": "StDttZ36-ndO"
      },
      "execution_count": 50,
      "outputs": []
    },
    {
      "cell_type": "markdown",
      "source": [
        "## 定义线性模型"
      ],
      "metadata": {
        "id": "7dZIFJx4JZNA"
      }
    },
    {
      "cell_type": "code",
      "source": [
        "def linreg(X,w,b):\n",
        "  return torch.matmul(X,w)+b"
      ],
      "metadata": {
        "id": "pyu5tU33-niO"
      },
      "execution_count": 54,
      "outputs": []
    },
    {
      "cell_type": "markdown",
      "source": [
        "## 定义损失函数"
      ],
      "metadata": {
        "id": "xr0SHZ6xJdXS"
      }
    },
    {
      "cell_type": "code",
      "source": [
        "def squared_loss(y_hat,y):\n",
        "  return(y_hat-y.reshape(y_hat.shape))**2/2"
      ],
      "metadata": {
        "id": "T7z5L7MmJMpP"
      },
      "execution_count": 55,
      "outputs": []
    },
    {
      "cell_type": "markdown",
      "source": [
        "## 定义优化算法"
      ],
      "metadata": {
        "id": "GsZjMlSOJ59Z"
      }
    },
    {
      "cell_type": "code",
      "source": [
        "def sgd(params,lr,batch_size):\n",
        "  with torch.no_grad():\n",
        "    for param in params:\n",
        "      param-=lr*param.grad/batch_size\n",
        "      param.grad.zero_()"
      ],
      "metadata": {
        "id": "rv2ca95PJMsJ"
      },
      "execution_count": 56,
      "outputs": []
    },
    {
      "cell_type": "markdown",
      "source": [
        "## 训练"
      ],
      "metadata": {
        "id": "1CVGC3W0Kb-h"
      }
    },
    {
      "cell_type": "code",
      "source": [
        "lr=0.03\n",
        "num_epochs=3\n",
        "net=linreg\n",
        "loss=squared_loss"
      ],
      "metadata": {
        "id": "BZVa40G-JMug"
      },
      "execution_count": 57,
      "outputs": []
    },
    {
      "cell_type": "code",
      "source": [
        "for epoch in range(num_epochs):\n",
        "  for X,y in data_iter(batch_size,features,labels):\n",
        "    l=loss(net(X,w,b),y)\n",
        "\n",
        "    l.sum().backward()\n",
        "    sgd([w,b],lr,batch_size)\n",
        "  with torch.no_grad():\n",
        "    train_l=loss(net(features,w,b),labels)\n",
        "    print(f'epoch {epoch+1},loss{float(train_l.mean()):f}')"
      ],
      "metadata": {
        "id": "j_hb23DXJMxE",
        "outputId": "116774a7-fa17-46ff-9e7d-e3ed11964bb7",
        "colab": {
          "base_uri": "https://localhost:8080/"
        }
      },
      "execution_count": 58,
      "outputs": [
        {
          "output_type": "stream",
          "name": "stdout",
          "text": [
            "epoch 1,loss0.034738\n",
            "epoch 2,loss0.000132\n",
            "epoch 3,loss0.000052\n"
          ]
        }
      ]
    },
    {
      "cell_type": "code",
      "source": [
        "print(f'w的估计误差: {true_w - w.reshape(true_w.shape)}')\n",
        "print(f'b的估计误差: {true_b - b}')"
      ],
      "metadata": {
        "id": "5vNaz_atJMzc",
        "outputId": "312070e7-b626-4568-e902-7aadd7b6fb14",
        "colab": {
          "base_uri": "https://localhost:8080/"
        }
      },
      "execution_count": 59,
      "outputs": [
        {
          "output_type": "stream",
          "name": "stdout",
          "text": [
            "w的估计误差: tensor([ 0.0005, -0.0005], grad_fn=<SubBackward0>)\n",
            "b的估计误差: tensor([0.0010], grad_fn=<RsubBackward1>)\n"
          ]
        }
      ]
    },
    {
      "cell_type": "code",
      "source": [
        "print(f'w:{w}')\n",
        "print(f'b:{b}')"
      ],
      "metadata": {
        "id": "VUToLjmKJM2y",
        "outputId": "2410bdc4-7ff0-4457-eddc-acafb13c7189",
        "colab": {
          "base_uri": "https://localhost:8080/"
        }
      },
      "execution_count": 60,
      "outputs": [
        {
          "output_type": "stream",
          "name": "stdout",
          "text": [
            "w:tensor([[ 1.9995],\n",
            "        [-3.3995]], requires_grad=True)\n",
            "b:tensor([4.1990], requires_grad=True)\n"
          ]
        }
      ]
    },
    {
      "cell_type": "code",
      "source": [
        ""
      ],
      "metadata": {
        "id": "-jsjaxU3-nlC"
      },
      "execution_count": null,
      "outputs": []
    },
    {
      "cell_type": "code",
      "source": [
        ""
      ],
      "metadata": {
        "id": "6_MesDaL-nn1"
      },
      "execution_count": null,
      "outputs": []
    },
    {
      "cell_type": "code",
      "source": [
        ""
      ],
      "metadata": {
        "id": "DgOrHGoR-nqL"
      },
      "execution_count": null,
      "outputs": []
    },
    {
      "cell_type": "code",
      "source": [
        ""
      ],
      "metadata": {
        "id": "mK2-KjZJ-nso"
      },
      "execution_count": null,
      "outputs": []
    },
    {
      "cell_type": "code",
      "source": [
        ""
      ],
      "metadata": {
        "id": "OHw6l_Qy-nvN"
      },
      "execution_count": null,
      "outputs": []
    },
    {
      "cell_type": "code",
      "source": [
        ""
      ],
      "metadata": {
        "id": "fTme59Q1-nyB"
      },
      "execution_count": null,
      "outputs": []
    },
    {
      "cell_type": "code",
      "source": [
        ""
      ],
      "metadata": {
        "id": "nRLRoCpe-n0W"
      },
      "execution_count": null,
      "outputs": []
    },
    {
      "cell_type": "code",
      "source": [
        ""
      ],
      "metadata": {
        "id": "QFWOZYQ9-n3B"
      },
      "execution_count": null,
      "outputs": []
    },
    {
      "cell_type": "code",
      "source": [
        ""
      ],
      "metadata": {
        "id": "ioCGqrzc-n5J"
      },
      "execution_count": null,
      "outputs": []
    },
    {
      "cell_type": "code",
      "source": [
        ""
      ],
      "metadata": {
        "id": "mv9HmGfq-n7_"
      },
      "execution_count": null,
      "outputs": []
    },
    {
      "cell_type": "code",
      "source": [
        ""
      ],
      "metadata": {
        "id": "LlYnX1eO-n-F"
      },
      "execution_count": null,
      "outputs": []
    }
  ]
}