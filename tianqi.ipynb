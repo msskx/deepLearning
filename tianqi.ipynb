{
 "cells": [
  {
   "cell_type": "code",
   "execution_count": 1,
   "id": "f4309bed",
   "metadata": {
    "_cell_guid": "b1076dfc-b9ad-4769-8c92-a6c4dae69d19",
    "_uuid": "8f2839f25d086af736a60e9eeb907d3b93b6e0e5",
    "execution": {
     "iopub.execute_input": "2022-12-08T03:26:11.464082Z",
     "iopub.status.busy": "2022-12-08T03:26:11.463534Z",
     "iopub.status.idle": "2022-12-08T03:26:11.474697Z",
     "shell.execute_reply": "2022-12-08T03:26:11.473839Z"
    },
    "papermill": {
     "duration": 0.018144,
     "end_time": "2022-12-08T03:26:11.476759",
     "exception": false,
     "start_time": "2022-12-08T03:26:11.458615",
     "status": "completed"
    },
    "tags": []
   },
   "outputs": [],
   "source": [
    "import numpy as np # linear algebra\n",
    "import pandas as pd # data processing, CSV file I/O (e.g. pd.read_csv)\n",
    "import os\n",
    "# for dirname, _, filenames in os.walk('/kaggle/input'):\n",
    "#     for filename in filenames:\n",
    "#         print(os.path.join(dirname, filename))"
   ]
  },
  {
   "cell_type": "code",
   "execution_count": 2,
   "id": "9974a7eb",
   "metadata": {
    "execution": {
     "iopub.execute_input": "2022-12-08T03:26:11.481895Z",
     "iopub.status.busy": "2022-12-08T03:26:11.481568Z",
     "iopub.status.idle": "2022-12-08T03:26:11.485933Z",
     "shell.execute_reply": "2022-12-08T03:26:11.484979Z"
    },
    "papermill": {
     "duration": 0.008989,
     "end_time": "2022-12-08T03:26:11.487887",
     "exception": false,
     "start_time": "2022-12-08T03:26:11.478898",
     "status": "completed"
    },
    "tags": []
   },
   "outputs": [],
   "source": [
    "dir_path=r'/kaggle/input/4weather/四种天气图片数据集/dataset2'"
   ]
  },
  {
   "cell_type": "markdown",
   "id": "4a813fbc",
   "metadata": {
    "papermill": {
     "duration": 0.001673,
     "end_time": "2022-12-08T03:26:11.491402",
     "exception": false,
     "start_time": "2022-12-08T03:26:11.489729",
     "status": "completed"
    },
    "tags": []
   },
   "source": []
  },
  {
   "cell_type": "code",
   "execution_count": 3,
   "id": "216a5929",
   "metadata": {
    "execution": {
     "iopub.execute_input": "2022-12-08T03:26:11.496439Z",
     "iopub.status.busy": "2022-12-08T03:26:11.496174Z",
     "iopub.status.idle": "2022-12-08T03:26:15.238571Z",
     "shell.execute_reply": "2022-12-08T03:26:15.237631Z"
    },
    "papermill": {
     "duration": 3.747629,
     "end_time": "2022-12-08T03:26:15.241026",
     "exception": false,
     "start_time": "2022-12-08T03:26:11.493397",
     "status": "completed"
    },
    "tags": []
   },
   "outputs": [],
   "source": [
    "import torch\n",
    "import torch.nn as nn\n",
    "import torch.nn.functional as F\n",
    "import torch.optim as optim\n",
    "import numpy as np\n",
    "import matplotlib.pyplot as plt\n",
    "%matplotlib inline\n",
    "import torchvision\n",
    "import os\n",
    "import shutil"
   ]
  },
  {
   "cell_type": "code",
   "execution_count": 4,
   "id": "8e0fde9b",
   "metadata": {
    "execution": {
     "iopub.execute_input": "2022-12-08T03:26:15.246503Z",
     "iopub.status.busy": "2022-12-08T03:26:15.246085Z",
     "iopub.status.idle": "2022-12-08T03:26:15.250639Z",
     "shell.execute_reply": "2022-12-08T03:26:15.249748Z"
    },
    "papermill": {
     "duration": 0.009582,
     "end_time": "2022-12-08T03:26:15.252671",
     "exception": false,
     "start_time": "2022-12-08T03:26:15.243089",
     "status": "completed"
    },
    "tags": []
   },
   "outputs": [],
   "source": [
    "base_dir=r'/kaggle/input/4weather'\n",
    "train_dir=os.path.join(base_dir,'train')\n",
    "test_dir=os.path.join(base_dir,'test')"
   ]
  },
  {
   "cell_type": "code",
   "execution_count": null,
   "id": "03fb00af",
   "metadata": {
    "papermill": {
     "duration": 0.001615,
     "end_time": "2022-12-08T03:26:15.256151",
     "exception": false,
     "start_time": "2022-12-08T03:26:15.254536",
     "status": "completed"
    },
    "tags": []
   },
   "outputs": [],
   "source": []
  }
 ],
 "metadata": {
  "kernelspec": {
   "display_name": "Python 3",
   "language": "python",
   "name": "python3"
  },
  "language_info": {
   "codemirror_mode": {
    "name": "ipython",
    "version": 3
   },
   "file_extension": ".py",
   "mimetype": "text/x-python",
   "name": "python",
   "nbconvert_exporter": "python",
   "pygments_lexer": "ipython3",
   "version": "3.7.12"
  },
  "papermill": {
   "default_parameters": {},
   "duration": 15.766063,
   "end_time": "2022-12-08T03:26:16.478749",
   "environment_variables": {},
   "exception": null,
   "input_path": "__notebook__.ipynb",
   "output_path": "__notebook__.ipynb",
   "parameters": {},
   "start_time": "2022-12-08T03:26:00.712686",
   "version": "2.3.4"
  }
 },
 "nbformat": 4,
 "nbformat_minor": 5
}
