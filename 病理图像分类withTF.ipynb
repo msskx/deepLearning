{
  "nbformat": 4,
  "nbformat_minor": 0,
  "metadata": {
    "colab": {
      "provenance": [],
      "mount_file_id": "1kAlJizp8B7YNtM2knLrP3ZdmJ8QRsuG0",
      "authorship_tag": "ABX9TyPRYTZ5MMU/A2fbVBzBjsrf",
      "include_colab_link": true
    },
    "kernelspec": {
      "name": "python3",
      "display_name": "Python 3"
    },
    "language_info": {
      "name": "python"
    },
    "accelerator": "GPU",
    "gpuClass": "standard"
  },
  "cells": [
    {
      "cell_type": "markdown",
      "metadata": {
        "id": "view-in-github",
        "colab_type": "text"
      },
      "source": [
        "<a href=\"https://colab.research.google.com/github/msskx/deepLearning/blob/main/%E7%97%85%E7%90%86%E5%9B%BE%E5%83%8F%E5%88%86%E7%B1%BBwithTF.ipynb\" target=\"_parent\"><img src=\"https://colab.research.google.com/assets/colab-badge.svg\" alt=\"Open In Colab\"/></a>"
      ]
    },
    {
      "cell_type": "code",
      "execution_count": 1,
      "metadata": {
        "id": "fX697bMCpHKC"
      },
      "outputs": [],
      "source": [
        "# !unzip /content/drive/MyDrive/torch学习笔记/医学病理图像.zip"
      ]
    },
    {
      "cell_type": "code",
      "source": [
        "import numpy as np\n",
        "import tensorflow as tf\n",
        "from tensorflow import keras\n",
        "from tensorflow.keras import layers"
      ],
      "metadata": {
        "id": "Eml1raJdpkzu"
      },
      "execution_count": 2,
      "outputs": []
    },
    {
      "cell_type": "code",
      "source": [
        "from PIL import Image\n",
        "import numpy as np"
      ],
      "metadata": {
        "id": "Ir0ss0gCrGGh"
      },
      "execution_count": 3,
      "outputs": []
    },
    {
      "cell_type": "code",
      "source": [
        "import matplotlib.pyplot as plt"
      ],
      "metadata": {
        "id": "jvT3awVjv8BV"
      },
      "execution_count": 4,
      "outputs": []
    },
    {
      "cell_type": "code",
      "source": [
        "import glob\n",
        "import json"
      ],
      "metadata": {
        "id": "qN0LKdk8prFf"
      },
      "execution_count": 5,
      "outputs": []
    },
    {
      "cell_type": "code",
      "source": [
        "with open('train.json') as f:\n",
        "    train_labels=json.load(f)\n",
        "with open('test.json') as f:\n",
        "    test_labels=json.load(f)"
      ],
      "metadata": {
        "colab": {
          "base_uri": "https://localhost:8080/",
          "height": 217
        },
        "id": "FfPhBMF1p68F",
        "outputId": "915fb1ee-1744-422e-c991-91f7ca3e4186"
      },
      "execution_count": 6,
      "outputs": [
        {
          "output_type": "error",
          "ename": "FileNotFoundError",
          "evalue": "ignored",
          "traceback": [
            "\u001b[0;31m---------------------------------------------------------------------------\u001b[0m",
            "\u001b[0;31mFileNotFoundError\u001b[0m                         Traceback (most recent call last)",
            "\u001b[0;32m<ipython-input-6-60398fb96336>\u001b[0m in \u001b[0;36m<module>\u001b[0;34m\u001b[0m\n\u001b[0;32m----> 1\u001b[0;31m \u001b[0;32mwith\u001b[0m \u001b[0mopen\u001b[0m\u001b[0;34m(\u001b[0m\u001b[0;34m'train.json'\u001b[0m\u001b[0;34m)\u001b[0m \u001b[0;32mas\u001b[0m \u001b[0mf\u001b[0m\u001b[0;34m:\u001b[0m\u001b[0;34m\u001b[0m\u001b[0;34m\u001b[0m\u001b[0m\n\u001b[0m\u001b[1;32m      2\u001b[0m     \u001b[0mtrain_labels\u001b[0m\u001b[0;34m=\u001b[0m\u001b[0mjson\u001b[0m\u001b[0;34m.\u001b[0m\u001b[0mload\u001b[0m\u001b[0;34m(\u001b[0m\u001b[0mf\u001b[0m\u001b[0;34m)\u001b[0m\u001b[0;34m\u001b[0m\u001b[0;34m\u001b[0m\u001b[0m\n\u001b[1;32m      3\u001b[0m \u001b[0;32mwith\u001b[0m \u001b[0mopen\u001b[0m\u001b[0;34m(\u001b[0m\u001b[0;34m'test.json'\u001b[0m\u001b[0;34m)\u001b[0m \u001b[0;32mas\u001b[0m \u001b[0mf\u001b[0m\u001b[0;34m:\u001b[0m\u001b[0;34m\u001b[0m\u001b[0;34m\u001b[0m\u001b[0m\n\u001b[1;32m      4\u001b[0m     \u001b[0mtest_labels\u001b[0m\u001b[0;34m=\u001b[0m\u001b[0mjson\u001b[0m\u001b[0;34m.\u001b[0m\u001b[0mload\u001b[0m\u001b[0;34m(\u001b[0m\u001b[0mf\u001b[0m\u001b[0;34m)\u001b[0m\u001b[0;34m\u001b[0m\u001b[0;34m\u001b[0m\u001b[0m\n",
            "\u001b[0;31mFileNotFoundError\u001b[0m: [Errno 2] No such file or directory: 'train.json'"
          ]
        }
      ]
    },
    {
      "cell_type": "code",
      "source": [
        "train_imgs_path=[]\n",
        "train_imgs_label=[]\n",
        "\n",
        "test_imgs_path=[]\n",
        "test_imgs_label=[]"
      ],
      "metadata": {
        "id": "yE7C-THnp9Cf"
      },
      "execution_count": null,
      "outputs": []
    },
    {
      "cell_type": "code",
      "source": [
        "for i in train_labels:\n",
        "    train_imgs_path.append(i['name'])\n",
        "    train_imgs_label.append(i['label'])\n",
        "    \n",
        "for i in test_labels:\n",
        "    test_imgs_path.append('test/'+i['name'])\n",
        "    test_imgs_label.append(i['label'])"
      ],
      "metadata": {
        "id": "gODOWkoBp-t8"
      },
      "execution_count": null,
      "outputs": []
    },
    {
      "cell_type": "code",
      "source": [
        "len(train_imgs_path),len(train_imgs_label),len(test_imgs_path),len(test_imgs_label)"
      ],
      "metadata": {
        "id": "dEksESPlp-wv"
      },
      "execution_count": null,
      "outputs": []
    },
    {
      "cell_type": "code",
      "source": [
        "train_img=[]\n",
        "train_label=[]\n",
        "\n",
        "test_img=[]\n",
        "test_label=[]"
      ],
      "metadata": {
        "id": "Y0kQlqB-p-zI"
      },
      "execution_count": null,
      "outputs": []
    },
    {
      "cell_type": "code",
      "source": [
        "for i in train_imgs_path:\n",
        "  pil_img=Image.open(i)\n",
        "  np_img=np.asarray(pil_img,dtype=np.uint8)\n",
        "  if len(np_img.shape)==2:\n",
        "    img_data=np.repeat(np_img[:,:,np.newaxis],3,axis=2)\n",
        "    pil_img=Image.fromarray(img_data)\n",
        "  train_img.append(np_img)"
      ],
      "metadata": {
        "id": "B_q7mSd_p-09"
      },
      "execution_count": null,
      "outputs": []
    },
    {
      "cell_type": "code",
      "source": [
        "for i in test_imgs_path:\n",
        "  pil_img=Image.open(i)\n",
        "  np_img=np.asarray(pil_img,dtype=np.uint8)\n",
        "  if len(np_img.shape)==2:\n",
        "    img_data=np.repeat(np_img[:,:,np.newaxis],3,axis=2)\n",
        "    pil_img=Image.fromarray(img_data)\n",
        "  test_img.append(np_img)"
      ],
      "metadata": {
        "id": "DSMPQRv8p-9R"
      },
      "execution_count": null,
      "outputs": []
    },
    {
      "cell_type": "code",
      "source": [],
      "metadata": {
        "id": "bGrIqBOmvyzk"
      },
      "execution_count": null,
      "outputs": []
    },
    {
      "cell_type": "code",
      "source": [],
      "metadata": {
        "id": "zRJxpXDYvy6F"
      },
      "execution_count": null,
      "outputs": []
    },
    {
      "cell_type": "code",
      "source": [
        "train_ds = tf.data.Dataset.from_tensor_slices((train_img,train_imgs_label))"
      ],
      "metadata": {
        "id": "qO15O5twp-_1"
      },
      "execution_count": null,
      "outputs": []
    },
    {
      "cell_type": "code",
      "source": [
        "test_ds = tf.data.Dataset.from_tensor_slices((test_img,test_imgs_label))"
      ],
      "metadata": {
        "id": "6AF6zf6qwWR-"
      },
      "execution_count": null,
      "outputs": []
    },
    {
      "cell_type": "code",
      "source": [
        "img_batch,label_batch=next(iter(train_dl))"
      ],
      "metadata": {
        "id": "oj4PvRxhry6Y"
      },
      "execution_count": null,
      "outputs": []
    },
    {
      "cell_type": "code",
      "source": [
        "plt.figure(figsize=(12,8))\n",
        "for i,(img,label) in enumerate(zip(img_batch[:6],label_batch[:6])):\n",
        "    img = img.permute(1,2,0).numpy()\n",
        "    plt.subplot(2,3,i+1)\n",
        "    plt.imshow(img)\n",
        "    plt.title(label)"
      ],
      "metadata": {
        "id": "GM-LSG4pry9Q"
      },
      "execution_count": null,
      "outputs": []
    }
  ]
}