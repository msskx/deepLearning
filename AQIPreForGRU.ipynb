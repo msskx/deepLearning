{
  "cells": [
    {
      "cell_type": "markdown",
      "metadata": {
        "id": "view-in-github",
        "colab_type": "text"
      },
      "source": [
        "<a href=\"https://colab.research.google.com/github/msskx/deepLearning/blob/main/AQIPreForGRU.ipynb\" target=\"_parent\"><img src=\"https://colab.research.google.com/assets/colab-badge.svg\" alt=\"Open In Colab\"/></a>"
      ]
    },
    {
      "cell_type": "code",
      "execution_count": 2,
      "id": "17d0710f",
      "metadata": {
        "id": "17d0710f"
      },
      "outputs": [],
      "source": [
        "import pandas as pd\n",
        "import matplotlib.pyplot as plt\n",
        "import numpy as np"
      ]
    },
    {
      "cell_type": "code",
      "source": [
        "from google.colab import drive\n",
        "drive.mount('/content/drive')"
      ],
      "metadata": {
        "colab": {
          "base_uri": "https://localhost:8080/"
        },
        "id": "se-By3-Rr6un",
        "outputId": "5c6f8501-cc78-4efd-f47f-fb52e05d8988"
      },
      "id": "se-By3-Rr6un",
      "execution_count": 3,
      "outputs": [
        {
          "output_type": "stream",
          "name": "stdout",
          "text": [
            "Drive already mounted at /content/drive; to attempt to forcibly remount, call drive.mount(\"/content/drive\", force_remount=True).\n"
          ]
        }
      ]
    },
    {
      "cell_type": "code",
      "execution_count": 4,
      "id": "1c451c12",
      "metadata": {
        "id": "1c451c12"
      },
      "outputs": [],
      "source": [
        "import torch\n",
        "from torch import nn"
      ]
    },
    {
      "cell_type": "code",
      "execution_count": 5,
      "id": "decef215",
      "metadata": {
        "id": "decef215"
      },
      "outputs": [],
      "source": [
        "from matplotlib import pyplot as plt"
      ]
    },
    {
      "cell_type": "code",
      "execution_count": 6,
      "id": "2c6148f8",
      "metadata": {
        "id": "2c6148f8"
      },
      "outputs": [],
      "source": [
        "df=pd.read_csv(r'/content/drive/MyDrive/时间序列/Air_AQI_yanan.csv')"
      ]
    },
    {
      "cell_type": "code",
      "execution_count": 7,
      "id": "8c3a2ce7",
      "metadata": {
        "colab": {
          "base_uri": "https://localhost:8080/",
          "height": 206
        },
        "id": "8c3a2ce7",
        "outputId": "ad3ebc6d-4622-4cc5-9efc-6e6b77261caf"
      },
      "outputs": [
        {
          "output_type": "execute_result",
          "data": {
            "text/plain": [
              "            Date Quality_grade  AQI  AQI_rank  PM2_5  PM10  SO2  NO2    CO  O3\n",
              "3237  2022-12-27             良   52        95     30    53    8   39  0.98  30\n",
              "3238  2022-12-28             良   56       136     33    56   12   45  1.00  23\n",
              "3239  2022-12-29             优   49        96     29    52   10   44  1.07  27\n",
              "3240  2022-12-30             良   67       163     45    67   12   52  1.26  26\n",
              "3241  2022-12-31             良   78       171     56    78    9   55  1.27  28"
            ],
            "text/html": [
              "\n",
              "  <div id=\"df-c1c6e892-c30d-42b7-ba60-753a8f74a861\">\n",
              "    <div class=\"colab-df-container\">\n",
              "      <div>\n",
              "<style scoped>\n",
              "    .dataframe tbody tr th:only-of-type {\n",
              "        vertical-align: middle;\n",
              "    }\n",
              "\n",
              "    .dataframe tbody tr th {\n",
              "        vertical-align: top;\n",
              "    }\n",
              "\n",
              "    .dataframe thead th {\n",
              "        text-align: right;\n",
              "    }\n",
              "</style>\n",
              "<table border=\"1\" class=\"dataframe\">\n",
              "  <thead>\n",
              "    <tr style=\"text-align: right;\">\n",
              "      <th></th>\n",
              "      <th>Date</th>\n",
              "      <th>Quality_grade</th>\n",
              "      <th>AQI</th>\n",
              "      <th>AQI_rank</th>\n",
              "      <th>PM2_5</th>\n",
              "      <th>PM10</th>\n",
              "      <th>SO2</th>\n",
              "      <th>NO2</th>\n",
              "      <th>CO</th>\n",
              "      <th>O3</th>\n",
              "    </tr>\n",
              "  </thead>\n",
              "  <tbody>\n",
              "    <tr>\n",
              "      <th>3237</th>\n",
              "      <td>2022-12-27</td>\n",
              "      <td>良</td>\n",
              "      <td>52</td>\n",
              "      <td>95</td>\n",
              "      <td>30</td>\n",
              "      <td>53</td>\n",
              "      <td>8</td>\n",
              "      <td>39</td>\n",
              "      <td>0.98</td>\n",
              "      <td>30</td>\n",
              "    </tr>\n",
              "    <tr>\n",
              "      <th>3238</th>\n",
              "      <td>2022-12-28</td>\n",
              "      <td>良</td>\n",
              "      <td>56</td>\n",
              "      <td>136</td>\n",
              "      <td>33</td>\n",
              "      <td>56</td>\n",
              "      <td>12</td>\n",
              "      <td>45</td>\n",
              "      <td>1.00</td>\n",
              "      <td>23</td>\n",
              "    </tr>\n",
              "    <tr>\n",
              "      <th>3239</th>\n",
              "      <td>2022-12-29</td>\n",
              "      <td>优</td>\n",
              "      <td>49</td>\n",
              "      <td>96</td>\n",
              "      <td>29</td>\n",
              "      <td>52</td>\n",
              "      <td>10</td>\n",
              "      <td>44</td>\n",
              "      <td>1.07</td>\n",
              "      <td>27</td>\n",
              "    </tr>\n",
              "    <tr>\n",
              "      <th>3240</th>\n",
              "      <td>2022-12-30</td>\n",
              "      <td>良</td>\n",
              "      <td>67</td>\n",
              "      <td>163</td>\n",
              "      <td>45</td>\n",
              "      <td>67</td>\n",
              "      <td>12</td>\n",
              "      <td>52</td>\n",
              "      <td>1.26</td>\n",
              "      <td>26</td>\n",
              "    </tr>\n",
              "    <tr>\n",
              "      <th>3241</th>\n",
              "      <td>2022-12-31</td>\n",
              "      <td>良</td>\n",
              "      <td>78</td>\n",
              "      <td>171</td>\n",
              "      <td>56</td>\n",
              "      <td>78</td>\n",
              "      <td>9</td>\n",
              "      <td>55</td>\n",
              "      <td>1.27</td>\n",
              "      <td>28</td>\n",
              "    </tr>\n",
              "  </tbody>\n",
              "</table>\n",
              "</div>\n",
              "      <button class=\"colab-df-convert\" onclick=\"convertToInteractive('df-c1c6e892-c30d-42b7-ba60-753a8f74a861')\"\n",
              "              title=\"Convert this dataframe to an interactive table.\"\n",
              "              style=\"display:none;\">\n",
              "        \n",
              "  <svg xmlns=\"http://www.w3.org/2000/svg\" height=\"24px\"viewBox=\"0 0 24 24\"\n",
              "       width=\"24px\">\n",
              "    <path d=\"M0 0h24v24H0V0z\" fill=\"none\"/>\n",
              "    <path d=\"M18.56 5.44l.94 2.06.94-2.06 2.06-.94-2.06-.94-.94-2.06-.94 2.06-2.06.94zm-11 1L8.5 8.5l.94-2.06 2.06-.94-2.06-.94L8.5 2.5l-.94 2.06-2.06.94zm10 10l.94 2.06.94-2.06 2.06-.94-2.06-.94-.94-2.06-.94 2.06-2.06.94z\"/><path d=\"M17.41 7.96l-1.37-1.37c-.4-.4-.92-.59-1.43-.59-.52 0-1.04.2-1.43.59L10.3 9.45l-7.72 7.72c-.78.78-.78 2.05 0 2.83L4 21.41c.39.39.9.59 1.41.59.51 0 1.02-.2 1.41-.59l7.78-7.78 2.81-2.81c.8-.78.8-2.07 0-2.86zM5.41 20L4 18.59l7.72-7.72 1.47 1.35L5.41 20z\"/>\n",
              "  </svg>\n",
              "      </button>\n",
              "      \n",
              "  <style>\n",
              "    .colab-df-container {\n",
              "      display:flex;\n",
              "      flex-wrap:wrap;\n",
              "      gap: 12px;\n",
              "    }\n",
              "\n",
              "    .colab-df-convert {\n",
              "      background-color: #E8F0FE;\n",
              "      border: none;\n",
              "      border-radius: 50%;\n",
              "      cursor: pointer;\n",
              "      display: none;\n",
              "      fill: #1967D2;\n",
              "      height: 32px;\n",
              "      padding: 0 0 0 0;\n",
              "      width: 32px;\n",
              "    }\n",
              "\n",
              "    .colab-df-convert:hover {\n",
              "      background-color: #E2EBFA;\n",
              "      box-shadow: 0px 1px 2px rgba(60, 64, 67, 0.3), 0px 1px 3px 1px rgba(60, 64, 67, 0.15);\n",
              "      fill: #174EA6;\n",
              "    }\n",
              "\n",
              "    [theme=dark] .colab-df-convert {\n",
              "      background-color: #3B4455;\n",
              "      fill: #D2E3FC;\n",
              "    }\n",
              "\n",
              "    [theme=dark] .colab-df-convert:hover {\n",
              "      background-color: #434B5C;\n",
              "      box-shadow: 0px 1px 3px 1px rgba(0, 0, 0, 0.15);\n",
              "      filter: drop-shadow(0px 1px 2px rgba(0, 0, 0, 0.3));\n",
              "      fill: #FFFFFF;\n",
              "    }\n",
              "  </style>\n",
              "\n",
              "      <script>\n",
              "        const buttonEl =\n",
              "          document.querySelector('#df-c1c6e892-c30d-42b7-ba60-753a8f74a861 button.colab-df-convert');\n",
              "        buttonEl.style.display =\n",
              "          google.colab.kernel.accessAllowed ? 'block' : 'none';\n",
              "\n",
              "        async function convertToInteractive(key) {\n",
              "          const element = document.querySelector('#df-c1c6e892-c30d-42b7-ba60-753a8f74a861');\n",
              "          const dataTable =\n",
              "            await google.colab.kernel.invokeFunction('convertToInteractive',\n",
              "                                                     [key], {});\n",
              "          if (!dataTable) return;\n",
              "\n",
              "          const docLinkHtml = 'Like what you see? Visit the ' +\n",
              "            '<a target=\"_blank\" href=https://colab.research.google.com/notebooks/data_table.ipynb>data table notebook</a>'\n",
              "            + ' to learn more about interactive tables.';\n",
              "          element.innerHTML = '';\n",
              "          dataTable['output_type'] = 'display_data';\n",
              "          await google.colab.output.renderOutput(dataTable, element);\n",
              "          const docLink = document.createElement('div');\n",
              "          docLink.innerHTML = docLinkHtml;\n",
              "          element.appendChild(docLink);\n",
              "        }\n",
              "      </script>\n",
              "    </div>\n",
              "  </div>\n",
              "  "
            ]
          },
          "metadata": {},
          "execution_count": 7
        }
      ],
      "source": [
        "df.tail()"
      ]
    },
    {
      "cell_type": "code",
      "execution_count": 8,
      "id": "57748b7b",
      "metadata": {
        "colab": {
          "base_uri": "https://localhost:8080/"
        },
        "id": "57748b7b",
        "outputId": "033deb22-0233-47e3-cbde-803ac40d3cb6"
      },
      "outputs": [
        {
          "output_type": "execute_result",
          "data": {
            "text/plain": [
              "Index(['Date', 'Quality_grade', 'AQI', 'AQI_rank', 'PM2_5', 'PM10', 'SO2',\n",
              "       'NO2', 'CO', 'O3'],\n",
              "      dtype='object')"
            ]
          },
          "metadata": {},
          "execution_count": 8
        }
      ],
      "source": [
        "df.columns"
      ]
    },
    {
      "cell_type": "code",
      "execution_count": 9,
      "id": "2b6cb316",
      "metadata": {
        "id": "2b6cb316"
      },
      "outputs": [],
      "source": [
        "data=pd.DataFrame(df.loc[:,['Date','AQI', 'PM2_5', 'PM10', 'SO2','NO2', 'CO', 'O3']])"
      ]
    },
    {
      "cell_type": "code",
      "execution_count": 10,
      "id": "06ce46c2",
      "metadata": {
        "id": "06ce46c2"
      },
      "outputs": [],
      "source": [
        "data=data.set_index('Date')"
      ]
    },
    {
      "cell_type": "code",
      "execution_count": 11,
      "id": "0c11af21",
      "metadata": {
        "colab": {
          "base_uri": "https://localhost:8080/",
          "height": 745
        },
        "id": "0c11af21",
        "outputId": "407fdd44-efef-431a-fba3-1b0eec5eaae2"
      },
      "outputs": [
        {
          "output_type": "execute_result",
          "data": {
            "text/plain": [
              "array([<matplotlib.axes._subplots.AxesSubplot object at 0x7fde8484e9d0>,\n",
              "       <matplotlib.axes._subplots.AxesSubplot object at 0x7fde847afe50>,\n",
              "       <matplotlib.axes._subplots.AxesSubplot object at 0x7fde847600a0>,\n",
              "       <matplotlib.axes._subplots.AxesSubplot object at 0x7fde8478f1c0>,\n",
              "       <matplotlib.axes._subplots.AxesSubplot object at 0x7fde8473e2e0>,\n",
              "       <matplotlib.axes._subplots.AxesSubplot object at 0x7fde846ee400>,\n",
              "       <matplotlib.axes._subplots.AxesSubplot object at 0x7fde846fc3a0>],\n",
              "      dtype=object)"
            ]
          },
          "metadata": {},
          "execution_count": 11
        },
        {
          "output_type": "display_data",
          "data": {
            "text/plain": [
              "<Figure size 1440x720 with 7 Axes>"
            ],
            "image/png": "[encoded data removed]"
          },
          "metadata": {
            "needs_background": "light"
          }
        }
      ],
      "source": [
        "\n",
        "data.plot(subplots=True,figsize=(20,10))\n"
      ]
    },
    {
      "cell_type": "code",
      "execution_count": 12,
      "id": "6484867e",
      "metadata": {
        "id": "6484867e",
        "outputId": "2c228298-61f3-464b-b51c-42b86b700d6a",
        "colab": {
          "base_uri": "https://localhost:8080/",
          "height": 237
        }
      },
      "outputs": [
        {
          "output_type": "execute_result",
          "data": {
            "text/plain": [
              "            AQI  PM2_5  PM10  SO2  NO2    CO  O3\n",
              "Date                                            \n",
              "2014-01-01   92     50   115  107   54  2.37  13\n",
              "2014-01-02   87     50   106  115   50  2.34   8\n",
              "2014-01-03   85     51   114   94   45  2.26  14\n",
              "2014-01-04   80     49   106   97   51  2.40  12\n",
              "2014-01-05   82     51   107  103   54  2.37  10"
            ],
            "text/html": [
              "\n",
              "  <div id=\"df-1d15b4b6-7994-42a5-aeb1-65a81823bf2e\">\n",
              "    <div class=\"colab-df-container\">\n",
              "      <div>\n",
              "<style scoped>\n",
              "    .dataframe tbody tr th:only-of-type {\n",
              "        vertical-align: middle;\n",
              "    }\n",
              "\n",
              "    .dataframe tbody tr th {\n",
              "        vertical-align: top;\n",
              "    }\n",
              "\n",
              "    .dataframe thead th {\n",
              "        text-align: right;\n",
              "    }\n",
              "</style>\n",
              "<table border=\"1\" class=\"dataframe\">\n",
              "  <thead>\n",
              "    <tr style=\"text-align: right;\">\n",
              "      <th></th>\n",
              "      <th>AQI</th>\n",
              "      <th>PM2_5</th>\n",
              "      <th>PM10</th>\n",
              "      <th>SO2</th>\n",
              "      <th>NO2</th>\n",
              "      <th>CO</th>\n",
              "      <th>O3</th>\n",
              "    </tr>\n",
              "    <tr>\n",
              "      <th>Date</th>\n",
              "      <th></th>\n",
              "      <th></th>\n",
              "      <th></th>\n",
              "      <th></th>\n",
              "      <th></th>\n",
              "      <th></th>\n",
              "      <th></th>\n",
              "    </tr>\n",
              "  </thead>\n",
              "  <tbody>\n",
              "    <tr>\n",
              "      <th>2014-01-01</th>\n",
              "      <td>92</td>\n",
              "      <td>50</td>\n",
              "      <td>115</td>\n",
              "      <td>107</td>\n",
              "      <td>54</td>\n",
              "      <td>2.37</td>\n",
              "      <td>13</td>\n",
              "    </tr>\n",
              "    <tr>\n",
              "      <th>2014-01-02</th>\n",
              "      <td>87</td>\n",
              "      <td>50</td>\n",
              "      <td>106</td>\n",
              "      <td>115</td>\n",
              "      <td>50</td>\n",
              "      <td>2.34</td>\n",
              "      <td>8</td>\n",
              "    </tr>\n",
              "    <tr>\n",
              "      <th>2014-01-03</th>\n",
              "      <td>85</td>\n",
              "      <td>51</td>\n",
              "      <td>114</td>\n",
              "      <td>94</td>\n",
              "      <td>45</td>\n",
              "      <td>2.26</td>\n",
              "      <td>14</td>\n",
              "    </tr>\n",
              "    <tr>\n",
              "      <th>2014-01-04</th>\n",
              "      <td>80</td>\n",
              "      <td>49</td>\n",
              "      <td>106</td>\n",
              "      <td>97</td>\n",
              "      <td>51</td>\n",
              "      <td>2.40</td>\n",
              "      <td>12</td>\n",
              "    </tr>\n",
              "    <tr>\n",
              "      <th>2014-01-05</th>\n",
              "      <td>82</td>\n",
              "      <td>51</td>\n",
              "      <td>107</td>\n",
              "      <td>103</td>\n",
              "      <td>54</td>\n",
              "      <td>2.37</td>\n",
              "      <td>10</td>\n",
              "    </tr>\n",
              "  </tbody>\n",
              "</table>\n",
              "</div>\n",
              "      <button class=\"colab-df-convert\" onclick=\"convertToInteractive('df-1d15b4b6-7994-42a5-aeb1-65a81823bf2e')\"\n",
              "              title=\"Convert this dataframe to an interactive table.\"\n",
              "              style=\"display:none;\">\n",
              "        \n",
              "  <svg xmlns=\"http://www.w3.org/2000/svg\" height=\"24px\"viewBox=\"0 0 24 24\"\n",
              "       width=\"24px\">\n",
              "    <path d=\"M0 0h24v24H0V0z\" fill=\"none\"/>\n",
              "    <path d=\"M18.56 5.44l.94 2.06.94-2.06 2.06-.94-2.06-.94-.94-2.06-.94 2.06-2.06.94zm-11 1L8.5 8.5l.94-2.06 2.06-.94-2.06-.94L8.5 2.5l-.94 2.06-2.06.94zm10 10l.94 2.06.94-2.06 2.06-.94-2.06-.94-.94-2.06-.94 2.06-2.06.94z\"/><path d=\"M17.41 7.96l-1.37-1.37c-.4-.4-.92-.59-1.43-.59-.52 0-1.04.2-1.43.59L10.3 9.45l-7.72 7.72c-.78.78-.78 2.05 0 2.83L4 21.41c.39.39.9.59 1.41.59.51 0 1.02-.2 1.41-.59l7.78-7.78 2.81-2.81c.8-.78.8-2.07 0-2.86zM5.41 20L4 18.59l7.72-7.72 1.47 1.35L5.41 20z\"/>\n",
              "  </svg>\n",
              "      </button>\n",
              "      \n",
              "  <style>\n",
              "    .colab-df-container {\n",
              "      display:flex;\n",
              "      flex-wrap:wrap;\n",
              "      gap: 12px;\n",
              "    }\n",
              "\n",
              "    .colab-df-convert {\n",
              "      background-color: #E8F0FE;\n",
              "      border: none;\n",
              "      border-radius: 50%;\n",
              "      cursor: pointer;\n",
              "      display: none;\n",
              "      fill: #1967D2;\n",
              "      height: 32px;\n",
              "      padding: 0 0 0 0;\n",
              "      width: 32px;\n",
              "    }\n",
              "\n",
              "    .colab-df-convert:hover {\n",
              "      background-color: #E2EBFA;\n",
              "      box-shadow: 0px 1px 2px rgba(60, 64, 67, 0.3), 0px 1px 3px 1px rgba(60, 64, 67, 0.15);\n",
              "      fill: #174EA6;\n",
              "    }\n",
              "\n",
              "    [theme=dark] .colab-df-convert {\n",
              "      background-color: #3B4455;\n",
              "      fill: #D2E3FC;\n",
              "    }\n",
              "\n",
              "    [theme=dark] .colab-df-convert:hover {\n",
              "      background-color: #434B5C;\n",
              "      box-shadow: 0px 1px 3px 1px rgba(0, 0, 0, 0.15);\n",
              "      filter: drop-shadow(0px 1px 2px rgba(0, 0, 0, 0.3));\n",
              "      fill: #FFFFFF;\n",
              "    }\n",
              "  </style>\n",
              "\n",
              "      <script>\n",
              "        const buttonEl =\n",
              "          document.querySelector('#df-1d15b4b6-7994-42a5-aeb1-65a81823bf2e button.colab-df-convert');\n",
              "        buttonEl.style.display =\n",
              "          google.colab.kernel.accessAllowed ? 'block' : 'none';\n",
              "\n",
              "        async function convertToInteractive(key) {\n",
              "          const element = document.querySelector('#df-1d15b4b6-7994-42a5-aeb1-65a81823bf2e');\n",
              "          const dataTable =\n",
              "            await google.colab.kernel.invokeFunction('convertToInteractive',\n",
              "                                                     [key], {});\n",
              "          if (!dataTable) return;\n",
              "\n",
              "          const docLinkHtml = 'Like what you see? Visit the ' +\n",
              "            '<a target=\"_blank\" href=https://colab.research.google.com/notebooks/data_table.ipynb>data table notebook</a>'\n",
              "            + ' to learn more about interactive tables.';\n",
              "          element.innerHTML = '';\n",
              "          dataTable['output_type'] = 'display_data';\n",
              "          await google.colab.output.renderOutput(dataTable, element);\n",
              "          const docLink = document.createElement('div');\n",
              "          docLink.innerHTML = docLinkHtml;\n",
              "          element.appendChild(docLink);\n",
              "        }\n",
              "      </script>\n",
              "    </div>\n",
              "  </div>\n",
              "  "
            ]
          },
          "metadata": {},
          "execution_count": 12
        }
      ],
      "source": [
        "data.head()"
      ]
    },
    {
      "cell_type": "code",
      "execution_count": 13,
      "id": "63415877",
      "metadata": {
        "id": "63415877"
      },
      "outputs": [],
      "source": [
        "seq_length = 30 #观测30天\n",
        "delay = 7 #预测7天"
      ]
    },
    {
      "cell_type": "code",
      "execution_count": 14,
      "id": "ed6826f1",
      "metadata": {
        "id": "ed6826f1"
      },
      "outputs": [],
      "source": [
        "### 滑动窗口生成数据"
      ]
    },
    {
      "cell_type": "code",
      "execution_count": 15,
      "id": "40b4c622",
      "metadata": {
        "id": "40b4c622"
      },
      "outputs": [],
      "source": [
        "data_=[]\n",
        "for i in range(len(data) - seq_length - delay):\n",
        "    data_.append(data.iloc[i:i+seq_length+delay])"
      ]
    },
    {
      "cell_type": "code",
      "execution_count": 16,
      "id": "28ffe90f",
      "metadata": {
        "colab": {
          "base_uri": "https://localhost:8080/"
        },
        "id": "28ffe90f",
        "outputId": "8a1dddd3-1d2c-4dd5-cc39-f22c272322aa"
      },
      "outputs": [
        {
          "output_type": "execute_result",
          "data": {
            "text/plain": [
              "(37, 7)"
            ]
          },
          "metadata": {},
          "execution_count": 16
        }
      ],
      "source": [
        "data_[0].shape#每条训练数据有37条数据7个特征"
      ]
    },
    {
      "cell_type": "code",
      "execution_count": 17,
      "id": "da600538",
      "metadata": {
        "id": "da600538"
      },
      "outputs": [],
      "source": [
        "data_ = np.array([df.values for df in data_])"
      ]
    },
    {
      "cell_type": "code",
      "execution_count": 18,
      "id": "3d2c352a",
      "metadata": {
        "colab": {
          "base_uri": "https://localhost:8080/"
        },
        "id": "3d2c352a",
        "outputId": "2c0d8e2f-9e70-4e42-b2c2-c9bdb70789a9"
      },
      "outputs": [
        {
          "output_type": "execute_result",
          "data": {
            "text/plain": [
              "(3205, 37, 7)"
            ]
          },
          "metadata": {},
          "execution_count": 18
        }
      ],
      "source": [
        "data_.shape"
      ]
    },
    {
      "cell_type": "code",
      "execution_count": 19,
      "id": "6849852c",
      "metadata": {
        "id": "6849852c"
      },
      "outputs": [],
      "source": [
        "np.random.shuffle(data_) # 乱序"
      ]
    },
    {
      "cell_type": "code",
      "execution_count": 20,
      "id": "c0258a80",
      "metadata": {
        "id": "c0258a80"
      },
      "outputs": [],
      "source": [
        "x = data_[:,:seq_length,:] #高维切片"
      ]
    },
    {
      "cell_type": "code",
      "execution_count": 21,
      "id": "52d6e29c",
      "metadata": {
        "id": "52d6e29c"
      },
      "outputs": [],
      "source": [
        "y = data_[:,-delay:,0] #取出delay个预测数据，并预测AQI特征"
      ]
    },
    {
      "cell_type": "code",
      "execution_count": 22,
      "id": "d5f6e4e2",
      "metadata": {
        "colab": {
          "base_uri": "https://localhost:8080/"
        },
        "id": "d5f6e4e2",
        "outputId": "1122aaca-108b-4764-afe5-31f5802dd81e"
      },
      "outputs": [
        {
          "output_type": "execute_result",
          "data": {
            "text/plain": [
              "((3205, 30, 7), (3205, 7))"
            ]
          },
          "metadata": {},
          "execution_count": 22
        }
      ],
      "source": [
        "x.shape,y.shape"
      ]
    },
    {
      "cell_type": "code",
      "execution_count": 23,
      "id": "23040dc3",
      "metadata": {
        "id": "23040dc3"
      },
      "outputs": [],
      "source": [
        "from sklearn.model_selection import train_test_split   "
      ]
    },
    {
      "cell_type": "code",
      "execution_count": 24,
      "id": "438f1bf1",
      "metadata": {
        "id": "438f1bf1"
      },
      "outputs": [],
      "source": [
        "x_train, x_test, y_train, y_test = train_test_split(x, y, test_size=0.3, random_state=42)"
      ]
    },
    {
      "cell_type": "code",
      "execution_count": 25,
      "id": "cb6753bf",
      "metadata": {
        "colab": {
          "base_uri": "https://localhost:8080/"
        },
        "id": "cb6753bf",
        "outputId": "2b109311-3d43-485d-809f-de7a1b190bac"
      },
      "outputs": [
        {
          "output_type": "execute_result",
          "data": {
            "text/plain": [
              "((2243, 30, 7), (962, 30, 7))"
            ]
          },
          "metadata": {},
          "execution_count": 25
        }
      ],
      "source": [
        "x_train.shape,x_test.shape"
      ]
    },
    {
      "cell_type": "code",
      "execution_count": 26,
      "id": "05bcf9ac",
      "metadata": {
        "id": "05bcf9ac"
      },
      "outputs": [],
      "source": [
        "mean = x_train.mean(axis=0)#对列处理\n",
        "std = x_train.std(axis=0)"
      ]
    },
    {
      "cell_type": "code",
      "execution_count": 27,
      "id": "bf179972",
      "metadata": {
        "id": "bf179972"
      },
      "outputs": [],
      "source": [
        "x_train = (x_train-mean)/std"
      ]
    },
    {
      "cell_type": "code",
      "execution_count": 28,
      "id": "6da7a0ad",
      "metadata": {
        "id": "6da7a0ad"
      },
      "outputs": [],
      "source": [
        "x_test = (x_test-mean)/std"
      ]
    },
    {
      "cell_type": "code",
      "execution_count": 29,
      "id": "e42e05c8",
      "metadata": {
        "colab": {
          "base_uri": "https://localhost:8080/"
        },
        "id": "e42e05c8",
        "outputId": "583134b4-2220-4b6a-97c8-88f6891600c7"
      },
      "outputs": [
        {
          "output_type": "execute_result",
          "data": {
            "text/plain": [
              "(2243, 30, 7)"
            ]
          },
          "metadata": {},
          "execution_count": 29
        }
      ],
      "source": [
        "x_train.shape"
      ]
    },
    {
      "cell_type": "code",
      "execution_count": 30,
      "id": "73c0820d",
      "metadata": {
        "id": "73c0820d"
      },
      "outputs": [],
      "source": [
        "class MYDataset(torch.utils.data.Dataset):\n",
        "    def __init__(self,features,labels):\n",
        "        self.features = features\n",
        "        self.labels = labels\n",
        "    def __getitem__(self,index):\n",
        "        return self.features[index],self.labels[index]\n",
        "    def __len__(self):\n",
        "        return len(self.features)\n"
      ]
    },
    {
      "cell_type": "code",
      "execution_count": 31,
      "id": "e7c762da",
      "metadata": {
        "id": "e7c762da"
      },
      "outputs": [],
      "source": [
        "train_ds=MYDataset(x_train,y_train)\n",
        "test_ds=MYDataset(x_test,y_test)"
      ]
    },
    {
      "cell_type": "code",
      "execution_count": 32,
      "id": "482922ab",
      "metadata": {
        "id": "482922ab"
      },
      "outputs": [],
      "source": [
        "train_dl=torch.utils.data.DataLoader(train_ds,batch_size=32)\n",
        "test_dl=torch.utils.data.DataLoader(test_ds,batch_size=32)"
      ]
    },
    {
      "cell_type": "code",
      "execution_count": 33,
      "id": "93c93736",
      "metadata": {
        "colab": {
          "base_uri": "https://localhost:8080/"
        },
        "id": "93c93736",
        "outputId": "3d499498-0eeb-447a-a516-9af2575757b9"
      },
      "outputs": [
        {
          "output_type": "execute_result",
          "data": {
            "text/plain": [
              "(torch.Size([32, 30, 7]), torch.Size([32, 7]))"
            ]
          },
          "metadata": {},
          "execution_count": 33
        }
      ],
      "source": [
        "next(iter(train_dl))[0].shape,next(iter(train_dl))[1].shape"
      ]
    },
    {
      "cell_type": "code",
      "execution_count": 34,
      "id": "b86b52de",
      "metadata": {
        "id": "b86b52de"
      },
      "outputs": [],
      "source": [
        "# 创建模型\n",
        "from torch import functional as F"
      ]
    },
    {
      "cell_type": "code",
      "execution_count": 44,
      "id": "88b335da",
      "metadata": {
        "id": "88b335da"
      },
      "outputs": [],
      "source": [
        "class Net(nn.Module):\n",
        "  def __init__(self,hidden_size):\n",
        "    super(Net,self).__init__()\n",
        "    self.rnn = nn.GRU(x_train.shape[-1],hidden_size,batch_first=True)\n",
        "    self.fc1 = nn.Linear(hidden_size,128)\n",
        "    self.fc2 = nn.Linear(128,7)\n",
        "    self.dropout = nn.Dropout(p=0.5) \n",
        "  def forward(self,inputs):\n",
        "    inputs = inputs.to(torch.float32)\n",
        "    f_o , s_o = self.rnn(inputs) # s_o中间状态\n",
        "    s_o = s_o[-1]\n",
        "    x = torch.relu(self.fc1(s_o))\n",
        "    x = self.dropout(x)\n",
        "    x = self.fc2(x)\n",
        "    return torch.squeeze(x)\n"
      ]
    },
    {
      "cell_type": "code",
      "source": [
        "hidden_size = 64\n",
        "model = Net(hidden_size)"
      ],
      "metadata": {
        "id": "dyqush_SDSqt"
      },
      "id": "dyqush_SDSqt",
      "execution_count": 45,
      "outputs": []
    },
    {
      "cell_type": "code",
      "source": [
        "model"
      ],
      "metadata": {
        "colab": {
          "base_uri": "https://localhost:8080/"
        },
        "id": "1YJNPF4PDYj1",
        "outputId": "bbcdefdb-47e9-470d-f132-3695eb99cdf8"
      },
      "id": "1YJNPF4PDYj1",
      "execution_count": 46,
      "outputs": [
        {
          "output_type": "execute_result",
          "data": {
            "text/plain": [
              "Net(\n",
              "  (rnn): GRU(7, 64, batch_first=True)\n",
              "  (fc1): Linear(in_features=64, out_features=128, bias=True)\n",
              "  (fc2): Linear(in_features=128, out_features=7, bias=True)\n",
              "  (dropout): Dropout(p=0.5, inplace=False)\n",
              ")"
            ]
          },
          "metadata": {},
          "execution_count": 46
        }
      ]
    },
    {
      "cell_type": "code",
      "source": [
        "if torch.cuda.is_available():\n",
        "  model.to('cuda')"
      ],
      "metadata": {
        "id": "A4QA6VYSDaSz"
      },
      "id": "A4QA6VYSDaSz",
      "execution_count": 47,
      "outputs": []
    },
    {
      "cell_type": "code",
      "source": [
        "loss_fn = nn.MSELoss()"
      ],
      "metadata": {
        "id": "l-1fAjfyDjs0"
      },
      "id": "l-1fAjfyDjs0",
      "execution_count": 48,
      "outputs": []
    },
    {
      "cell_type": "code",
      "source": [
        "optimizer = torch.optim.Adam(model.parameters(),lr=0.001)"
      ],
      "metadata": {
        "id": "7PLYmrACDtKj"
      },
      "id": "7PLYmrACDtKj",
      "execution_count": 49,
      "outputs": []
    },
    {
      "cell_type": "code",
      "source": [
        "def fit(epoch, model, trainloader, testloader):\n",
        "    total = 0\n",
        "    running_loss = 0\n",
        "    \n",
        "    model.train()\n",
        "    for x, y in trainloader:\n",
        "        if torch.cuda.is_available():\n",
        "            x, y = x.to('cuda'), y.to('cuda')\n",
        "        # x = x.float()\n",
        "        x = x.to(torch.float64)\n",
        "        y = y.to(torch.float64)\n",
        "        y_pred = model(x)\n",
        "        y_pred = y_pred.to(torch.float64)\n",
        "\n",
        "        loss = loss_fn(y_pred, y)\n",
        "        # print(type(y_pred))\n",
        "        # print(type(y))\n",
        "        # print(loss)\n",
        "        optimizer.zero_grad()\n",
        "        loss.backward()\n",
        "        optimizer.step()\n",
        "        with torch.no_grad():\n",
        "            total += y.size(0)\n",
        "            running_loss += loss.item()\n",
        "#    exp_lr_scheduler.step()\n",
        "    epoch_loss = running_loss / len(trainloader.dataset)\n",
        "        \n",
        "        \n",
        "    test_total = 0\n",
        "    test_running_loss = 0 \n",
        "    \n",
        "    model.eval()\n",
        "    with torch.no_grad():\n",
        "        for x, y in testloader:\n",
        "            if torch.cuda.is_available():\n",
        "                x, y = x.to('cuda'), y.to('cuda')\n",
        "   \n",
        "            x = x.to(torch.float64)\n",
        "            y = y.to(torch.float64)\n",
        "            y_pred = model(x)\n",
        "            y_pred = y_pred.to(torch.float64)\n",
        "\n",
        "            loss = loss_fn(y_pred, y)\n",
        "            test_total += y.size(0)\n",
        "            test_running_loss += loss.item()\n",
        "    \n",
        "    epoch_test_loss = test_running_loss / len(testloader.dataset)\n",
        "    \n",
        "        \n",
        "    print('epoch: ', epoch, \n",
        "          'loss： ', round(epoch_loss, 3),\n",
        "          'test_loss： ', round(epoch_test_loss, 3),\n",
        "             )\n",
        "        \n",
        "    return epoch_loss, epoch_test_loss"
      ],
      "metadata": {
        "id": "JWoT7D3fFPyr"
      },
      "id": "JWoT7D3fFPyr",
      "execution_count": 50,
      "outputs": []
    },
    {
      "cell_type": "code",
      "source": [
        "epochs = 1000"
      ],
      "metadata": {
        "id": "P8PeDdn0Htos"
      },
      "id": "P8PeDdn0Htos",
      "execution_count": 51,
      "outputs": []
    },
    {
      "cell_type": "code",
      "source": [
        "train_loss = []\n",
        "test_loss = []\n",
        "\n",
        "for epoch in range(epochs):\n",
        "    epoch_loss, epoch_test_loss = fit(epoch,\n",
        "                                      model,\n",
        "                                      train_dl,\n",
        "                                      test_dl)\n",
        "    train_loss.append(epoch_loss)\n",
        "    test_loss.append(epoch_test_loss)"
      ],
      "metadata": {
        "colab": {
          "base_uri": "https://localhost:8080/"
        },
        "id": "_ipJ5l7RHvuT",
        "outputId": "79ae04e8-d644-4d06-c451-489be6cad7ed"
      },
      "id": "_ipJ5l7RHvuT",
      "execution_count": 52,
      "outputs": [
        {
          "output_type": "stream",
          "name": "stdout",
          "text": [
            "epoch:  0 loss：  164.744 test_loss：  73.861\n",
            "epoch:  1 loss：  43.195 test_loss：  37.983\n",
            "epoch:  2 loss：  42.711 test_loss：  46.883\n",
            "epoch:  3 loss：  41.248 test_loss：  37.356\n",
            "epoch:  4 loss：  36.786 test_loss：  34.534\n",
            "epoch:  5 loss：  35.744 test_loss：  33.118\n",
            "epoch:  6 loss：  35.666 test_loss：  32.687\n",
            "epoch:  7 loss：  35.084 test_loss：  31.715\n",
            "epoch:  8 loss：  34.133 test_loss：  30.93\n",
            "epoch:  9 loss：  33.525 test_loss：  30.247\n",
            "epoch:  10 loss：  33.657 test_loss：  29.981\n",
            "epoch:  11 loss：  33.176 test_loss：  29.87\n",
            "epoch:  12 loss：  32.897 test_loss：  29.714\n",
            "epoch:  13 loss：  32.518 test_loss：  29.446\n",
            "epoch:  14 loss：  31.934 test_loss：  29.628\n",
            "epoch:  15 loss：  31.996 test_loss：  29.449\n",
            "epoch:  16 loss：  32.041 test_loss：  29.741\n",
            "epoch:  17 loss：  32.157 test_loss：  29.435\n",
            "epoch:  18 loss：  31.969 test_loss：  29.378\n",
            "epoch:  19 loss：  31.882 test_loss：  29.49\n",
            "epoch:  20 loss：  32.049 test_loss：  29.414\n",
            "epoch:  21 loss：  31.806 test_loss：  29.545\n",
            "epoch:  22 loss：  31.713 test_loss：  29.386\n",
            "epoch:  23 loss：  32.043 test_loss：  29.283\n",
            "epoch:  24 loss：  31.508 test_loss：  29.183\n",
            "epoch:  25 loss：  31.939 test_loss：  29.618\n",
            "epoch:  26 loss：  31.441 test_loss：  29.401\n",
            "epoch:  27 loss：  31.601 test_loss：  29.15\n",
            "epoch:  28 loss：  31.694 test_loss：  29.103\n",
            "epoch:  29 loss：  31.398 test_loss：  29.294\n",
            "epoch:  30 loss：  31.502 test_loss：  29.167\n",
            "epoch:  31 loss：  31.707 test_loss：  28.983\n",
            "epoch:  32 loss：  31.292 test_loss：  29.104\n",
            "epoch:  33 loss：  30.804 test_loss：  29.027\n",
            "epoch:  34 loss：  30.761 test_loss：  28.853\n",
            "epoch:  35 loss：  31.006 test_loss：  28.88\n",
            "epoch:  36 loss：  30.625 test_loss：  28.986\n",
            "epoch:  37 loss：  31.162 test_loss：  28.886\n",
            "epoch:  38 loss：  31.12 test_loss：  28.811\n",
            "epoch:  39 loss：  31.237 test_loss：  28.798\n",
            "epoch:  40 loss：  30.741 test_loss：  28.99\n",
            "epoch:  41 loss：  30.716 test_loss：  28.647\n",
            "epoch:  42 loss：  30.189 test_loss：  28.668\n",
            "epoch:  43 loss：  30.83 test_loss：  28.87\n",
            "epoch:  44 loss：  31.07 test_loss：  28.747\n",
            "epoch:  45 loss：  30.618 test_loss：  28.72\n",
            "epoch:  46 loss：  30.335 test_loss：  28.613\n",
            "epoch:  47 loss：  30.66 test_loss：  28.815\n",
            "epoch:  48 loss：  30.477 test_loss：  28.494\n",
            "epoch:  49 loss：  30.557 test_loss：  28.514\n",
            "epoch:  50 loss：  30.774 test_loss：  28.352\n",
            "epoch:  51 loss：  30.568 test_loss：  28.537\n",
            "epoch:  52 loss：  30.316 test_loss：  28.701\n",
            "epoch:  53 loss：  30.045 test_loss：  28.579\n",
            "epoch:  54 loss：  30.009 test_loss：  28.555\n",
            "epoch:  55 loss：  30.462 test_loss：  28.284\n",
            "epoch:  56 loss：  30.221 test_loss：  28.689\n",
            "epoch:  57 loss：  30.153 test_loss：  28.55\n",
            "epoch:  58 loss：  29.766 test_loss：  28.352\n",
            "epoch:  59 loss：  29.598 test_loss：  28.315\n",
            "epoch:  60 loss：  29.731 test_loss：  28.358\n",
            "epoch:  61 loss：  29.469 test_loss：  28.402\n",
            "epoch:  62 loss：  29.465 test_loss：  28.416\n",
            "epoch:  63 loss：  28.935 test_loss：  28.213\n",
            "epoch:  64 loss：  29.549 test_loss：  28.165\n",
            "epoch:  65 loss：  29.337 test_loss：  28.375\n",
            "epoch:  66 loss：  29.209 test_loss：  28.147\n",
            "epoch:  67 loss：  28.915 test_loss：  28.179\n",
            "epoch:  68 loss：  29.368 test_loss：  28.12\n",
            "epoch:  69 loss：  29.311 test_loss：  28.147\n",
            "epoch:  70 loss：  29.176 test_loss：  28.19\n",
            "epoch:  71 loss：  29.1 test_loss：  28.284\n",
            "epoch:  72 loss：  28.962 test_loss：  28.169\n",
            "epoch:  73 loss：  29.19 test_loss：  28.1\n",
            "epoch:  74 loss：  28.987 test_loss：  28.202\n",
            "epoch:  75 loss：  28.983 test_loss：  28.165\n",
            "epoch:  76 loss：  28.719 test_loss：  28.17\n",
            "epoch:  77 loss：  28.41 test_loss：  27.99\n",
            "epoch:  78 loss：  28.698 test_loss：  28.049\n",
            "epoch:  79 loss：  29.204 test_loss：  28.13\n",
            "epoch:  80 loss：  28.582 test_loss：  28.198\n",
            "epoch:  81 loss：  28.554 test_loss：  28.328\n",
            "epoch:  82 loss：  28.367 test_loss：  28.038\n",
            "epoch:  83 loss：  28.454 test_loss：  27.953\n",
            "epoch:  84 loss：  28.535 test_loss：  28.186\n",
            "epoch:  85 loss：  27.837 test_loss：  27.907\n",
            "epoch:  86 loss：  28.452 test_loss：  28.066\n",
            "epoch:  87 loss：  28.5 test_loss：  28.042\n",
            "epoch:  88 loss：  28.617 test_loss：  27.855\n",
            "epoch:  89 loss：  28.164 test_loss：  27.726\n",
            "epoch:  90 loss：  28.083 test_loss：  27.639\n",
            "epoch:  91 loss：  28.07 test_loss：  27.633\n",
            "epoch:  92 loss：  28.094 test_loss：  27.517\n",
            "epoch:  93 loss：  28.242 test_loss：  27.781\n",
            "epoch:  94 loss：  28.286 test_loss：  27.48\n",
            "epoch:  95 loss：  27.545 test_loss：  27.408\n",
            "epoch:  96 loss：  28.222 test_loss：  27.509\n",
            "epoch:  97 loss：  27.724 test_loss：  27.375\n",
            "epoch:  98 loss：  27.817 test_loss：  27.361\n",
            "epoch:  99 loss：  27.866 test_loss：  27.398\n",
            "epoch:  100 loss：  28.251 test_loss：  27.369\n",
            "epoch:  101 loss：  28.379 test_loss：  28.189\n",
            "epoch:  102 loss：  29.081 test_loss：  27.632\n",
            "epoch:  103 loss：  28.393 test_loss：  27.395\n",
            "epoch:  104 loss：  28.258 test_loss：  27.481\n",
            "epoch:  105 loss：  28.317 test_loss：  27.347\n",
            "epoch:  106 loss：  27.617 test_loss：  27.515\n",
            "epoch:  107 loss：  28.14 test_loss：  27.548\n",
            "epoch:  108 loss：  27.975 test_loss：  27.161\n",
            "epoch:  109 loss：  28.222 test_loss：  27.339\n",
            "epoch:  110 loss：  28.27 test_loss：  27.238\n",
            "epoch:  111 loss：  28.282 test_loss：  27.112\n",
            "epoch:  112 loss：  27.347 test_loss：  26.866\n",
            "epoch:  113 loss：  28.926 test_loss：  28.414\n",
            "epoch:  114 loss：  29.172 test_loss：  27.462\n",
            "epoch:  115 loss：  28.543 test_loss：  27.322\n",
            "epoch:  116 loss：  28.282 test_loss：  27.215\n",
            "epoch:  117 loss：  28.391 test_loss：  27.411\n",
            "epoch:  118 loss：  28.094 test_loss：  27.141\n",
            "epoch:  119 loss：  27.939 test_loss：  27.205\n",
            "epoch:  120 loss：  28.372 test_loss：  26.969\n",
            "epoch:  121 loss：  28.119 test_loss：  27.148\n",
            "epoch:  122 loss：  28.329 test_loss：  27.217\n",
            "epoch:  123 loss：  28.543 test_loss：  26.997\n",
            "epoch:  124 loss：  27.638 test_loss：  26.813\n",
            "epoch:  125 loss：  27.941 test_loss：  26.808\n",
            "epoch:  126 loss：  27.812 test_loss：  26.975\n",
            "epoch:  127 loss：  27.486 test_loss：  26.71\n",
            "epoch:  128 loss：  27.576 test_loss：  26.823\n",
            "epoch:  129 loss：  27.878 test_loss：  26.894\n",
            "epoch:  130 loss：  27.674 test_loss：  26.662\n",
            "epoch:  131 loss：  27.529 test_loss：  26.713\n",
            "epoch:  132 loss：  27.618 test_loss：  26.809\n",
            "epoch:  133 loss：  26.836 test_loss：  26.622\n",
            "epoch:  134 loss：  27.329 test_loss：  26.523\n",
            "epoch:  135 loss：  27.582 test_loss：  26.321\n",
            "epoch:  136 loss：  27.261 test_loss：  26.963\n",
            "epoch:  137 loss：  27.081 test_loss：  27.073\n",
            "epoch:  138 loss：  27.298 test_loss：  26.931\n",
            "epoch:  139 loss：  27.143 test_loss：  27.023\n",
            "epoch:  140 loss：  27.053 test_loss：  26.791\n",
            "epoch:  141 loss：  27.404 test_loss：  26.566\n",
            "epoch:  142 loss：  27.061 test_loss：  26.5\n",
            "epoch:  143 loss：  27.386 test_loss：  26.561\n",
            "epoch:  144 loss：  26.603 test_loss：  26.31\n",
            "epoch:  145 loss：  26.635 test_loss：  26.504\n",
            "epoch:  146 loss：  26.671 test_loss：  26.383\n",
            "epoch:  147 loss：  26.49 test_loss：  26.329\n",
            "epoch:  148 loss：  26.624 test_loss：  26.217\n",
            "epoch:  149 loss：  27.043 test_loss：  26.557\n",
            "epoch:  150 loss：  26.179 test_loss：  26.491\n",
            "epoch:  151 loss：  26.162 test_loss：  26.184\n",
            "epoch:  152 loss：  26.198 test_loss：  26.221\n",
            "epoch:  153 loss：  25.86 test_loss：  26.357\n",
            "epoch:  154 loss：  25.894 test_loss：  26.191\n",
            "epoch:  155 loss：  25.8 test_loss：  26.414\n",
            "epoch:  156 loss：  26.155 test_loss：  26.166\n",
            "epoch:  157 loss：  25.946 test_loss：  26.599\n",
            "epoch:  158 loss：  26.333 test_loss：  26.433\n",
            "epoch:  159 loss：  26.003 test_loss：  26.155\n",
            "epoch:  160 loss：  26.405 test_loss：  26.092\n",
            "epoch:  161 loss：  25.571 test_loss：  25.981\n",
            "epoch:  162 loss：  25.244 test_loss：  26.07\n",
            "epoch:  163 loss：  25.759 test_loss：  26.05\n",
            "epoch:  164 loss：  25.757 test_loss：  26.43\n",
            "epoch:  165 loss：  25.085 test_loss：  25.998\n",
            "epoch:  166 loss：  25.443 test_loss：  25.991\n",
            "epoch:  167 loss：  25.78 test_loss：  26.017\n",
            "epoch:  168 loss：  24.876 test_loss：  25.759\n",
            "epoch:  169 loss：  25.774 test_loss：  25.954\n",
            "epoch:  170 loss：  25.705 test_loss：  25.645\n",
            "epoch:  171 loss：  25.331 test_loss：  26.159\n",
            "epoch:  172 loss：  25.597 test_loss：  25.746\n",
            "epoch:  173 loss：  25.461 test_loss：  25.593\n",
            "epoch:  174 loss：  25.089 test_loss：  25.488\n",
            "epoch:  175 loss：  24.7 test_loss：  25.623\n",
            "epoch:  176 loss：  25.106 test_loss：  25.652\n",
            "epoch:  177 loss：  25.355 test_loss：  25.449\n",
            "epoch:  178 loss：  25.282 test_loss：  25.498\n",
            "epoch:  179 loss：  24.557 test_loss：  25.647\n",
            "epoch:  180 loss：  25.01 test_loss：  25.491\n",
            "epoch:  181 loss：  25.016 test_loss：  25.728\n",
            "epoch:  182 loss：  24.238 test_loss：  25.78\n",
            "epoch:  183 loss：  24.536 test_loss：  25.86\n",
            "epoch:  184 loss：  24.116 test_loss：  25.185\n",
            "epoch:  185 loss：  24.63 test_loss：  25.342\n",
            "epoch:  186 loss：  24.395 test_loss：  26.142\n",
            "epoch:  187 loss：  24.21 test_loss：  25.541\n",
            "epoch:  188 loss：  24.134 test_loss：  25.296\n",
            "epoch:  189 loss：  24.426 test_loss：  25.507\n",
            "epoch:  190 loss：  23.903 test_loss：  25.61\n",
            "epoch:  191 loss：  23.432 test_loss：  25.634\n",
            "epoch:  192 loss：  24.093 test_loss：  26.064\n",
            "epoch:  193 loss：  24.163 test_loss：  25.394\n",
            "epoch:  194 loss：  23.966 test_loss：  25.461\n",
            "epoch:  195 loss：  24.179 test_loss：  24.879\n",
            "epoch:  196 loss：  23.885 test_loss：  25.051\n",
            "epoch:  197 loss：  23.465 test_loss：  24.949\n",
            "epoch:  198 loss：  23.714 test_loss：  24.812\n",
            "epoch:  199 loss：  23.422 test_loss：  25.323\n",
            "epoch:  200 loss：  23.249 test_loss：  24.819\n",
            "epoch:  201 loss：  23.38 test_loss：  24.962\n",
            "epoch:  202 loss：  23.775 test_loss：  24.637\n",
            "epoch:  203 loss：  24.989 test_loss：  26.253\n",
            "epoch:  204 loss：  24.847 test_loss：  24.865\n",
            "epoch:  205 loss：  24.304 test_loss：  25.361\n",
            "epoch:  206 loss：  24.255 test_loss：  24.682\n",
            "epoch:  207 loss：  24.163 test_loss：  25.791\n",
            "epoch:  208 loss：  23.957 test_loss：  24.657\n",
            "epoch:  209 loss：  23.774 test_loss：  25.15\n",
            "epoch:  210 loss：  23.756 test_loss：  24.6\n",
            "epoch:  211 loss：  23.721 test_loss：  24.063\n",
            "epoch:  212 loss：  23.212 test_loss：  24.596\n",
            "epoch:  213 loss：  23.096 test_loss：  25.135\n",
            "epoch:  214 loss：  23.006 test_loss：  24.098\n",
            "epoch:  215 loss：  22.847 test_loss：  24.154\n",
            "epoch:  216 loss：  22.875 test_loss：  23.972\n",
            "epoch:  217 loss：  22.519 test_loss：  23.789\n",
            "epoch:  218 loss：  22.684 test_loss：  23.708\n",
            "epoch:  219 loss：  22.317 test_loss：  23.796\n",
            "epoch:  220 loss：  22.645 test_loss：  23.842\n",
            "epoch:  221 loss：  22.726 test_loss：  23.201\n",
            "epoch:  222 loss：  22.52 test_loss：  23.139\n",
            "epoch:  223 loss：  22.451 test_loss：  24.47\n",
            "epoch:  224 loss：  22.581 test_loss：  23.131\n",
            "epoch:  225 loss：  21.905 test_loss：  23.121\n",
            "epoch:  226 loss：  21.783 test_loss：  22.809\n",
            "epoch:  227 loss：  22.053 test_loss：  22.692\n",
            "epoch:  228 loss：  21.791 test_loss：  23.01\n",
            "epoch:  229 loss：  21.788 test_loss：  23.047\n",
            "epoch:  230 loss：  21.312 test_loss：  22.878\n",
            "epoch:  231 loss：  21.537 test_loss：  22.916\n",
            "epoch:  232 loss：  21.608 test_loss：  22.533\n",
            "epoch:  233 loss：  21.309 test_loss：  22.302\n",
            "epoch:  234 loss：  22.45 test_loss：  23.058\n",
            "epoch:  235 loss：  22.325 test_loss：  24.262\n",
            "epoch:  236 loss：  22.098 test_loss：  23.27\n",
            "epoch:  237 loss：  22.138 test_loss：  22.942\n",
            "epoch:  238 loss：  21.966 test_loss：  23.167\n",
            "epoch:  239 loss：  21.951 test_loss：  23.053\n",
            "epoch:  240 loss：  22.591 test_loss：  23.489\n",
            "epoch:  241 loss：  21.767 test_loss：  22.601\n",
            "epoch:  242 loss：  21.216 test_loss：  22.384\n",
            "epoch:  243 loss：  21.772 test_loss：  22.605\n",
            "epoch:  244 loss：  22.04 test_loss：  23.009\n",
            "epoch:  245 loss：  21.667 test_loss：  22.779\n",
            "epoch:  246 loss：  21.85 test_loss：  22.325\n",
            "epoch:  247 loss：  21.465 test_loss：  22.5\n",
            "epoch:  248 loss：  21.278 test_loss：  22.029\n",
            "epoch:  249 loss：  21.223 test_loss：  24.154\n",
            "epoch:  250 loss：  21.371 test_loss：  22.184\n",
            "epoch:  251 loss：  21.072 test_loss：  23.04\n",
            "epoch:  252 loss：  21.502 test_loss：  21.937\n",
            "epoch:  253 loss：  20.639 test_loss：  21.752\n",
            "epoch:  254 loss：  21.142 test_loss：  21.742\n",
            "epoch:  255 loss：  20.868 test_loss：  21.796\n",
            "epoch:  256 loss：  21.136 test_loss：  22.201\n",
            "epoch:  257 loss：  20.682 test_loss：  21.886\n",
            "epoch:  258 loss：  20.502 test_loss：  21.557\n",
            "epoch:  259 loss：  20.68 test_loss：  21.475\n",
            "epoch:  260 loss：  20.866 test_loss：  22.451\n",
            "epoch:  261 loss：  20.411 test_loss：  21.499\n",
            "epoch:  262 loss：  20.668 test_loss：  21.415\n",
            "epoch:  263 loss：  20.868 test_loss：  21.4\n",
            "epoch:  264 loss：  21.126 test_loss：  21.549\n",
            "epoch:  265 loss：  20.838 test_loss：  21.783\n",
            "epoch:  266 loss：  20.922 test_loss：  22.027\n",
            "epoch:  267 loss：  20.809 test_loss：  22.692\n",
            "epoch:  268 loss：  22.327 test_loss：  22.744\n",
            "epoch:  269 loss：  21.627 test_loss：  22.059\n",
            "epoch:  270 loss：  20.936 test_loss：  22.051\n",
            "epoch:  271 loss：  21.259 test_loss：  21.677\n",
            "epoch:  272 loss：  20.302 test_loss：  21.639\n",
            "epoch:  273 loss：  20.601 test_loss：  21.757\n",
            "epoch:  274 loss：  20.957 test_loss：  21.47\n",
            "epoch:  275 loss：  20.548 test_loss：  21.392\n",
            "epoch:  276 loss：  20.426 test_loss：  21.361\n",
            "epoch:  277 loss：  20.127 test_loss：  21.517\n",
            "epoch:  278 loss：  19.782 test_loss：  21.229\n",
            "epoch:  279 loss：  19.897 test_loss：  21.231\n",
            "epoch:  280 loss：  19.995 test_loss：  21.175\n",
            "epoch:  281 loss：  20.153 test_loss：  21.39\n",
            "epoch:  282 loss：  20.107 test_loss：  21.622\n",
            "epoch:  283 loss：  20.232 test_loss：  21.397\n",
            "epoch:  284 loss：  19.825 test_loss：  21.232\n",
            "epoch:  285 loss：  20.362 test_loss：  21.32\n",
            "epoch:  286 loss：  19.789 test_loss：  21.188\n",
            "epoch:  287 loss：  19.532 test_loss：  21.224\n",
            "epoch:  288 loss：  19.574 test_loss：  21.401\n",
            "epoch:  289 loss：  19.386 test_loss：  21.346\n",
            "epoch:  290 loss：  19.435 test_loss：  21.567\n",
            "epoch:  291 loss：  20.326 test_loss：  21.36\n",
            "epoch:  292 loss：  19.612 test_loss：  21.457\n",
            "epoch:  293 loss：  19.596 test_loss：  21.215\n",
            "epoch:  294 loss：  19.369 test_loss：  21.066\n",
            "epoch:  295 loss：  19.593 test_loss：  21.272\n",
            "epoch:  296 loss：  19.726 test_loss：  20.875\n",
            "epoch:  297 loss：  19.571 test_loss：  20.839\n",
            "epoch:  298 loss：  19.384 test_loss：  21.151\n",
            "epoch:  299 loss：  20.753 test_loss：  21.65\n",
            "epoch:  300 loss：  19.676 test_loss：  20.677\n",
            "epoch:  301 loss：  19.738 test_loss：  20.993\n",
            "epoch:  302 loss：  19.358 test_loss：  20.781\n",
            "epoch:  303 loss：  19.498 test_loss：  20.624\n",
            "epoch:  304 loss：  19.065 test_loss：  20.808\n",
            "epoch:  305 loss：  19.189 test_loss：  20.63\n",
            "epoch:  306 loss：  19.34 test_loss：  20.591\n",
            "epoch:  307 loss：  19.24 test_loss：  20.474\n",
            "epoch:  308 loss：  19.181 test_loss：  20.638\n",
            "epoch:  309 loss：  18.788 test_loss：  20.776\n",
            "epoch:  310 loss：  18.931 test_loss：  20.849\n",
            "epoch:  311 loss：  18.864 test_loss：  20.918\n",
            "epoch:  312 loss：  18.741 test_loss：  20.855\n",
            "epoch:  313 loss：  18.927 test_loss：  20.939\n",
            "epoch:  314 loss：  19.003 test_loss：  21.62\n",
            "epoch:  315 loss：  19.199 test_loss：  20.765\n",
            "epoch:  316 loss：  18.83 test_loss：  20.403\n",
            "epoch:  317 loss：  19.036 test_loss：  20.89\n",
            "epoch:  318 loss：  18.816 test_loss：  21.082\n",
            "epoch:  319 loss：  18.803 test_loss：  20.667\n",
            "epoch:  320 loss：  18.886 test_loss：  20.592\n",
            "epoch:  321 loss：  18.897 test_loss：  20.503\n",
            "epoch:  322 loss：  18.737 test_loss：  20.893\n",
            "epoch:  323 loss：  18.746 test_loss：  21.037\n",
            "epoch:  324 loss：  19.584 test_loss：  21.044\n",
            "epoch:  325 loss：  19.207 test_loss：  20.806\n",
            "epoch:  326 loss：  18.847 test_loss：  21.855\n",
            "epoch:  327 loss：  18.956 test_loss：  20.849\n",
            "epoch:  328 loss：  19.013 test_loss：  20.303\n",
            "epoch:  329 loss：  18.461 test_loss：  21.115\n",
            "epoch:  330 loss：  18.452 test_loss：  20.726\n",
            "epoch:  331 loss：  18.369 test_loss：  20.771\n",
            "epoch:  332 loss：  19.89 test_loss：  21.37\n",
            "epoch:  333 loss：  19.719 test_loss：  22.19\n",
            "epoch:  334 loss：  19.726 test_loss：  20.95\n",
            "epoch:  335 loss：  18.921 test_loss：  20.664\n",
            "epoch:  336 loss：  18.746 test_loss：  21.073\n",
            "epoch:  337 loss：  18.33 test_loss：  20.331\n",
            "epoch:  338 loss：  18.608 test_loss：  20.289\n",
            "epoch:  339 loss：  18.343 test_loss：  19.968\n",
            "epoch:  340 loss：  18.045 test_loss：  20.105\n",
            "epoch:  341 loss：  18.063 test_loss：  20.394\n",
            "epoch:  342 loss：  18.518 test_loss：  20.715\n",
            "epoch:  343 loss：  18.259 test_loss：  20.528\n",
            "epoch:  344 loss：  18.246 test_loss：  21.692\n",
            "epoch:  345 loss：  20.097 test_loss：  20.386\n",
            "epoch:  346 loss：  18.785 test_loss：  20.026\n",
            "epoch:  347 loss：  18.569 test_loss：  20.303\n",
            "epoch:  348 loss：  18.326 test_loss：  20.134\n",
            "epoch:  349 loss：  18.255 test_loss：  20.296\n",
            "epoch:  350 loss：  17.86 test_loss：  20.177\n",
            "epoch:  351 loss：  18.028 test_loss：  20.4\n",
            "epoch:  352 loss：  18.138 test_loss：  20.555\n",
            "epoch:  353 loss：  18.497 test_loss：  20.199\n",
            "epoch:  354 loss：  18.565 test_loss：  20.502\n",
            "epoch:  355 loss：  18.445 test_loss：  20.267\n",
            "epoch:  356 loss：  17.773 test_loss：  20.317\n",
            "epoch:  357 loss：  18.33 test_loss：  20.046\n",
            "epoch:  358 loss：  18.072 test_loss：  19.905\n",
            "epoch:  359 loss：  17.978 test_loss：  20.367\n",
            "epoch:  360 loss：  18.311 test_loss：  20.211\n",
            "epoch:  361 loss：  17.585 test_loss：  20.019\n",
            "epoch:  362 loss：  18.038 test_loss：  19.736\n",
            "epoch:  363 loss：  18.771 test_loss：  20.465\n",
            "epoch:  364 loss：  18.326 test_loss：  19.696\n",
            "epoch:  365 loss：  17.985 test_loss：  21.059\n",
            "epoch:  366 loss：  18.238 test_loss：  20.714\n",
            "epoch:  367 loss：  17.727 test_loss：  20.279\n",
            "epoch:  368 loss：  17.962 test_loss：  20.212\n",
            "epoch:  369 loss：  17.787 test_loss：  20.116\n",
            "epoch:  370 loss：  17.773 test_loss：  20.425\n",
            "epoch:  371 loss：  17.856 test_loss：  20.329\n",
            "epoch:  372 loss：  17.975 test_loss：  20.101\n",
            "epoch:  373 loss：  17.746 test_loss：  20.385\n",
            "epoch:  374 loss：  17.463 test_loss：  20.296\n",
            "epoch:  375 loss：  17.539 test_loss：  20.403\n",
            "epoch:  376 loss：  17.609 test_loss：  20.006\n",
            "epoch:  377 loss：  17.614 test_loss：  21.217\n",
            "epoch:  378 loss：  17.756 test_loss：  19.996\n",
            "epoch:  379 loss：  17.685 test_loss：  19.687\n",
            "epoch:  380 loss：  17.54 test_loss：  19.835\n",
            "epoch:  381 loss：  17.578 test_loss：  19.781\n",
            "epoch:  382 loss：  17.331 test_loss：  20.203\n",
            "epoch:  383 loss：  17.234 test_loss：  20.123\n",
            "epoch:  384 loss：  17.14 test_loss：  19.723\n",
            "epoch:  385 loss：  17.685 test_loss：  19.644\n",
            "epoch:  386 loss：  17.332 test_loss：  19.61\n",
            "epoch:  387 loss：  17.216 test_loss：  20.118\n",
            "epoch:  388 loss：  17.6 test_loss：  19.906\n",
            "epoch:  389 loss：  17.452 test_loss：  19.697\n",
            "epoch:  390 loss：  17.001 test_loss：  19.638\n",
            "epoch:  391 loss：  17.576 test_loss：  19.85\n",
            "epoch:  392 loss：  17.034 test_loss：  19.56\n",
            "epoch:  393 loss：  17.006 test_loss：  19.581\n",
            "epoch:  394 loss：  17.28 test_loss：  19.756\n",
            "epoch:  395 loss：  17.199 test_loss：  19.676\n",
            "epoch:  396 loss：  17.338 test_loss：  19.424\n",
            "epoch:  397 loss：  17.003 test_loss：  19.734\n",
            "epoch:  398 loss：  16.904 test_loss：  19.796\n",
            "epoch:  399 loss：  17.048 test_loss：  19.68\n",
            "epoch:  400 loss：  17.186 test_loss：  19.8\n",
            "epoch:  401 loss：  17.031 test_loss：  19.618\n",
            "epoch:  402 loss：  16.955 test_loss：  19.574\n",
            "epoch:  403 loss：  16.897 test_loss：  19.653\n",
            "epoch:  404 loss：  17.662 test_loss：  19.163\n",
            "epoch:  405 loss：  17.306 test_loss：  19.565\n",
            "epoch:  406 loss：  17.216 test_loss：  19.634\n",
            "epoch:  407 loss：  16.935 test_loss：  19.599\n",
            "epoch:  408 loss：  16.931 test_loss：  19.915\n",
            "epoch:  409 loss：  16.767 test_loss：  19.461\n",
            "epoch:  410 loss：  16.841 test_loss：  19.962\n",
            "epoch:  411 loss：  17.045 test_loss：  19.811\n",
            "epoch:  412 loss：  16.876 test_loss：  19.873\n",
            "epoch:  413 loss：  16.975 test_loss：  19.889\n",
            "epoch:  414 loss：  16.975 test_loss：  19.611\n",
            "epoch:  415 loss：  17.184 test_loss：  19.318\n",
            "epoch:  416 loss：  17.038 test_loss：  19.559\n",
            "epoch:  417 loss：  16.907 test_loss：  19.623\n",
            "epoch:  418 loss：  16.848 test_loss：  19.347\n",
            "epoch:  419 loss：  16.66 test_loss：  19.58\n",
            "epoch:  420 loss：  16.758 test_loss：  19.336\n",
            "epoch:  421 loss：  20.036 test_loss：  41.416\n",
            "epoch:  422 loss：  21.134 test_loss：  22.045\n",
            "epoch:  423 loss：  18.744 test_loss：  21.763\n",
            "epoch:  424 loss：  19.028 test_loss：  21.138\n",
            "epoch:  425 loss：  21.569 test_loss：  23.935\n",
            "epoch:  426 loss：  21.873 test_loss：  22.666\n",
            "epoch:  427 loss：  20.394 test_loss：  22.245\n",
            "epoch:  428 loss：  19.072 test_loss：  22.164\n",
            "epoch:  429 loss：  18.941 test_loss：  21.622\n",
            "epoch:  430 loss：  18.218 test_loss：  21.262\n",
            "epoch:  431 loss：  18.209 test_loss：  20.894\n",
            "epoch:  432 loss：  17.256 test_loss：  20.68\n",
            "epoch:  433 loss：  17.466 test_loss：  20.345\n",
            "epoch:  434 loss：  17.048 test_loss：  20.238\n",
            "epoch:  435 loss：  16.841 test_loss：  20.23\n",
            "epoch:  436 loss：  17.311 test_loss：  21.029\n",
            "epoch:  437 loss：  16.988 test_loss：  19.927\n",
            "epoch:  438 loss：  17.051 test_loss：  20.19\n",
            "epoch:  439 loss：  16.888 test_loss：  20.043\n",
            "epoch:  440 loss：  16.776 test_loss：  19.714\n",
            "epoch:  441 loss：  16.929 test_loss：  19.874\n",
            "epoch:  442 loss：  16.346 test_loss：  20.002\n",
            "epoch:  443 loss：  16.572 test_loss：  19.835\n",
            "epoch:  444 loss：  16.78 test_loss：  19.898\n",
            "epoch:  445 loss：  16.608 test_loss：  19.78\n",
            "epoch:  446 loss：  16.456 test_loss：  19.992\n",
            "epoch:  447 loss：  16.225 test_loss：  19.632\n",
            "epoch:  448 loss：  16.644 test_loss：  19.563\n",
            "epoch:  449 loss：  16.239 test_loss：  19.502\n",
            "epoch:  450 loss：  16.449 test_loss：  20.056\n",
            "epoch:  451 loss：  16.493 test_loss：  19.734\n",
            "epoch:  452 loss：  16.332 test_loss：  19.595\n",
            "epoch:  453 loss：  16.644 test_loss：  19.703\n",
            "epoch:  454 loss：  16.364 test_loss：  19.809\n",
            "epoch:  455 loss：  16.286 test_loss：  19.611\n",
            "epoch:  456 loss：  16.462 test_loss：  19.831\n",
            "epoch:  457 loss：  16.257 test_loss：  19.609\n",
            "epoch:  458 loss：  16.056 test_loss：  19.529\n",
            "epoch:  459 loss：  16.29 test_loss：  19.82\n",
            "epoch:  460 loss：  16.59 test_loss：  19.514\n",
            "epoch:  461 loss：  16.353 test_loss：  19.566\n",
            "epoch:  462 loss：  16.306 test_loss：  19.504\n",
            "epoch:  463 loss：  16.436 test_loss：  19.369\n",
            "epoch:  464 loss：  16.314 test_loss：  19.68\n",
            "epoch:  465 loss：  16.28 test_loss：  19.419\n",
            "epoch:  466 loss：  15.898 test_loss：  19.655\n",
            "epoch:  467 loss：  16.354 test_loss：  19.851\n",
            "epoch:  468 loss：  16.176 test_loss：  19.326\n",
            "epoch:  469 loss：  15.944 test_loss：  19.492\n",
            "epoch:  470 loss：  16.412 test_loss：  19.522\n",
            "epoch:  471 loss：  16.068 test_loss：  19.324\n",
            "epoch:  472 loss：  15.926 test_loss：  19.208\n",
            "epoch:  473 loss：  16.152 test_loss：  19.413\n",
            "epoch:  474 loss：  16.41 test_loss：  19.645\n",
            "epoch:  475 loss：  15.835 test_loss：  19.289\n",
            "epoch:  476 loss：  15.682 test_loss：  19.49\n",
            "epoch:  477 loss：  15.761 test_loss：  18.976\n",
            "epoch:  478 loss：  16.107 test_loss：  19.909\n",
            "epoch:  479 loss：  16.066 test_loss：  19.404\n",
            "epoch:  480 loss：  16.096 test_loss：  19.314\n",
            "epoch:  481 loss：  16.222 test_loss：  19.307\n",
            "epoch:  482 loss：  16.122 test_loss：  19.266\n",
            "epoch:  483 loss：  15.888 test_loss：  20.646\n",
            "epoch:  484 loss：  16.173 test_loss：  19.626\n",
            "epoch:  485 loss：  16.017 test_loss：  19.154\n",
            "epoch:  486 loss：  16.689 test_loss：  19.541\n",
            "epoch:  487 loss：  16.281 test_loss：  19.344\n",
            "epoch:  488 loss：  16.777 test_loss：  19.307\n",
            "epoch:  489 loss：  16.102 test_loss：  18.854\n",
            "epoch:  490 loss：  16.063 test_loss：  19.028\n",
            "epoch:  491 loss：  16.2 test_loss：  19.132\n",
            "epoch:  492 loss：  16.295 test_loss：  18.902\n",
            "epoch:  493 loss：  15.939 test_loss：  19.318\n",
            "epoch:  494 loss：  16.619 test_loss：  21.254\n",
            "epoch:  495 loss：  17.545 test_loss：  19.06\n",
            "epoch:  496 loss：  16.483 test_loss：  19.209\n",
            "epoch:  497 loss：  15.838 test_loss：  18.959\n",
            "epoch:  498 loss：  15.807 test_loss：  18.841\n",
            "epoch:  499 loss：  15.34 test_loss：  18.797\n",
            "epoch:  500 loss：  15.821 test_loss：  18.96\n",
            "epoch:  501 loss：  15.497 test_loss：  19.234\n",
            "epoch:  502 loss：  16.051 test_loss：  18.875\n",
            "epoch:  503 loss：  15.803 test_loss：  19.004\n",
            "epoch:  504 loss：  15.673 test_loss：  18.973\n",
            "epoch:  505 loss：  15.362 test_loss：  18.677\n",
            "epoch:  506 loss：  16.012 test_loss：  18.881\n",
            "epoch:  507 loss：  15.896 test_loss：  19.628\n",
            "epoch:  508 loss：  15.892 test_loss：  18.578\n",
            "epoch:  509 loss：  15.595 test_loss：  18.759\n",
            "epoch:  510 loss：  15.783 test_loss：  18.7\n",
            "epoch:  511 loss：  15.201 test_loss：  18.832\n",
            "epoch:  512 loss：  15.928 test_loss：  18.829\n",
            "epoch:  513 loss：  15.585 test_loss：  18.636\n",
            "epoch:  514 loss：  15.765 test_loss：  18.72\n",
            "epoch:  515 loss：  15.621 test_loss：  18.497\n",
            "epoch:  516 loss：  15.414 test_loss：  18.855\n",
            "epoch:  517 loss：  16.451 test_loss：  18.715\n",
            "epoch:  518 loss：  15.568 test_loss：  19.45\n",
            "epoch:  519 loss：  17.88 test_loss：  19.96\n",
            "epoch:  520 loss：  16.95 test_loss：  19.503\n",
            "epoch:  521 loss：  15.955 test_loss：  19.129\n",
            "epoch:  522 loss：  15.968 test_loss：  19.303\n",
            "epoch:  523 loss：  15.641 test_loss：  18.979\n",
            "epoch:  524 loss：  16.456 test_loss：  19.211\n",
            "epoch:  525 loss：  15.743 test_loss：  18.821\n",
            "epoch:  526 loss：  15.642 test_loss：  18.727\n",
            "epoch:  527 loss：  15.212 test_loss：  18.571\n",
            "epoch:  528 loss：  15.003 test_loss：  18.592\n",
            "epoch:  529 loss：  15.264 test_loss：  18.869\n",
            "epoch:  530 loss：  15.376 test_loss：  18.574\n",
            "epoch:  531 loss：  15.442 test_loss：  18.518\n",
            "epoch:  532 loss：  15.113 test_loss：  18.559\n",
            "epoch:  533 loss：  15.382 test_loss：  19.005\n",
            "epoch:  534 loss：  15.738 test_loss：  19.604\n",
            "epoch:  535 loss：  16.157 test_loss：  19.122\n",
            "epoch:  536 loss：  15.814 test_loss：  18.991\n",
            "epoch:  537 loss：  15.205 test_loss：  19.033\n",
            "epoch:  538 loss：  15.564 test_loss：  18.68\n",
            "epoch:  539 loss：  15.394 test_loss：  18.809\n",
            "epoch:  540 loss：  15.36 test_loss：  18.778\n",
            "epoch:  541 loss：  14.953 test_loss：  18.699\n",
            "epoch:  542 loss：  14.804 test_loss：  18.766\n",
            "epoch:  543 loss：  14.982 test_loss：  18.662\n",
            "epoch:  544 loss：  15.092 test_loss：  18.637\n",
            "epoch:  545 loss：  15.454 test_loss：  18.891\n",
            "epoch:  546 loss：  15.094 test_loss：  18.741\n",
            "epoch:  547 loss：  15.073 test_loss：  18.481\n",
            "epoch:  548 loss：  15.476 test_loss：  18.589\n",
            "epoch:  549 loss：  15.015 test_loss：  18.544\n",
            "epoch:  550 loss：  14.985 test_loss：  18.372\n",
            "epoch:  551 loss：  14.856 test_loss：  18.524\n",
            "epoch:  552 loss：  15.208 test_loss：  18.665\n",
            "epoch:  553 loss：  14.737 test_loss：  18.422\n",
            "epoch:  554 loss：  15.15 test_loss：  18.847\n",
            "epoch:  555 loss：  14.841 test_loss：  18.423\n",
            "epoch:  556 loss：  14.975 test_loss：  18.799\n",
            "epoch:  557 loss：  14.804 test_loss：  18.811\n",
            "epoch:  558 loss：  14.895 test_loss：  19.216\n",
            "epoch:  559 loss：  14.928 test_loss：  18.539\n",
            "epoch:  560 loss：  14.97 test_loss：  18.677\n",
            "epoch:  561 loss：  14.668 test_loss：  18.811\n",
            "epoch:  562 loss：  15.338 test_loss：  20.273\n",
            "epoch:  563 loss：  16.431 test_loss：  19.603\n",
            "epoch:  564 loss：  15.605 test_loss：  18.924\n",
            "epoch:  565 loss：  15.265 test_loss：  19.053\n",
            "epoch:  566 loss：  15.465 test_loss：  19.098\n",
            "epoch:  567 loss：  15.193 test_loss：  19.223\n",
            "epoch:  568 loss：  15.539 test_loss：  18.612\n",
            "epoch:  569 loss：  15.293 test_loss：  18.7\n",
            "epoch:  570 loss：  15.168 test_loss：  19.063\n",
            "epoch:  571 loss：  15.169 test_loss：  19.084\n",
            "epoch:  572 loss：  15.442 test_loss：  18.473\n",
            "epoch:  573 loss：  15.214 test_loss：  19.185\n",
            "epoch:  574 loss：  15.292 test_loss：  18.774\n",
            "epoch:  575 loss：  14.919 test_loss：  18.811\n",
            "epoch:  576 loss：  14.688 test_loss：  18.806\n",
            "epoch:  577 loss：  14.771 test_loss：  19.015\n",
            "epoch:  578 loss：  15.318 test_loss：  19.056\n",
            "epoch:  579 loss：  15.086 test_loss：  18.672\n",
            "epoch:  580 loss：  15.283 test_loss：  27.953\n",
            "epoch:  581 loss：  24.017 test_loss：  22.958\n",
            "epoch:  582 loss：  19.559 test_loss：  21.746\n",
            "epoch:  583 loss：  18.274 test_loss：  21.055\n",
            "epoch:  584 loss：  17.405 test_loss：  20.775\n",
            "epoch:  585 loss：  17.482 test_loss：  20.799\n",
            "epoch:  586 loss：  17.085 test_loss：  20.693\n",
            "epoch:  587 loss：  16.662 test_loss：  20.312\n",
            "epoch:  588 loss：  16.909 test_loss：  20.543\n",
            "epoch:  589 loss：  17.015 test_loss：  19.981\n",
            "epoch:  590 loss：  16.309 test_loss：  20.55\n",
            "epoch:  591 loss：  16.552 test_loss：  20.007\n",
            "epoch:  592 loss：  16.326 test_loss：  19.632\n",
            "epoch:  593 loss：  16.573 test_loss：  19.867\n",
            "epoch:  594 loss：  16.132 test_loss：  19.992\n",
            "epoch:  595 loss：  15.977 test_loss：  19.625\n",
            "epoch:  596 loss：  16.095 test_loss：  20.749\n",
            "epoch:  597 loss：  15.788 test_loss：  19.141\n",
            "epoch:  598 loss：  15.652 test_loss：  19.301\n",
            "epoch:  599 loss：  16.097 test_loss：  19.354\n",
            "epoch:  600 loss：  15.55 test_loss：  19.214\n",
            "epoch:  601 loss：  15.324 test_loss：  19.435\n",
            "epoch:  602 loss：  15.925 test_loss：  18.839\n",
            "epoch:  603 loss：  15.553 test_loss：  18.94\n",
            "epoch:  604 loss：  15.132 test_loss：  19.227\n",
            "epoch:  605 loss：  15.286 test_loss：  18.916\n",
            "epoch:  606 loss：  15.856 test_loss：  19.28\n",
            "epoch:  607 loss：  15.451 test_loss：  19.051\n",
            "epoch:  608 loss：  15.519 test_loss：  19.584\n",
            "epoch:  609 loss：  15.359 test_loss：  19.136\n",
            "epoch:  610 loss：  15.567 test_loss：  19.017\n",
            "epoch:  611 loss：  15.344 test_loss：  18.87\n",
            "epoch:  612 loss：  15.107 test_loss：  19.163\n",
            "epoch:  613 loss：  15.366 test_loss：  19.019\n",
            "epoch:  614 loss：  15.674 test_loss：  19.355\n",
            "epoch:  615 loss：  15.429 test_loss：  19.429\n",
            "epoch:  616 loss：  15.811 test_loss：  19.239\n",
            "epoch:  617 loss：  16.103 test_loss：  19.093\n",
            "epoch:  618 loss：  15.517 test_loss：  18.945\n",
            "epoch:  619 loss：  15.106 test_loss：  19.027\n",
            "epoch:  620 loss：  15.276 test_loss：  19.299\n",
            "epoch:  621 loss：  15.177 test_loss：  19.11\n",
            "epoch:  622 loss：  15.335 test_loss：  18.972\n",
            "epoch:  623 loss：  15.174 test_loss：  19.22\n",
            "epoch:  624 loss：  14.67 test_loss：  18.951\n",
            "epoch:  625 loss：  15.197 test_loss：  19.14\n",
            "epoch:  626 loss：  15.09 test_loss：  18.662\n",
            "epoch:  627 loss：  14.854 test_loss：  19.057\n",
            "epoch:  628 loss：  15.056 test_loss：  18.956\n",
            "epoch:  629 loss：  14.816 test_loss：  18.787\n",
            "epoch:  630 loss：  15.175 test_loss：  19.488\n",
            "epoch:  631 loss：  14.889 test_loss：  18.894\n",
            "epoch:  632 loss：  14.98 test_loss：  18.79\n",
            "epoch:  633 loss：  15.147 test_loss：  19.001\n",
            "epoch:  634 loss：  14.655 test_loss：  19.018\n",
            "epoch:  635 loss：  15.37 test_loss：  19.363\n",
            "epoch:  636 loss：  15.287 test_loss：  18.961\n",
            "epoch:  637 loss：  17.984 test_loss：  21.725\n",
            "epoch:  638 loss：  18.79 test_loss：  20.519\n",
            "epoch:  639 loss：  16.899 test_loss：  20.289\n",
            "epoch:  640 loss：  16.742 test_loss：  20.55\n",
            "epoch:  641 loss：  16.558 test_loss：  20.215\n",
            "epoch:  642 loss：  16.501 test_loss：  19.919\n",
            "epoch:  643 loss：  16.282 test_loss：  19.766\n",
            "epoch:  644 loss：  16.457 test_loss：  20.061\n",
            "epoch:  645 loss：  15.724 test_loss：  19.969\n",
            "epoch:  646 loss：  15.87 test_loss：  19.697\n",
            "epoch:  647 loss：  16.59 test_loss：  19.465\n",
            "epoch:  648 loss：  17.441 test_loss：  20.037\n",
            "epoch:  649 loss：  16.382 test_loss：  19.972\n",
            "epoch:  650 loss：  16.302 test_loss：  20.803\n",
            "epoch:  651 loss：  16.349 test_loss：  19.881\n",
            "epoch:  652 loss：  15.506 test_loss：  19.743\n",
            "epoch:  653 loss：  15.976 test_loss：  19.428\n",
            "epoch:  654 loss：  15.87 test_loss：  19.534\n",
            "epoch:  655 loss：  15.594 test_loss：  19.575\n",
            "epoch:  656 loss：  15.427 test_loss：  19.453\n",
            "epoch:  657 loss：  15.519 test_loss：  19.343\n",
            "epoch:  658 loss：  15.459 test_loss：  19.346\n",
            "epoch:  659 loss：  15.205 test_loss：  19.692\n",
            "epoch:  660 loss：  15.142 test_loss：  19.282\n",
            "epoch:  661 loss：  14.782 test_loss：  19.238\n",
            "epoch:  662 loss：  15.13 test_loss：  19.103\n",
            "epoch:  663 loss：  15.074 test_loss：  18.947\n",
            "epoch:  664 loss：  15.114 test_loss：  19.045\n",
            "epoch:  665 loss：  15.061 test_loss：  19.218\n",
            "epoch:  666 loss：  15.165 test_loss：  19.339\n",
            "epoch:  667 loss：  15.113 test_loss：  19.197\n",
            "epoch:  668 loss：  14.897 test_loss：  19.201\n",
            "epoch:  669 loss：  15.103 test_loss：  19.251\n",
            "epoch:  670 loss：  15.2 test_loss：  18.878\n",
            "epoch:  671 loss：  14.866 test_loss：  19.086\n",
            "epoch:  672 loss：  14.81 test_loss：  19.347\n",
            "epoch:  673 loss：  14.865 test_loss：  19.28\n",
            "epoch:  674 loss：  14.841 test_loss：  20.004\n",
            "epoch:  675 loss：  16.844 test_loss：  21.165\n",
            "epoch:  676 loss：  16.156 test_loss：  19.883\n",
            "epoch:  677 loss：  15.42 test_loss：  19.44\n",
            "epoch:  678 loss：  15.167 test_loss：  19.426\n",
            "epoch:  679 loss：  14.969 test_loss：  18.88\n",
            "epoch:  680 loss：  15.547 test_loss：  20.099\n",
            "epoch:  681 loss：  15.282 test_loss：  19.479\n",
            "epoch:  682 loss：  15.271 test_loss：  19.176\n",
            "epoch:  683 loss：  14.963 test_loss：  18.805\n",
            "epoch:  684 loss：  14.715 test_loss：  18.666\n",
            "epoch:  685 loss：  14.702 test_loss：  19.052\n",
            "epoch:  686 loss：  14.655 test_loss：  19.065\n",
            "epoch:  687 loss：  14.413 test_loss：  18.986\n",
            "epoch:  688 loss：  14.395 test_loss：  18.924\n",
            "epoch:  689 loss：  14.648 test_loss：  18.879\n",
            "epoch:  690 loss：  14.317 test_loss：  18.679\n",
            "epoch:  691 loss：  14.264 test_loss：  19.151\n",
            "epoch:  692 loss：  14.479 test_loss：  18.796\n",
            "epoch:  693 loss：  14.556 test_loss：  18.876\n",
            "epoch:  694 loss：  14.376 test_loss：  18.726\n",
            "epoch:  695 loss：  14.401 test_loss：  18.815\n",
            "epoch:  696 loss：  14.53 test_loss：  18.901\n",
            "epoch:  697 loss：  14.446 test_loss：  18.911\n",
            "epoch:  698 loss：  13.911 test_loss：  18.964\n",
            "epoch:  699 loss：  14.22 test_loss：  18.841\n",
            "epoch:  700 loss：  14.378 test_loss：  19.048\n",
            "epoch:  701 loss：  14.05 test_loss：  18.796\n",
            "epoch:  702 loss：  14.219 test_loss：  18.862\n",
            "epoch:  703 loss：  13.901 test_loss：  18.822\n",
            "epoch:  704 loss：  14.48 test_loss：  19.219\n",
            "epoch:  705 loss：  14.674 test_loss：  19.067\n",
            "epoch:  706 loss：  14.431 test_loss：  18.827\n",
            "epoch:  707 loss：  14.407 test_loss：  19.204\n",
            "epoch:  708 loss：  14.107 test_loss：  18.906\n",
            "epoch:  709 loss：  14.167 test_loss：  18.914\n",
            "epoch:  710 loss：  14.371 test_loss：  19.219\n",
            "epoch:  711 loss：  14.328 test_loss：  18.985\n",
            "epoch:  712 loss：  14.355 test_loss：  18.737\n",
            "epoch:  713 loss：  14.393 test_loss：  18.998\n",
            "epoch:  714 loss：  13.881 test_loss：  19.233\n",
            "epoch:  715 loss：  14.509 test_loss：  18.97\n",
            "epoch:  716 loss：  14.503 test_loss：  18.881\n",
            "epoch:  717 loss：  16.899 test_loss：  20.533\n",
            "epoch:  718 loss：  15.415 test_loss：  19.09\n",
            "epoch:  719 loss：  15.015 test_loss：  18.965\n",
            "epoch:  720 loss：  14.783 test_loss：  19.247\n",
            "epoch:  721 loss：  14.316 test_loss：  19.004\n",
            "epoch:  722 loss：  14.224 test_loss：  18.853\n",
            "epoch:  723 loss：  14.177 test_loss：  19.12\n",
            "epoch:  724 loss：  14.137 test_loss：  18.694\n",
            "epoch:  725 loss：  14.122 test_loss：  18.733\n",
            "epoch:  726 loss：  14.078 test_loss：  19.155\n",
            "epoch:  727 loss：  14.278 test_loss：  18.981\n",
            "epoch:  728 loss：  14.129 test_loss：  19.101\n",
            "epoch:  729 loss：  13.948 test_loss：  18.86\n",
            "epoch:  730 loss：  13.923 test_loss：  18.847\n",
            "epoch:  731 loss：  13.788 test_loss：  18.71\n",
            "epoch:  732 loss：  14.09 test_loss：  18.839\n",
            "epoch:  733 loss：  14.16 test_loss：  19.209\n",
            "epoch:  734 loss：  14.02 test_loss：  19.123\n",
            "epoch:  735 loss：  13.947 test_loss：  19.082\n",
            "epoch:  736 loss：  13.968 test_loss：  19.024\n",
            "epoch:  737 loss：  13.9 test_loss：  19.171\n",
            "epoch:  738 loss：  13.481 test_loss：  19.111\n",
            "epoch:  739 loss：  13.883 test_loss：  18.968\n",
            "epoch:  740 loss：  13.857 test_loss：  18.94\n",
            "epoch:  741 loss：  13.815 test_loss：  18.799\n",
            "epoch:  742 loss：  13.692 test_loss：  18.863\n",
            "epoch:  743 loss：  13.813 test_loss：  18.864\n",
            "epoch:  744 loss：  13.678 test_loss：  18.746\n",
            "epoch:  745 loss：  13.585 test_loss：  18.877\n",
            "epoch:  746 loss：  13.736 test_loss：  18.956\n",
            "epoch:  747 loss：  13.766 test_loss：  19.088\n",
            "epoch:  748 loss：  13.669 test_loss：  19.024\n",
            "epoch:  749 loss：  13.647 test_loss：  19.14\n",
            "epoch:  750 loss：  13.276 test_loss：  19.042\n",
            "epoch:  751 loss：  13.389 test_loss：  19.069\n",
            "epoch:  752 loss：  13.993 test_loss：  19.221\n",
            "epoch:  753 loss：  14.131 test_loss：  19.193\n",
            "epoch:  754 loss：  13.487 test_loss：  19.234\n",
            "epoch:  755 loss：  13.549 test_loss：  18.94\n",
            "epoch:  756 loss：  13.854 test_loss：  19.034\n",
            "epoch:  757 loss：  13.798 test_loss：  18.819\n",
            "epoch:  758 loss：  13.708 test_loss：  19.004\n",
            "epoch:  759 loss：  14.011 test_loss：  19.045\n",
            "epoch:  760 loss：  13.488 test_loss：  18.816\n",
            "epoch:  761 loss：  13.744 test_loss：  18.473\n",
            "epoch:  762 loss：  13.308 test_loss：  18.58\n",
            "epoch:  763 loss：  13.543 test_loss：  18.617\n",
            "epoch:  764 loss：  13.305 test_loss：  18.704\n",
            "epoch:  765 loss：  13.376 test_loss：  19.033\n",
            "epoch:  766 loss：  13.38 test_loss：  18.413\n",
            "epoch:  767 loss：  13.604 test_loss：  19.062\n",
            "epoch:  768 loss：  13.243 test_loss：  18.813\n",
            "epoch:  769 loss：  13.36 test_loss：  19.108\n",
            "epoch:  770 loss：  13.464 test_loss：  19.073\n",
            "epoch:  771 loss：  13.198 test_loss：  18.93\n",
            "epoch:  772 loss：  13.507 test_loss：  19.007\n",
            "epoch:  773 loss：  13.117 test_loss：  18.698\n",
            "epoch:  774 loss：  13.33 test_loss：  18.457\n",
            "epoch:  775 loss：  13.194 test_loss：  18.794\n",
            "epoch:  776 loss：  13.277 test_loss：  18.867\n",
            "epoch:  777 loss：  13.211 test_loss：  18.748\n",
            "epoch:  778 loss：  13.144 test_loss：  18.799\n",
            "epoch:  779 loss：  13.167 test_loss：  18.703\n",
            "epoch:  780 loss：  13.173 test_loss：  18.695\n",
            "epoch:  781 loss：  13.219 test_loss：  19.071\n",
            "epoch:  782 loss：  13.445 test_loss：  18.916\n",
            "epoch:  783 loss：  12.763 test_loss：  18.443\n",
            "epoch:  784 loss：  12.869 test_loss：  19.211\n",
            "epoch:  785 loss：  13.034 test_loss：  19.098\n",
            "epoch:  786 loss：  12.746 test_loss：  19.253\n",
            "epoch:  787 loss：  13.19 test_loss：  19.065\n",
            "epoch:  788 loss：  13.021 test_loss：  18.996\n",
            "epoch:  789 loss：  13.363 test_loss：  18.9\n",
            "epoch:  790 loss：  13.144 test_loss：  18.888\n",
            "epoch:  791 loss：  12.849 test_loss：  18.659\n",
            "epoch:  792 loss：  12.75 test_loss：  18.61\n",
            "epoch:  793 loss：  12.741 test_loss：  18.888\n",
            "epoch:  794 loss：  13.092 test_loss：  18.549\n",
            "epoch:  795 loss：  13.233 test_loss：  18.875\n",
            "epoch:  796 loss：  12.947 test_loss：  18.799\n",
            "epoch:  797 loss：  12.921 test_loss：  19.17\n",
            "epoch:  798 loss：  12.683 test_loss：  18.634\n",
            "epoch:  799 loss：  12.859 test_loss：  18.306\n",
            "epoch:  800 loss：  12.494 test_loss：  18.769\n",
            "epoch:  801 loss：  12.597 test_loss：  18.751\n",
            "epoch:  802 loss：  12.982 test_loss：  18.833\n",
            "epoch:  803 loss：  12.686 test_loss：  18.631\n",
            "epoch:  804 loss：  12.644 test_loss：  18.602\n",
            "epoch:  805 loss：  12.848 test_loss：  18.488\n",
            "epoch:  806 loss：  12.991 test_loss：  18.964\n",
            "epoch:  807 loss：  12.639 test_loss：  18.736\n",
            "epoch:  808 loss：  12.659 test_loss：  18.937\n",
            "epoch:  809 loss：  12.67 test_loss：  18.85\n",
            "epoch:  810 loss：  12.788 test_loss：  19.103\n",
            "epoch:  811 loss：  12.752 test_loss：  19.442\n",
            "epoch:  812 loss：  13.3 test_loss：  19.577\n",
            "epoch:  813 loss：  13.55 test_loss：  18.792\n",
            "epoch:  814 loss：  12.889 test_loss：  18.781\n",
            "epoch:  815 loss：  12.807 test_loss：  18.553\n",
            "epoch:  816 loss：  12.645 test_loss：  18.568\n",
            "epoch:  817 loss：  12.737 test_loss：  18.405\n",
            "epoch:  818 loss：  12.734 test_loss：  18.867\n",
            "epoch:  819 loss：  12.401 test_loss：  18.454\n",
            "epoch:  820 loss：  12.604 test_loss：  18.571\n",
            "epoch:  821 loss：  12.538 test_loss：  18.426\n",
            "epoch:  822 loss：  12.504 test_loss：  18.728\n",
            "epoch:  823 loss：  12.202 test_loss：  18.385\n",
            "epoch:  824 loss：  12.582 test_loss：  18.373\n",
            "epoch:  825 loss：  12.393 test_loss：  19.029\n",
            "epoch:  826 loss：  12.476 test_loss：  18.621\n",
            "epoch:  827 loss：  12.617 test_loss：  20.904\n",
            "epoch:  828 loss：  12.72 test_loss：  18.43\n",
            "epoch:  829 loss：  12.26 test_loss：  18.795\n",
            "epoch:  830 loss：  12.383 test_loss：  18.532\n",
            "epoch:  831 loss：  12.424 test_loss：  18.727\n",
            "epoch:  832 loss：  12.182 test_loss：  18.452\n",
            "epoch:  833 loss：  12.284 test_loss：  18.603\n",
            "epoch:  834 loss：  12.304 test_loss：  18.424\n",
            "epoch:  835 loss：  12.347 test_loss：  18.451\n",
            "epoch:  836 loss：  12.343 test_loss：  19.877\n",
            "epoch:  837 loss：  13.208 test_loss：  18.663\n",
            "epoch:  838 loss：  12.685 test_loss：  18.495\n",
            "epoch:  839 loss：  13.716 test_loss：  20.018\n",
            "epoch:  840 loss：  14.077 test_loss：  19.596\n",
            "epoch:  841 loss：  13.27 test_loss：  18.704\n",
            "epoch:  842 loss：  13.056 test_loss：  18.677\n",
            "epoch:  843 loss：  12.841 test_loss：  18.472\n",
            "epoch:  844 loss：  12.401 test_loss：  18.662\n",
            "epoch:  845 loss：  12.372 test_loss：  18.717\n",
            "epoch:  846 loss：  12.048 test_loss：  18.596\n",
            "epoch:  847 loss：  12.357 test_loss：  18.41\n",
            "epoch:  848 loss：  12.477 test_loss：  18.435\n",
            "epoch:  849 loss：  11.885 test_loss：  18.633\n",
            "epoch:  850 loss：  12.066 test_loss：  18.531\n",
            "epoch:  851 loss：  12.479 test_loss：  18.54\n",
            "epoch:  852 loss：  12.067 test_loss：  18.678\n",
            "epoch:  853 loss：  12.202 test_loss：  18.64\n",
            "epoch:  854 loss：  12.099 test_loss：  18.452\n",
            "epoch:  855 loss：  11.969 test_loss：  18.593\n",
            "epoch:  856 loss：  12.613 test_loss：  19.116\n",
            "epoch:  857 loss：  12.156 test_loss：  18.716\n",
            "epoch:  858 loss：  12.082 test_loss：  18.793\n",
            "epoch:  859 loss：  11.71 test_loss：  18.962\n",
            "epoch:  860 loss：  12.26 test_loss：  18.914\n",
            "epoch:  861 loss：  12.109 test_loss：  18.685\n",
            "epoch:  862 loss：  12.083 test_loss：  18.75\n",
            "epoch:  863 loss：  12.326 test_loss：  18.696\n",
            "epoch:  864 loss：  12.083 test_loss：  19.013\n",
            "epoch:  865 loss：  12.186 test_loss：  18.624\n",
            "epoch:  866 loss：  11.879 test_loss：  18.759\n",
            "epoch:  867 loss：  12.189 test_loss：  18.25\n",
            "epoch:  868 loss：  11.94 test_loss：  18.551\n",
            "epoch:  869 loss：  11.874 test_loss：  18.337\n",
            "epoch:  870 loss：  12.159 test_loss：  18.595\n",
            "epoch:  871 loss：  12.933 test_loss：  20.508\n",
            "epoch:  872 loss：  14.124 test_loss：  19.771\n",
            "epoch:  873 loss：  13.171 test_loss：  19.673\n",
            "epoch:  874 loss：  12.541 test_loss：  18.786\n",
            "epoch:  875 loss：  12.618 test_loss：  19.166\n",
            "epoch:  876 loss：  12.522 test_loss：  18.958\n",
            "epoch:  877 loss：  12.695 test_loss：  18.506\n",
            "epoch:  878 loss：  12.097 test_loss：  18.764\n",
            "epoch:  879 loss：  12.106 test_loss：  18.795\n",
            "epoch:  880 loss：  12.062 test_loss：  18.743\n",
            "epoch:  881 loss：  12.188 test_loss：  18.832\n",
            "epoch:  882 loss：  11.881 test_loss：  18.9\n",
            "epoch:  883 loss：  11.783 test_loss：  18.667\n",
            "epoch:  884 loss：  11.794 test_loss：  18.678\n",
            "epoch:  885 loss：  12.05 test_loss：  18.734\n",
            "epoch:  886 loss：  12.133 test_loss：  18.788\n",
            "epoch:  887 loss：  11.804 test_loss：  18.611\n",
            "epoch:  888 loss：  12.381 test_loss：  19.459\n",
            "epoch:  889 loss：  12.892 test_loss：  18.66\n",
            "epoch:  890 loss：  12.124 test_loss：  18.523\n",
            "epoch:  891 loss：  11.838 test_loss：  18.457\n",
            "epoch:  892 loss：  11.925 test_loss：  18.732\n",
            "epoch:  893 loss：  12.165 test_loss：  18.608\n",
            "epoch:  894 loss：  11.868 test_loss：  18.612\n",
            "epoch:  895 loss：  14.172 test_loss：  20.035\n",
            "epoch:  896 loss：  12.917 test_loss：  18.644\n",
            "epoch:  897 loss：  12.131 test_loss：  18.509\n",
            "epoch:  898 loss：  11.79 test_loss：  18.738\n",
            "epoch:  899 loss：  12.535 test_loss：  18.408\n",
            "epoch:  900 loss：  11.65 test_loss：  18.117\n",
            "epoch:  901 loss：  11.41 test_loss：  18.469\n",
            "epoch:  902 loss：  11.914 test_loss：  18.745\n",
            "epoch:  903 loss：  12.046 test_loss：  18.565\n",
            "epoch:  904 loss：  11.998 test_loss：  18.523\n",
            "epoch:  905 loss：  11.959 test_loss：  18.319\n",
            "epoch:  906 loss：  11.639 test_loss：  18.237\n",
            "epoch:  907 loss：  11.823 test_loss：  18.273\n",
            "epoch:  908 loss：  11.708 test_loss：  18.55\n",
            "epoch:  909 loss：  11.967 test_loss：  18.602\n",
            "epoch:  910 loss：  11.351 test_loss：  18.267\n",
            "epoch:  911 loss：  11.643 test_loss：  18.208\n",
            "epoch:  912 loss：  11.147 test_loss：  17.923\n",
            "epoch:  913 loss：  11.734 test_loss：  18.157\n",
            "epoch:  914 loss：  11.496 test_loss：  18.358\n",
            "epoch:  915 loss：  11.25 test_loss：  18.309\n",
            "epoch:  916 loss：  11.586 test_loss：  18.383\n",
            "epoch:  917 loss：  11.447 test_loss：  18.185\n",
            "epoch:  918 loss：  11.718 test_loss：  18.714\n",
            "epoch:  919 loss：  11.566 test_loss：  18.222\n",
            "epoch:  920 loss：  11.296 test_loss：  18.344\n",
            "epoch:  921 loss：  11.643 test_loss：  18.759\n",
            "epoch:  922 loss：  11.453 test_loss：  18.855\n",
            "epoch:  923 loss：  11.438 test_loss：  18.383\n",
            "epoch:  924 loss：  11.483 test_loss：  18.287\n",
            "epoch:  925 loss：  11.534 test_loss：  18.367\n",
            "epoch:  926 loss：  11.46 test_loss：  18.393\n",
            "epoch:  927 loss：  11.282 test_loss：  18.692\n",
            "epoch:  928 loss：  11.201 test_loss：  18.324\n",
            "epoch:  929 loss：  11.417 test_loss：  18.717\n",
            "epoch:  930 loss：  11.367 test_loss：  18.295\n",
            "epoch:  931 loss：  11.184 test_loss：  18.633\n",
            "epoch:  932 loss：  11.364 test_loss：  18.536\n",
            "epoch:  933 loss：  11.513 test_loss：  18.49\n",
            "epoch:  934 loss：  11.225 test_loss：  18.413\n",
            "epoch:  935 loss：  11.251 test_loss：  18.222\n",
            "epoch:  936 loss：  11.249 test_loss：  18.415\n",
            "epoch:  937 loss：  11.399 test_loss：  18.294\n",
            "epoch:  938 loss：  11.207 test_loss：  18.312\n",
            "epoch:  939 loss：  11.606 test_loss：  18.028\n",
            "epoch:  940 loss：  11.046 test_loss：  18.542\n",
            "epoch:  941 loss：  11.164 test_loss：  18.118\n",
            "epoch:  942 loss：  11.014 test_loss：  18.405\n",
            "epoch:  943 loss：  11.482 test_loss：  18.222\n",
            "epoch:  944 loss：  11.034 test_loss：  18.292\n",
            "epoch:  945 loss：  11.167 test_loss：  17.939\n",
            "epoch:  946 loss：  11.096 test_loss：  18.35\n",
            "epoch:  947 loss：  11.339 test_loss：  18.572\n",
            "epoch:  948 loss：  11.283 test_loss：  17.945\n",
            "epoch:  949 loss：  11.084 test_loss：  17.864\n",
            "epoch:  950 loss：  11.148 test_loss：  18.572\n",
            "epoch:  951 loss：  11.157 test_loss：  18.333\n",
            "epoch:  952 loss：  10.977 test_loss：  18.618\n",
            "epoch:  953 loss：  10.974 test_loss：  18.148\n",
            "epoch:  954 loss：  10.875 test_loss：  18.487\n",
            "epoch:  955 loss：  11.31 test_loss：  18.125\n",
            "epoch:  956 loss：  11.063 test_loss：  18.079\n",
            "epoch:  957 loss：  10.633 test_loss：  18.381\n",
            "epoch:  958 loss：  10.975 test_loss：  18.406\n",
            "epoch:  959 loss：  11.231 test_loss：  18.384\n",
            "epoch:  960 loss：  10.856 test_loss：  18.425\n",
            "epoch:  961 loss：  11.117 test_loss：  18.594\n",
            "epoch:  962 loss：  11.474 test_loss：  18.332\n",
            "epoch:  963 loss：  12.123 test_loss：  20.128\n",
            "epoch:  964 loss：  12.563 test_loss：  19.112\n",
            "epoch:  965 loss：  11.827 test_loss：  18.816\n",
            "epoch:  966 loss：  11.965 test_loss：  18.584\n",
            "epoch:  967 loss：  11.186 test_loss：  18.089\n",
            "epoch:  968 loss：  10.913 test_loss：  18.107\n",
            "epoch:  969 loss：  10.927 test_loss：  17.837\n",
            "epoch:  970 loss：  10.904 test_loss：  18.049\n",
            "epoch:  971 loss：  11.016 test_loss：  17.838\n",
            "epoch:  972 loss：  10.89 test_loss：  18.245\n",
            "epoch:  973 loss：  10.994 test_loss：  18.13\n",
            "epoch:  974 loss：  10.792 test_loss：  17.766\n",
            "epoch:  975 loss：  10.55 test_loss：  18.243\n",
            "epoch:  976 loss：  11.057 test_loss：  17.787\n",
            "epoch:  977 loss：  10.585 test_loss：  18.14\n",
            "epoch:  978 loss：  10.828 test_loss：  18.672\n",
            "epoch:  979 loss：  10.651 test_loss：  18.047\n",
            "epoch:  980 loss：  10.909 test_loss：  18.184\n",
            "epoch:  981 loss：  10.939 test_loss：  17.901\n",
            "epoch:  982 loss：  10.502 test_loss：  18.11\n",
            "epoch:  983 loss：  10.444 test_loss：  18.413\n",
            "epoch:  984 loss：  11.115 test_loss：  17.945\n",
            "epoch:  985 loss：  10.605 test_loss：  18.025\n",
            "epoch:  986 loss：  10.857 test_loss：  18.492\n",
            "epoch:  987 loss：  10.861 test_loss：  17.846\n",
            "epoch:  988 loss：  10.274 test_loss：  18.179\n",
            "epoch:  989 loss：  10.881 test_loss：  18.125\n",
            "epoch:  990 loss：  10.522 test_loss：  18.356\n",
            "epoch:  991 loss：  10.79 test_loss：  18.124\n",
            "epoch:  992 loss：  10.72 test_loss：  18.428\n",
            "epoch:  993 loss：  10.828 test_loss：  18.123\n",
            "epoch:  994 loss：  10.322 test_loss：  18.229\n",
            "epoch:  995 loss：  11.006 test_loss：  18.492\n",
            "epoch:  996 loss：  10.536 test_loss：  18.282\n",
            "epoch:  997 loss：  10.701 test_loss：  18.013\n",
            "epoch:  998 loss：  10.756 test_loss：  17.961\n",
            "epoch:  999 loss：  10.458 test_loss：  17.916\n"
          ]
        }
      ]
    },
    {
      "cell_type": "code",
      "source": [],
      "metadata": {
        "id": "1IpZq8msHy0F"
      },
      "id": "1IpZq8msHy0F",
      "execution_count": null,
      "outputs": []
    },
    {
      "cell_type": "code",
      "source": [
        "from matplotlib import pyplot as plt"
      ],
      "metadata": {
        "id": "x3PMeJoeT--d"
      },
      "id": "x3PMeJoeT--d",
      "execution_count": 55,
      "outputs": []
    },
    {
      "cell_type": "code",
      "source": [
        "plt.figure(dpi=200)\n",
        "plt.plot(range(1,len(train_loss)+1),train_loss,label=\"train_loss\")\n",
        "plt.plot(range(1,len(train_loss)+1),test_loss,label=\"test_loss\")\n",
        "plt.legend()"
      ],
      "metadata": {
        "colab": {
          "base_uri": "https://localhost:8080/",
          "height": 725
        },
        "id": "295MHDzzUWqE",
        "outputId": "6cf3c27f-4565-44ba-92d0-54b49e384d4b"
      },
      "id": "295MHDzzUWqE",
      "execution_count": 90,
      "outputs": [
        {
          "output_type": "execute_result",
          "data": {
            "text/plain": [
              "<matplotlib.legend.Legend at 0x7fde7880e2b0>"
            ]
          },
          "metadata": {},
          "execution_count": 90
        },
        {
          "output_type": "display_data",
          "data": {
            "text/plain": [
              "<Figure size 1200x800 with 1 Axes>"
            ],
            "image/png": "[encoded data removed]"
          },
          "metadata": {
            "needs_background": "light"
          }
        }
      ]
    },
    {
      "cell_type": "code",
      "source": [
        "# 批量预测"
      ],
      "metadata": {
        "id": "ZeulWTsGUkIz"
      },
      "id": "ZeulWTsGUkIz",
      "execution_count": 58,
      "outputs": []
    },
    {
      "cell_type": "code",
      "source": [
        "x_test.shape"
      ],
      "metadata": {
        "colab": {
          "base_uri": "https://localhost:8080/"
        },
        "id": "lBM2qe2JU-js",
        "outputId": "12fb06c1-553f-476d-ce7a-8b7d64ac9a43"
      },
      "id": "lBM2qe2JU-js",
      "execution_count": 59,
      "outputs": [
        {
          "output_type": "execute_result",
          "data": {
            "text/plain": [
              "(962, 30, 7)"
            ]
          },
          "metadata": {},
          "execution_count": 59
        }
      ]
    },
    {
      "cell_type": "code",
      "source": [
        "yp=model(torch.from_numpy(x_test))"
      ],
      "metadata": {
        "id": "Mrdn6MXGVFiq"
      },
      "id": "Mrdn6MXGVFiq",
      "execution_count": 69,
      "outputs": []
    },
    {
      "cell_type": "code",
      "source": [
        "y_test[0]"
      ],
      "metadata": {
        "colab": {
          "base_uri": "https://localhost:8080/"
        },
        "id": "VmYPXBf-VMQk",
        "outputId": "4b21d445-853e-421a-963e-f830f18e26ae"
      },
      "id": "VmYPXBf-VMQk",
      "execution_count": 70,
      "outputs": [
        {
          "output_type": "execute_result",
          "data": {
            "text/plain": [
              "array([143., 165., 159., 164., 105.,  74.,  85.])"
            ]
          },
          "metadata": {},
          "execution_count": 70
        }
      ]
    },
    {
      "cell_type": "code",
      "source": [
        "s = yp[0].detach().numpy()"
      ],
      "metadata": {
        "id": "uhfzwoPfVgPU"
      },
      "id": "uhfzwoPfVgPU",
      "execution_count": 86,
      "outputs": []
    },
    {
      "cell_type": "code",
      "source": [
        "plt.plot(range(1,8),y_test[2], 'r',label='true')\n",
        "plt.plot(range(1,8),yp[2].detach().numpy(), 'b',label='pre')"
      ],
      "metadata": {
        "colab": {
          "base_uri": "https://localhost:8080/",
          "height": 282
        },
        "id": "IPbp-7X1Vifi",
        "outputId": "952b034b-8a48-4ac1-988f-ec4d88045f02"
      },
      "id": "IPbp-7X1Vifi",
      "execution_count": 92,
      "outputs": [
        {
          "output_type": "execute_result",
          "data": {
            "text/plain": [
              "[<matplotlib.lines.Line2D at 0x7fde787021c0>]"
            ]
          },
          "metadata": {},
          "execution_count": 92
        },
        {
          "output_type": "display_data",
          "data": {
            "text/plain": [
              "<Figure size 432x288 with 1 Axes>"
            ],
            "image/png": "[encoded data removed]"
          },
          "metadata": {
            "needs_background": "light"
          }
        }
      ]
    },
    {
      "cell_type": "code",
      "source": [
        "result = []\n",
        "for test_b,_ in test_dl:\n",
        "  pred_b = model(test_b)\n",
        "  result.append(pred_b.detach().numpy())"
      ],
      "metadata": {
        "id": "NDKEuRGSV9M9"
      },
      "id": "NDKEuRGSV9M9",
      "execution_count": 93,
      "outputs": []
    },
    {
      "cell_type": "code",
      "source": [
        "np.concatenate(result).shape"
      ],
      "metadata": {
        "colab": {
          "base_uri": "https://localhost:8080/"
        },
        "id": "1SIXlM1ak1a9",
        "outputId": "55da9574-9c0f-4367-e419-0b43fbf1b280"
      },
      "id": "1SIXlM1ak1a9",
      "execution_count": 96,
      "outputs": [
        {
          "output_type": "execute_result",
          "data": {
            "text/plain": [
              "(962, 7)"
            ]
          },
          "metadata": {},
          "execution_count": 96
        }
      ]
    },
    {
      "cell_type": "code",
      "source": [
        "y_test.shape"
      ],
      "metadata": {
        "colab": {
          "base_uri": "https://localhost:8080/"
        },
        "id": "xpOZntJHk3DO",
        "outputId": "c2b6c8a7-0d0e-40ba-cbf8-5581ac18a825"
      },
      "id": "xpOZntJHk3DO",
      "execution_count": 97,
      "outputs": [
        {
          "output_type": "execute_result",
          "data": {
            "text/plain": [
              "(962, 7)"
            ]
          },
          "metadata": {},
          "execution_count": 97
        }
      ]
    },
    {
      "cell_type": "code",
      "source": [],
      "metadata": {
        "id": "BlMxIbTLlLvV"
      },
      "id": "BlMxIbTLlLvV",
      "execution_count": null,
      "outputs": []
    }
  ],
  "metadata": {
    "kernelspec": {
      "display_name": "Python 3 (ipykernel)",
      "language": "python",
      "name": "python3"
    },
    "language_info": {
      "codemirror_mode": {
        "name": "ipython",
        "version": 3
      },
      "file_extension": ".py",
      "mimetype": "text/x-python",
      "name": "python",
      "nbconvert_exporter": "python",
      "pygments_lexer": "ipython3",
      "version": "3.9.13"
    },
    "colab": {
      "provenance": [],
      "include_colab_link": true
    }
  },
  "nbformat": 4,
  "nbformat_minor": 5
}