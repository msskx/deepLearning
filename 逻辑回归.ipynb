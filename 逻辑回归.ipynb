{
  "nbformat": 4,
  "nbformat_minor": 0,
  "metadata": {
    "colab": {
      "provenance": [],
      "mount_file_id": "146Dr4NLTewODaXJoxLpqsEC6v5ss9Z9K",
      "authorship_tag": "ABX9TyNdkH6PlCe/l++EeKCT0VjS",
      "include_colab_link": true
    },
    "kernelspec": {
      "name": "python3",
      "display_name": "Python 3"
    },
    "language_info": {
      "name": "python"
    },
    "accelerator": "TPU",
    "gpuClass": "standard"
  },
  "cells": [
    {
      "cell_type": "markdown",
      "metadata": {
        "id": "view-in-github",
        "colab_type": "text"
      },
      "source": [
        "<a href=\"https://colab.research.google.com/github/msskx/deepLearning/blob/main/%E9%80%BB%E8%BE%91%E5%9B%9E%E5%BD%92.ipynb\" target=\"_parent\"><img src=\"https://colab.research.google.com/assets/colab-badge.svg\" alt=\"Open In Colab\"/></a>"
      ]
    },
    {
      "cell_type": "code",
      "execution_count": 1,
      "metadata": {
        "id": "B5wRAiVnKdVo"
      },
      "outputs": [],
      "source": [
        "import torch\n",
        "import numpy as np\n",
        "import pandas as pd"
      ]
    },
    {
      "cell_type": "code",
      "source": [
        "from google.colab import drive\n",
        "drive.mount('/content/drive')"
      ],
      "metadata": {
        "colab": {
          "base_uri": "https://localhost:8080/"
        },
        "id": "Ru3nttBSze98",
        "outputId": "b941e39a-a637-456e-c695-21d74c93c2ea"
      },
      "execution_count": 2,
      "outputs": [
        {
          "output_type": "stream",
          "name": "stdout",
          "text": [
            "Mounted at /content/drive\n"
          ]
        }
      ]
    },
    {
      "cell_type": "code",
      "source": [
        "data=pd.read_csv(\"./drive/MyDrive/torch学习笔记/credit-a.csv\",header=None)"
      ],
      "metadata": {
        "id": "NLO-8VL_zgHK"
      },
      "execution_count": 3,
      "outputs": []
    },
    {
      "cell_type": "code",
      "source": [
        "data"
      ],
      "metadata": {
        "colab": {
          "base_uri": "https://localhost:8080/",
          "height": 424
        },
        "id": "zztk1ZR7zgKa",
        "outputId": "a5108543-d622-49b9-9b8b-19debcf5dba2"
      },
      "execution_count": 4,
      "outputs": [
        {
          "output_type": "execute_result",
          "data": {
            "text/plain": [
              "     0      1       2   3   4   5   6     7   8   9   10  11  12   13     14  \\\n",
              "0     0  30.83   0.000   0   0   9   0  1.25   0   0   1   1   0  202    0.0   \n",
              "1     1  58.67   4.460   0   0   8   1  3.04   0   0   6   1   0   43  560.0   \n",
              "2     1  24.50   0.500   0   0   8   1  1.50   0   1   0   1   0  280  824.0   \n",
              "3     0  27.83   1.540   0   0   9   0  3.75   0   0   5   0   0  100    3.0   \n",
              "4     0  20.17   5.625   0   0   9   0  1.71   0   1   0   1   2  120    0.0   \n",
              "..   ..    ...     ...  ..  ..  ..  ..   ...  ..  ..  ..  ..  ..  ...    ...   \n",
              "648   0  21.08  10.085   1   1  11   1  1.25   1   1   0   1   0  260    0.0   \n",
              "649   1  22.67   0.750   0   0   0   0  2.00   1   0   2   0   0  200  394.0   \n",
              "650   1  25.25  13.500   1   1  13   7  2.00   1   0   1   0   0  200    1.0   \n",
              "651   0  17.92   0.205   0   0  12   0  0.04   1   1   0   1   0  280  750.0   \n",
              "652   0  35.00   3.375   0   0   0   1  8.29   1   1   0   0   0    0    0.0   \n",
              "\n",
              "     15  \n",
              "0    -1  \n",
              "1    -1  \n",
              "2    -1  \n",
              "3    -1  \n",
              "4    -1  \n",
              "..   ..  \n",
              "648   1  \n",
              "649   1  \n",
              "650   1  \n",
              "651   1  \n",
              "652   1  \n",
              "\n",
              "[653 rows x 16 columns]"
            ],
            "text/html": [
              "\n",
              "  <div id=\"df-8d29e043-55af-42bd-a809-7c85224b7f27\">\n",
              "    <div class=\"colab-df-container\">\n",
              "      <div>\n",
              "<style scoped>\n",
              "    .dataframe tbody tr th:only-of-type {\n",
              "        vertical-align: middle;\n",
              "    }\n",
              "\n",
              "    .dataframe tbody tr th {\n",
              "        vertical-align: top;\n",
              "    }\n",
              "\n",
              "    .dataframe thead th {\n",
              "        text-align: right;\n",
              "    }\n",
              "</style>\n",
              "<table border=\"1\" class=\"dataframe\">\n",
              "  <thead>\n",
              "    <tr style=\"text-align: right;\">\n",
              "      <th></th>\n",
              "      <th>0</th>\n",
              "      <th>1</th>\n",
              "      <th>2</th>\n",
              "      <th>3</th>\n",
              "      <th>4</th>\n",
              "      <th>5</th>\n",
              "      <th>6</th>\n",
              "      <th>7</th>\n",
              "      <th>8</th>\n",
              "      <th>9</th>\n",
              "      <th>10</th>\n",
              "      <th>11</th>\n",
              "      <th>12</th>\n",
              "      <th>13</th>\n",
              "      <th>14</th>\n",
              "      <th>15</th>\n",
              "    </tr>\n",
              "  </thead>\n",
              "  <tbody>\n",
              "    <tr>\n",
              "      <th>0</th>\n",
              "      <td>0</td>\n",
              "      <td>30.83</td>\n",
              "      <td>0.000</td>\n",
              "      <td>0</td>\n",
              "      <td>0</td>\n",
              "      <td>9</td>\n",
              "      <td>0</td>\n",
              "      <td>1.25</td>\n",
              "      <td>0</td>\n",
              "      <td>0</td>\n",
              "      <td>1</td>\n",
              "      <td>1</td>\n",
              "      <td>0</td>\n",
              "      <td>202</td>\n",
              "      <td>0.0</td>\n",
              "      <td>-1</td>\n",
              "    </tr>\n",
              "    <tr>\n",
              "      <th>1</th>\n",
              "      <td>1</td>\n",
              "      <td>58.67</td>\n",
              "      <td>4.460</td>\n",
              "      <td>0</td>\n",
              "      <td>0</td>\n",
              "      <td>8</td>\n",
              "      <td>1</td>\n",
              "      <td>3.04</td>\n",
              "      <td>0</td>\n",
              "      <td>0</td>\n",
              "      <td>6</td>\n",
              "      <td>1</td>\n",
              "      <td>0</td>\n",
              "      <td>43</td>\n",
              "      <td>560.0</td>\n",
              "      <td>-1</td>\n",
              "    </tr>\n",
              "    <tr>\n",
              "      <th>2</th>\n",
              "      <td>1</td>\n",
              "      <td>24.50</td>\n",
              "      <td>0.500</td>\n",
              "      <td>0</td>\n",
              "      <td>0</td>\n",
              "      <td>8</td>\n",
              "      <td>1</td>\n",
              "      <td>1.50</td>\n",
              "      <td>0</td>\n",
              "      <td>1</td>\n",
              "      <td>0</td>\n",
              "      <td>1</td>\n",
              "      <td>0</td>\n",
              "      <td>280</td>\n",
              "      <td>824.0</td>\n",
              "      <td>-1</td>\n",
              "    </tr>\n",
              "    <tr>\n",
              "      <th>3</th>\n",
              "      <td>0</td>\n",
              "      <td>27.83</td>\n",
              "      <td>1.540</td>\n",
              "      <td>0</td>\n",
              "      <td>0</td>\n",
              "      <td>9</td>\n",
              "      <td>0</td>\n",
              "      <td>3.75</td>\n",
              "      <td>0</td>\n",
              "      <td>0</td>\n",
              "      <td>5</td>\n",
              "      <td>0</td>\n",
              "      <td>0</td>\n",
              "      <td>100</td>\n",
              "      <td>3.0</td>\n",
              "      <td>-1</td>\n",
              "    </tr>\n",
              "    <tr>\n",
              "      <th>4</th>\n",
              "      <td>0</td>\n",
              "      <td>20.17</td>\n",
              "      <td>5.625</td>\n",
              "      <td>0</td>\n",
              "      <td>0</td>\n",
              "      <td>9</td>\n",
              "      <td>0</td>\n",
              "      <td>1.71</td>\n",
              "      <td>0</td>\n",
              "      <td>1</td>\n",
              "      <td>0</td>\n",
              "      <td>1</td>\n",
              "      <td>2</td>\n",
              "      <td>120</td>\n",
              "      <td>0.0</td>\n",
              "      <td>-1</td>\n",
              "    </tr>\n",
              "    <tr>\n",
              "      <th>...</th>\n",
              "      <td>...</td>\n",
              "      <td>...</td>\n",
              "      <td>...</td>\n",
              "      <td>...</td>\n",
              "      <td>...</td>\n",
              "      <td>...</td>\n",
              "      <td>...</td>\n",
              "      <td>...</td>\n",
              "      <td>...</td>\n",
              "      <td>...</td>\n",
              "      <td>...</td>\n",
              "      <td>...</td>\n",
              "      <td>...</td>\n",
              "      <td>...</td>\n",
              "      <td>...</td>\n",
              "      <td>...</td>\n",
              "    </tr>\n",
              "    <tr>\n",
              "      <th>648</th>\n",
              "      <td>0</td>\n",
              "      <td>21.08</td>\n",
              "      <td>10.085</td>\n",
              "      <td>1</td>\n",
              "      <td>1</td>\n",
              "      <td>11</td>\n",
              "      <td>1</td>\n",
              "      <td>1.25</td>\n",
              "      <td>1</td>\n",
              "      <td>1</td>\n",
              "      <td>0</td>\n",
              "      <td>1</td>\n",
              "      <td>0</td>\n",
              "      <td>260</td>\n",
              "      <td>0.0</td>\n",
              "      <td>1</td>\n",
              "    </tr>\n",
              "    <tr>\n",
              "      <th>649</th>\n",
              "      <td>1</td>\n",
              "      <td>22.67</td>\n",
              "      <td>0.750</td>\n",
              "      <td>0</td>\n",
              "      <td>0</td>\n",
              "      <td>0</td>\n",
              "      <td>0</td>\n",
              "      <td>2.00</td>\n",
              "      <td>1</td>\n",
              "      <td>0</td>\n",
              "      <td>2</td>\n",
              "      <td>0</td>\n",
              "      <td>0</td>\n",
              "      <td>200</td>\n",
              "      <td>394.0</td>\n",
              "      <td>1</td>\n",
              "    </tr>\n",
              "    <tr>\n",
              "      <th>650</th>\n",
              "      <td>1</td>\n",
              "      <td>25.25</td>\n",
              "      <td>13.500</td>\n",
              "      <td>1</td>\n",
              "      <td>1</td>\n",
              "      <td>13</td>\n",
              "      <td>7</td>\n",
              "      <td>2.00</td>\n",
              "      <td>1</td>\n",
              "      <td>0</td>\n",
              "      <td>1</td>\n",
              "      <td>0</td>\n",
              "      <td>0</td>\n",
              "      <td>200</td>\n",
              "      <td>1.0</td>\n",
              "      <td>1</td>\n",
              "    </tr>\n",
              "    <tr>\n",
              "      <th>651</th>\n",
              "      <td>0</td>\n",
              "      <td>17.92</td>\n",
              "      <td>0.205</td>\n",
              "      <td>0</td>\n",
              "      <td>0</td>\n",
              "      <td>12</td>\n",
              "      <td>0</td>\n",
              "      <td>0.04</td>\n",
              "      <td>1</td>\n",
              "      <td>1</td>\n",
              "      <td>0</td>\n",
              "      <td>1</td>\n",
              "      <td>0</td>\n",
              "      <td>280</td>\n",
              "      <td>750.0</td>\n",
              "      <td>1</td>\n",
              "    </tr>\n",
              "    <tr>\n",
              "      <th>652</th>\n",
              "      <td>0</td>\n",
              "      <td>35.00</td>\n",
              "      <td>3.375</td>\n",
              "      <td>0</td>\n",
              "      <td>0</td>\n",
              "      <td>0</td>\n",
              "      <td>1</td>\n",
              "      <td>8.29</td>\n",
              "      <td>1</td>\n",
              "      <td>1</td>\n",
              "      <td>0</td>\n",
              "      <td>0</td>\n",
              "      <td>0</td>\n",
              "      <td>0</td>\n",
              "      <td>0.0</td>\n",
              "      <td>1</td>\n",
              "    </tr>\n",
              "  </tbody>\n",
              "</table>\n",
              "<p>653 rows × 16 columns</p>\n",
              "</div>\n",
              "      <button class=\"colab-df-convert\" onclick=\"convertToInteractive('df-8d29e043-55af-42bd-a809-7c85224b7f27')\"\n",
              "              title=\"Convert this dataframe to an interactive table.\"\n",
              "              style=\"display:none;\">\n",
              "        \n",
              "  <svg xmlns=\"http://www.w3.org/2000/svg\" height=\"24px\"viewBox=\"0 0 24 24\"\n",
              "       width=\"24px\">\n",
              "    <path d=\"M0 0h24v24H0V0z\" fill=\"none\"/>\n",
              "    <path d=\"M18.56 5.44l.94 2.06.94-2.06 2.06-.94-2.06-.94-.94-2.06-.94 2.06-2.06.94zm-11 1L8.5 8.5l.94-2.06 2.06-.94-2.06-.94L8.5 2.5l-.94 2.06-2.06.94zm10 10l.94 2.06.94-2.06 2.06-.94-2.06-.94-.94-2.06-.94 2.06-2.06.94z\"/><path d=\"M17.41 7.96l-1.37-1.37c-.4-.4-.92-.59-1.43-.59-.52 0-1.04.2-1.43.59L10.3 9.45l-7.72 7.72c-.78.78-.78 2.05 0 2.83L4 21.41c.39.39.9.59 1.41.59.51 0 1.02-.2 1.41-.59l7.78-7.78 2.81-2.81c.8-.78.8-2.07 0-2.86zM5.41 20L4 18.59l7.72-7.72 1.47 1.35L5.41 20z\"/>\n",
              "  </svg>\n",
              "      </button>\n",
              "      \n",
              "  <style>\n",
              "    .colab-df-container {\n",
              "      display:flex;\n",
              "      flex-wrap:wrap;\n",
              "      gap: 12px;\n",
              "    }\n",
              "\n",
              "    .colab-df-convert {\n",
              "      background-color: #E8F0FE;\n",
              "      border: none;\n",
              "      border-radius: 50%;\n",
              "      cursor: pointer;\n",
              "      display: none;\n",
              "      fill: #1967D2;\n",
              "      height: 32px;\n",
              "      padding: 0 0 0 0;\n",
              "      width: 32px;\n",
              "    }\n",
              "\n",
              "    .colab-df-convert:hover {\n",
              "      background-color: #E2EBFA;\n",
              "      box-shadow: 0px 1px 2px rgba(60, 64, 67, 0.3), 0px 1px 3px 1px rgba(60, 64, 67, 0.15);\n",
              "      fill: #174EA6;\n",
              "    }\n",
              "\n",
              "    [theme=dark] .colab-df-convert {\n",
              "      background-color: #3B4455;\n",
              "      fill: #D2E3FC;\n",
              "    }\n",
              "\n",
              "    [theme=dark] .colab-df-convert:hover {\n",
              "      background-color: #434B5C;\n",
              "      box-shadow: 0px 1px 3px 1px rgba(0, 0, 0, 0.15);\n",
              "      filter: drop-shadow(0px 1px 2px rgba(0, 0, 0, 0.3));\n",
              "      fill: #FFFFFF;\n",
              "    }\n",
              "  </style>\n",
              "\n",
              "      <script>\n",
              "        const buttonEl =\n",
              "          document.querySelector('#df-8d29e043-55af-42bd-a809-7c85224b7f27 button.colab-df-convert');\n",
              "        buttonEl.style.display =\n",
              "          google.colab.kernel.accessAllowed ? 'block' : 'none';\n",
              "\n",
              "        async function convertToInteractive(key) {\n",
              "          const element = document.querySelector('#df-8d29e043-55af-42bd-a809-7c85224b7f27');\n",
              "          const dataTable =\n",
              "            await google.colab.kernel.invokeFunction('convertToInteractive',\n",
              "                                                     [key], {});\n",
              "          if (!dataTable) return;\n",
              "\n",
              "          const docLinkHtml = 'Like what you see? Visit the ' +\n",
              "            '<a target=\"_blank\" href=https://colab.research.google.com/notebooks/data_table.ipynb>data table notebook</a>'\n",
              "            + ' to learn more about interactive tables.';\n",
              "          element.innerHTML = '';\n",
              "          dataTable['output_type'] = 'display_data';\n",
              "          await google.colab.output.renderOutput(dataTable, element);\n",
              "          const docLink = document.createElement('div');\n",
              "          docLink.innerHTML = docLinkHtml;\n",
              "          element.appendChild(docLink);\n",
              "        }\n",
              "      </script>\n",
              "    </div>\n",
              "  </div>\n",
              "  "
            ]
          },
          "metadata": {},
          "execution_count": 4
        }
      ]
    },
    {
      "cell_type": "code",
      "source": [
        "X=torch.from_numpy(data.iloc[:,:-1].values).type(torch.float32)"
      ],
      "metadata": {
        "id": "nxV_r7pNz-eE"
      },
      "execution_count": 5,
      "outputs": []
    },
    {
      "cell_type": "code",
      "source": [
        "temp=data.iloc[:,-1].replace(-1,0)"
      ],
      "metadata": {
        "id": "P9D-VOt65SXb"
      },
      "execution_count": 40,
      "outputs": []
    },
    {
      "cell_type": "code",
      "source": [
        "Y=torch.from_numpy(temp.values.reshape(-1,1)).type(torch.float32)"
      ],
      "metadata": {
        "id": "CTX90LH00FCz"
      },
      "execution_count": 41,
      "outputs": []
    },
    {
      "cell_type": "code",
      "source": [],
      "metadata": {
        "id": "8lENWyUq5EjM"
      },
      "execution_count": 41,
      "outputs": []
    },
    {
      "cell_type": "code",
      "source": [
        "from torch import nn"
      ],
      "metadata": {
        "id": "O3Z-nTYw0Fux"
      },
      "execution_count": 42,
      "outputs": []
    },
    {
      "cell_type": "code",
      "source": [
        "from torch.nn.modules.activation import Sigmoid\n",
        "model=nn.Sequential(\n",
        "    nn.Linear(15,32),\n",
        "    nn.ReLU(),\n",
        "    nn.Linear(32,1),\n",
        "    nn.Sigmoid()\n",
        ")"
      ],
      "metadata": {
        "id": "kLb2jwT40-aj"
      },
      "execution_count": 61,
      "outputs": []
    },
    {
      "cell_type": "code",
      "source": [
        "model"
      ],
      "metadata": {
        "id": "OfFtpgbv0gBV",
        "outputId": "550c657e-29ec-4a81-82be-46b1df55dab8",
        "colab": {
          "base_uri": "https://localhost:8080/"
        }
      },
      "execution_count": 62,
      "outputs": [
        {
          "output_type": "execute_result",
          "data": {
            "text/plain": [
              "Sequential(\n",
              "  (0): Linear(in_features=15, out_features=32, bias=True)\n",
              "  (1): ReLU()\n",
              "  (2): Linear(in_features=32, out_features=1, bias=True)\n",
              "  (3): Sigmoid()\n",
              ")"
            ]
          },
          "metadata": {},
          "execution_count": 62
        }
      ]
    },
    {
      "cell_type": "code",
      "source": [
        "loss_func=nn.BCELoss()"
      ],
      "metadata": {
        "id": "rEibGSzt0g7q"
      },
      "execution_count": 63,
      "outputs": []
    },
    {
      "cell_type": "code",
      "source": [
        "opt=torch.optim.Adam(model.parameters(),lr=0.0001)"
      ],
      "metadata": {
        "id": "1joQTkNr0m6U"
      },
      "execution_count": 64,
      "outputs": []
    },
    {
      "cell_type": "code",
      "source": [
        "batches=16\n",
        "no_of_batch=653//16\n",
        "epoches=1000"
      ],
      "metadata": {
        "id": "gq23zlyQ0zXR"
      },
      "execution_count": 65,
      "outputs": []
    },
    {
      "cell_type": "code",
      "source": [
        "for epoch in range(epoches):\n",
        "  for i in range(no_of_batch):\n",
        "    start= i *batches\n",
        "    end=start+batches\n",
        "    x=X[start:end]\n",
        "    y=Y[start:end]\n",
        "    y_pred=model(x)\n",
        "    loss=loss_func(y_pred,y)\n",
        "    opt.zero_grad()\n",
        "    loss.backward()\n",
        "    opt.step()"
      ],
      "metadata": {
        "id": "Os7Y6b7q1lgg"
      },
      "execution_count": 66,
      "outputs": []
    },
    {
      "cell_type": "code",
      "source": [
        "model.state_dict()"
      ],
      "metadata": {
        "id": "FY1Qxg5R3Jzb",
        "outputId": "8eb9c865-25f2-4d01-90a8-6b1b86193a4b",
        "colab": {
          "base_uri": "https://localhost:8080/"
        }
      },
      "execution_count": 67,
      "outputs": [
        {
          "output_type": "execute_result",
          "data": {
            "text/plain": [
              "OrderedDict([('0.weight',\n",
              "              tensor([[ 9.1098e-02, -1.4875e-01,  2.1707e-02, -1.4673e-01,  1.6094e-01,\n",
              "                       -9.1023e-03,  2.4624e-02, -1.1328e-01,  1.7967e+00,  1.4578e-01,\n",
              "                       -2.0101e-01,  1.3519e-01, -9.3419e-02,  9.2776e-02,  1.1890e-01],\n",
              "                      [-1.4843e-01, -2.7859e-04,  2.9827e-01,  2.1465e-01,  2.9046e-01,\n",
              "                        2.2032e-01,  5.6666e-01, -4.8276e-01,  1.8161e+00,  4.1833e-01,\n",
              "                        1.7715e-01,  2.7928e-01,  2.6182e-01, -1.0169e-01,  1.9576e-01],\n",
              "                      [ 1.8505e-01, -8.9561e-02, -2.3270e-02, -8.2414e-02,  1.4468e-01,\n",
              "                        2.1618e-02, -2.5744e-01, -2.7724e-01, -1.3404e+00, -3.8623e-01,\n",
              "                        2.4772e-01,  2.6467e-02, -9.7534e-02,  9.8755e-02, -6.4386e-02],\n",
              "                      [-5.8939e-01, -1.9115e-01, -5.7809e-02,  3.6074e-01,  1.3689e-01,\n",
              "                       -9.6312e-03,  1.3088e-01, -8.1657e-01,  2.0487e+00,  5.2662e-01,\n",
              "                       -2.4116e-01, -1.0271e-01,  1.1455e-01, -2.2602e-02,  6.5076e-02],\n",
              "                      [ 5.3665e-01, -8.1175e-02,  2.5268e-01, -3.8020e-01, -1.9319e-01,\n",
              "                        2.7423e-01,  1.3369e-01,  1.6073e-01, -1.2537e+00,  1.8829e-01,\n",
              "                        1.7203e-01, -1.2880e-01, -2.1802e-01, -5.9295e-02, -5.8384e-01],\n",
              "                      [ 1.4331e-01,  2.0051e-01, -2.5547e-01,  2.7822e-01, -2.6513e-02,\n",
              "                        1.2772e-01,  3.3353e-02,  6.1003e-01, -1.4610e+00, -1.7445e-01,\n",
              "                        4.3688e-01, -2.8443e-01, -4.9561e-01, -1.2854e-01,  2.0147e-02],\n",
              "                      [ 3.4988e-01, -1.1746e-01, -2.4006e-01, -2.2310e-01, -3.9250e-01,\n",
              "                        1.5800e-01, -3.8056e-01,  6.7826e-01, -2.0104e+00, -5.0682e-01,\n",
              "                        2.6552e-01, -7.6704e-02,  1.1448e-01, -9.3128e-02,  1.4999e-01],\n",
              "                      [-2.0592e-02,  2.7855e-02, -2.3920e-01, -7.3494e-02, -5.6068e-02,\n",
              "                       -4.0624e-02,  3.6440e-01,  1.3569e-02,  1.6746e+00,  5.9272e-02,\n",
              "                       -1.1964e-01,  6.1659e-02,  5.4796e-02,  1.2647e-01,  6.5178e-02],\n",
              "                      [ 2.0804e-01,  1.1518e-01,  2.6742e-01, -3.2870e-01, -1.7692e-01,\n",
              "                        2.3993e-02, -5.9243e-02, -9.0858e-02, -1.1901e+00, -3.6279e-02,\n",
              "                        4.7849e-02,  1.8643e-01,  1.8663e-01,  2.1428e-01, -1.0411e-01],\n",
              "                      [ 8.9628e-02,  2.0625e-01,  1.7790e-01,  2.1032e-01,  3.2347e-01,\n",
              "                        2.0330e-01, -2.8217e-03,  1.4322e-01,  1.7095e+00,  4.8974e-01,\n",
              "                       -2.7178e-01, -2.6843e-01, -1.6731e-01,  6.2972e-02,  1.3088e-01],\n",
              "                      [ 2.7442e-01,  7.2346e-02, -3.5230e-02, -2.2662e-01, -1.0769e-01,\n",
              "                        1.5340e-01, -3.9672e-01, -6.4272e-02, -1.4864e+00, -5.9380e-01,\n",
              "                        5.6996e-03,  1.9248e-01,  8.4532e-02,  1.5421e-01,  2.4980e-01],\n",
              "                      [-1.2557e-01, -3.5160e-02, -2.5528e-01,  8.0057e-02, -3.8425e-02,\n",
              "                       -1.2425e-01, -9.4608e-02,  2.6153e-01,  1.0214e+00, -2.6726e-02,\n",
              "                       -1.3730e-01, -4.1937e-01, -5.5364e-02,  2.2245e-01, -1.0295e-01],\n",
              "                      [ 5.2599e-01,  6.8075e-03, -3.0170e-01, -2.9218e-03, -1.6170e-01,\n",
              "                        8.0604e-02, -4.4501e-01,  3.9425e-02, -2.1791e+00, -7.9681e-01,\n",
              "                       -1.0936e-02, -1.2985e-01, -2.6650e-01, -5.1477e-02,  2.7116e-01],\n",
              "                      [-3.5965e-01,  6.8564e-02, -1.2368e-01, -7.8804e-01, -7.6665e-01,\n",
              "                        1.7169e-02,  8.9204e-02,  7.0396e-01, -8.0389e-01,  4.1114e-01,\n",
              "                       -1.2145e-01,  1.0433e-01, -1.2759e-01, -5.9499e-02, -8.1625e-01],\n",
              "                      [ 4.2174e-01,  5.4740e-02,  4.6767e-01,  5.5137e-01,  6.5662e-01,\n",
              "                       -1.4258e-03, -1.1519e-01, -1.2300e-01,  6.4253e-01, -5.3017e-01,\n",
              "                       -9.6986e-01, -1.2764e-01,  1.0456e-01, -3.0405e-01, -5.1434e-02],\n",
              "                      [-3.2652e-02,  1.2274e-01, -1.4223e-01,  4.2513e-03, -8.7012e-02,\n",
              "                       -1.0707e-01, -5.1543e-02, -2.5070e-01, -1.3194e+00, -4.0985e-01,\n",
              "                       -1.7105e-02,  2.1867e-01,  1.5447e-01,  2.4313e-01, -1.7067e-01],\n",
              "                      [-1.8432e-02,  7.5680e-02,  2.7313e-02, -1.7010e-02,  2.5461e-01,\n",
              "                        1.5523e-02,  2.5639e-01, -6.4374e-01,  1.9797e+00,  4.7168e-01,\n",
              "                       -3.7656e-01,  4.1556e-02,  3.9392e-01, -2.5770e-01,  1.8482e-01],\n",
              "                      [-8.1242e-02, -8.3301e-02,  2.4005e-01,  9.9763e-02, -9.9457e-02,\n",
              "                       -3.5427e-02, -3.5823e-01,  1.3702e-01, -1.4065e+00, -1.9108e-01,\n",
              "                        1.2120e-01,  2.9073e-01,  3.3643e-01,  2.2754e-01,  8.0455e-02],\n",
              "                      [-4.3768e-01,  1.0677e-01,  8.3568e-02, -5.0926e-01, -7.1507e-01,\n",
              "                        3.2914e-02,  1.1309e-01,  2.9550e-01, -6.5822e-01,  1.1655e-01,\n",
              "                       -2.2031e-01, -1.8646e-01, -1.2338e-01, -1.4103e-01, -9.4060e-02],\n",
              "                      [-5.1164e-01, -1.4343e-01,  1.1229e-02,  8.5350e-02,  2.1094e-01,\n",
              "                       -1.1883e-01,  4.6858e-01, -7.3143e-01,  1.6215e+00,  5.5104e-01,\n",
              "                       -5.9039e-01,  4.9277e-02, -1.8028e-01, -1.9312e-01,  1.6425e-01],\n",
              "                      [ 4.3451e-02,  1.2273e-01, -9.8029e-02, -1.0025e-01,  3.6476e-01,\n",
              "                       -1.3267e-01,  1.7594e-01, -1.2813e-01,  1.5644e+00,  3.9989e-01,\n",
              "                       -4.0760e-01, -3.8373e-01, -1.1113e-02,  1.5165e-01,  5.5070e-03],\n",
              "                      [ 1.2239e-01, -1.1330e-01, -1.6769e-01,  1.4119e-01, -1.1612e-01,\n",
              "                        1.3651e-01, -1.0524e-01, -1.1097e-01, -1.6161e-01, -9.0275e-02,\n",
              "                       -2.4384e-02, -1.1830e-02,  1.0248e-01, -1.9355e-01, -2.0414e-01],\n",
              "                      [-1.4728e-01,  1.0415e-01,  1.1118e-01, -2.5358e-02,  2.0192e-01,\n",
              "                        2.0069e-01,  1.1586e-01, -3.1452e-01,  1.0921e+00,  4.3448e-01,\n",
              "                        1.0673e-01, -3.5597e-04, -1.4783e-02, -6.3264e-03, -1.7014e-02],\n",
              "                      [ 1.5713e-01,  6.6085e-02,  4.6283e-02, -3.2593e-01,  5.6149e-02,\n",
              "                        1.0938e-01, -1.9566e-01,  1.7161e-01, -1.5778e+00, -5.0052e-01,\n",
              "                        2.1428e-01, -1.7052e-01, -3.8200e-02,  7.8635e-03,  1.1027e-01],\n",
              "                      [-9.7289e-04, -1.5950e-01, -2.1942e-02,  2.5223e-01, -2.2280e-01,\n",
              "                       -3.3354e-01, -1.7913e-01, -4.0583e-02,  7.7893e-01,  6.0268e-04,\n",
              "                       -9.5956e-02, -3.8791e-01, -8.1040e-02,  1.2063e-01, -1.2981e-01],\n",
              "                      [-1.5033e-01,  2.0877e-01, -1.1957e-01, -7.2822e-01, -2.9376e-01,\n",
              "                       -2.9978e-01,  3.8679e-01,  2.4863e-01, -8.6627e-01,  4.2226e-01,\n",
              "                        1.9925e-01,  2.6039e-02, -4.0837e-01, -3.7603e-01, -4.7778e-02],\n",
              "                      [ 1.3698e-01, -4.7392e-02,  2.3093e-02, -2.4256e-02,  5.7243e-02,\n",
              "                        2.3202e-01,  1.8261e-01, -1.1031e-01, -1.0198e+00, -9.4622e-02,\n",
              "                        1.1546e-01, -4.1773e-02, -1.4537e-01,  9.5095e-02, -1.3945e-01],\n",
              "                      [ 1.8361e-01, -1.8683e-01, -1.9722e-04, -2.5505e-01,  3.0175e-02,\n",
              "                        2.5310e-01,  1.2110e-01, -2.2602e-01, -1.3781e-01,  1.7470e-01,\n",
              "                       -9.1462e-02, -3.8283e-02, -1.4068e-01, -1.1958e-01, -1.1247e-01],\n",
              "                      [ 5.5640e-02, -1.4745e-01, -8.9033e-02, -1.4761e-01, -1.0233e-01,\n",
              "                        1.8517e-01, -3.5138e-01,  5.9706e-02, -1.5093e+00, -3.5512e-01,\n",
              "                        3.1617e-01, -3.0106e-02,  5.1743e-02,  9.8747e-02,  1.2437e-01],\n",
              "                      [ 5.4833e-02,  1.0621e-01, -2.8613e-01,  6.5825e-01,  5.3674e-01,\n",
              "                        2.4695e-01, -3.2309e-01, -8.4913e-02,  1.2374e+00,  6.9632e-03,\n",
              "                        4.9385e-02,  1.6960e-01,  4.8707e-01, -1.2219e-01, -4.8619e-03],\n",
              "                      [ 1.8815e-01,  1.1884e-01,  6.1563e-02, -4.9140e-02,  7.3598e-02,\n",
              "                        1.2813e-01, -1.1123e-01, -7.6896e-02,  1.1616e+00,  4.8657e-02,\n",
              "                        1.7753e-01,  1.1693e-01, -8.2826e-02,  2.0654e-01, -1.0881e-01],\n",
              "                      [-1.5842e-01, -1.3549e-01, -7.4212e-02, -2.0798e-01, -1.1581e-01,\n",
              "                        2.0926e-01, -1.7587e-01,  9.0932e-02, -2.3861e-01,  2.2486e-01,\n",
              "                       -2.4926e-01, -1.9824e-01,  1.8920e-01, -2.1758e-02, -1.3377e-01]])),\n",
              "             ('0.bias',\n",
              "              tensor([-0.0580,  0.0608, -0.2127,  0.2749,  0.2568, -0.1832, -0.3202, -0.0173,\n",
              "                       0.0231, -0.0655, -0.2318, -0.0227, -0.2096,  0.1952, -0.4066, -0.0008,\n",
              "                       0.0024,  0.0727,  0.5843,  0.1255, -0.1551, -0.2034,  0.2255,  0.1725,\n",
              "                       0.1483,  0.3875,  0.1671, -0.1659,  0.0822, -0.2577, -0.2085,  0.1215])),\n",
              "             ('2.weight',\n",
              "              tensor([[ 0.1512,  0.0804, -0.0836,  0.0778, -0.6744, -0.1072, -0.0672,  0.1280,\n",
              "                       -0.1121,  0.0758, -0.0409,  0.0232, -0.1231, -0.7284,  0.4575, -0.1617,\n",
              "                        0.0693, -0.0407, -0.2592,  0.0841,  0.0945,  0.0889,  0.2348, -0.1718,\n",
              "                        0.1015, -0.3553, -0.0406, -0.0212, -0.0560,  0.4737,  0.1537,  0.1612]])),\n",
              "             ('2.bias', tensor([-0.1093]))])"
            ]
          },
          "metadata": {},
          "execution_count": 67
        }
      ]
    },
    {
      "cell_type": "code",
      "source": [
        "((model(X).data.numpy()>0.5).astype('int')==Y.numpy()).mean()"
      ],
      "metadata": {
        "id": "tEXrWVTS3jo8",
        "outputId": "8000f0a6-5640-4f0f-f197-ea31853069da",
        "colab": {
          "base_uri": "https://localhost:8080/"
        }
      },
      "execution_count": 68,
      "outputs": [
        {
          "output_type": "execute_result",
          "data": {
            "text/plain": [
              "0.8820826952526799"
            ]
          },
          "metadata": {},
          "execution_count": 68
        }
      ]
    },
    {
      "cell_type": "code",
      "source": [],
      "metadata": {
        "id": "9hkPAFeo46KG"
      },
      "execution_count": null,
      "outputs": []
    }
  ]
}