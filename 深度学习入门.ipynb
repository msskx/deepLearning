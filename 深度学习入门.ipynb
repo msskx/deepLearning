{
  "nbformat": 4,
  "nbformat_minor": 0,
  "metadata": {
    "colab": {
      "name": "深度学习入门.ipynb",
      "provenance": [],
      "collapsed_sections": [],
      "toc_visible": true,
      "authorship_tag": "ABX9TyPWpX6wTfr3xaxY68UI92/Q",
      "include_colab_link": true
    },
    "kernelspec": {
      "name": "python3",
      "display_name": "Python 3"
    },
    "language_info": {
      "name": "python"
    }
  },
  "cells": [
    {
      "cell_type": "markdown",
      "metadata": {
        "id": "view-in-github",
        "colab_type": "text"
      },
      "source": [
        "<a href=\"https://colab.research.google.com/github/msskx/deep_study/blob/main/%E6%B7%B1%E5%BA%A6%E5%AD%A6%E4%B9%A0%E5%85%A5%E9%97%A8.ipynb\" target=\"_parent\"><img src=\"https://colab.research.google.com/assets/colab-badge.svg\" alt=\"Open In Colab\"/></a>"
      ]
    },
    {
      "cell_type": "code",
      "metadata": {
        "id": "HfqldtP0Et16"
      },
      "source": [
        "import numpy as np"
      ],
      "execution_count": 1,
      "outputs": []
    },
    {
      "cell_type": "code",
      "metadata": {
        "id": "g7A1qcc8EYuA"
      },
      "source": [
        "#阶跃函数\n",
        "\n",
        "def step_function(x):\n",
        "  y=x>0\n",
        "  return y.astype(np.int)"
      ],
      "execution_count": 2,
      "outputs": []
    },
    {
      "cell_type": "code",
      "metadata": {
        "id": "YyM_n82mE0sG"
      },
      "source": [
        "#sigmoid函数实现\n",
        "def sigmoid(x):\n",
        "  return 1/(1+np.exp(-x))"
      ],
      "execution_count": 3,
      "outputs": []
    },
    {
      "cell_type": "code",
      "metadata": {
        "id": "d1AHio3-FGWx"
      },
      "source": [
        "#relu函数实现\n",
        "def relu(x):\n",
        "  return np.maximum(0,x)"
      ],
      "execution_count": 4,
      "outputs": []
    },
    {
      "cell_type": "code",
      "metadata": {
        "id": "LVW5de5KFV3e"
      },
      "source": [
        "#恒等函数\n",
        "def h(x):\n",
        "  return x"
      ],
      "execution_count": 5,
      "outputs": []
    },
    {
      "cell_type": "code",
      "metadata": {
        "id": "PAPU8BXZGtgt"
      },
      "source": [
        "#softmax函数\n",
        "def softmax(a):\n",
        "  c=np.max(a)\n",
        "  exp_a=np.exp(a-c)#溢出对策\n",
        "  sum_exp_a=np.sum(exp_a)\n",
        "  y=exp_a/sum_exp_a\n",
        "  return y"
      ],
      "execution_count": 6,
      "outputs": []
    },
    {
      "cell_type": "code",
      "metadata": {
        "id": "ChRjTiW5GtkE"
      },
      "source": [
        "#均方误差\n",
        "def mean_squared_error(y,t):\n",
        "  return 0.5*np.sum((y-t)**2)"
      ],
      "execution_count": 7,
      "outputs": []
    },
    {
      "cell_type": "code",
      "metadata": {
        "id": "WLe9wvMkGtmq"
      },
      "source": [
        "# 交叉熵误差\n",
        "# def cross_entropy_error(y,t):\n",
        "#  delta=1e-7\n",
        "#  return -np.sum(t*np.log(y+delta))"
      ],
      "execution_count": 8,
      "outputs": []
    },
    {
      "cell_type": "code",
      "metadata": {
        "id": "m3ok4JlxGto0"
      },
      "source": [
        "#mini_batch版交叉熵误差的实现\n",
        "def cross_entropy_error(y,t):\n",
        "  if y.ndim==1:\n",
        "    t=t.reshape(1,t.size)\n",
        "    y=y.reshape(1,y.size)\n",
        "    batch_size=y.shape[0]\n",
        "    return -np.sum(np.log(y[np.arange(batch_size),t]+1e-7))/batch_size"
      ],
      "execution_count": 9,
      "outputs": []
    },
    {
      "cell_type": "code",
      "metadata": {
        "id": "uLHGsww6Gtqq"
      },
      "source": [
        "#导数\n",
        "def numerical_diff(f,x):\n",
        "  h=1e-4\n",
        "  return (f(x+h)-f(x-h))/(2*h)"
      ],
      "execution_count": 10,
      "outputs": []
    },
    {
      "cell_type": "code",
      "metadata": {
        "id": "4sY4MP0OGtst"
      },
      "source": [
        ""
      ],
      "execution_count": null,
      "outputs": []
    },
    {
      "cell_type": "code",
      "metadata": {
        "id": "fCQh4ppLGtuu"
      },
      "source": [
        ""
      ],
      "execution_count": null,
      "outputs": []
    },
    {
      "cell_type": "code",
      "metadata": {
        "id": "jiSKB1nfGtwr"
      },
      "source": [
        ""
      ],
      "execution_count": null,
      "outputs": []
    },
    {
      "cell_type": "code",
      "metadata": {
        "id": "1QQHer5HGty2"
      },
      "source": [
        ""
      ],
      "execution_count": null,
      "outputs": []
    },
    {
      "cell_type": "code",
      "metadata": {
        "id": "mzPiGfAiGt2S"
      },
      "source": [
        ""
      ],
      "execution_count": null,
      "outputs": []
    }
  ]
}